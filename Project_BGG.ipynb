{
 "cells": [
  {
   "cell_type": "markdown",
   "id": "8836f687-b9e1-496e-b538-0c62d83d20e3",
   "metadata": {},
   "source": [
    "# PROJECT BoardGamesGeek (BGG)"
   ]
  },
  {
   "cell_type": "markdown",
   "id": "8beb1cd3-6db8-495a-8848-1b70a8a93c86",
   "metadata": {},
   "source": [
    "In thi project the target is to explore aspect based sentiment analysis in boardgames"
   ]
  },
  {
   "cell_type": "markdown",
   "id": "b4b52352-7a8b-4390-b53b-2737f996a1ef",
   "metadata": {},
   "source": [
    "Importing all modules requested"
   ]
  },
  {
   "cell_type": "code",
   "execution_count": 195,
   "id": "d2feac06-e1a0-4a13-942b-ff895e7a1496",
   "metadata": {},
   "outputs": [
    {
     "name": "stderr",
     "output_type": "stream",
     "text": [
      "[nltk_data] Downloading package averaged_perceptron_tagger to\n",
      "[nltk_data]     C:\\Users\\ZStravij\\AppData\\Roaming\\nltk_data...\n",
      "[nltk_data]   Package averaged_perceptron_tagger is already up-to-\n",
      "[nltk_data]       date!\n"
     ]
    }
   ],
   "source": [
    "# set up\n",
    "import pandas as pd\n",
    "import numpy as np\n",
    "\n",
    "# for XML data retrieval\n",
    "import requests\n",
    "import xml.etree.ElementTree as ET # to parse xml data\n",
    "import io\n",
    "\n",
    "# data extraction\n",
    "import json # not needed\n",
    "from tqdm.notebook import tqdm\n",
    "from collections import defaultdict\n",
    "\n",
    "# Load SpaCy's English model\n",
    "import spacy\n",
    "# nlp = spacy.load(\"en_core_web_lg\") #large model\n",
    "nlp = spacy.load('en_core_web_sm') #small model\n",
    "import re\n",
    "import nltk\n",
    "from nltk.corpus import stopwords\n",
    "from nltk.tokenize import word_tokenize\n",
    "# if not downloaded yet, use it below for position_tagger\n",
    "nltk.download('averaged_perceptron_tagger')\n",
    "\n",
    "# to do clustering with word embedding\n",
    "from gensim.models import Word2Vec\n",
    "from gensim.models import KeyedVectors # for default model\n",
    "from gensim.test.utils import datapath # to refer to datapath of google model\n",
    "\n",
    "# for PCA manifold\n",
    "from sklearn.manifold import TSNE\n",
    "\n",
    "# to perform sentiment classification\n",
    "from textblob import TextBlob\n",
    "from vaderSentiment.vaderSentiment import SentimentIntensityAnalyzer\n",
    "\n",
    "# to generate dashboard/charts\n",
    "import matplotlib.pyplot as plt\n",
    "import seaborn as sns\n",
    "\n",
    "# warnings\n",
    "import warnings\n",
    "warnings.filterwarnings('ignore')\n",
    "\n",
    "# other various\n",
    "import math\n",
    "import time #to count time\n",
    "import langid #for language identification and filtering\n",
    "\n",
    "# to sort list with sorted function and using itemgetter\n",
    "import operator\n",
    "\n",
    "# to be used to avoid miss-spelled words if present in any\n",
    "import enchant\n",
    "d = enchant.Dict(\"en_US\") \n",
    "\n",
    "# ## not used\n",
    "# from transformers import pipeline\n",
    "# sentiment_pipeline = pipeline('sentiment-analysis') # Initialize the sentiment analysis pipelinex"
   ]
  },
  {
   "cell_type": "markdown",
   "id": "6c5ba117-0611-4524-9516-093c04fa0aa7",
   "metadata": {},
   "source": [
    "## 1. (--> long time needed!: to be run only once at the beginning): DATA PREPARATION"
   ]
  },
  {
   "cell_type": "markdown",
   "id": "4d2bc184-5a73-4914-8309-164941c68254",
   "metadata": {},
   "source": [
    "- This part show how to get the BGG dataset through the specific API.\n",
    "- We create a specific dataset that it stored as csv file for later used.\n",
    "- Threfore it is just executed at the first run of the project/script."
   ]
  },
  {
   "cell_type": "markdown",
   "id": "124987d3-ee56-4de7-9dc8-6c7167ad9c1c",
   "metadata": {},
   "source": [
    "Thanks to API we can access to data in XML format, please look at following example link for output\n",
    "- https://boardgamegeek.com/xmlapi2/thing?id=193738&type=boardgame&comments=1&stats=1&pagesize=100&page=1"
   ]
  },
  {
   "cell_type": "markdown",
   "id": "751d95df-88ea-427c-8717-9ebb78935f39",
   "metadata": {},
   "source": [
    "### 1.1 Retrieve game information"
   ]
  },
  {
   "cell_type": "markdown",
   "id": "a30d60e4-8573-4823-9555-a2a99cb9241b",
   "metadata": {},
   "source": [
    "In this first part we create simple a dataframe with the information of the top 15 boardgames"
   ]
  },
  {
   "cell_type": "code",
   "execution_count": 196,
   "id": "98e98097-4878-497b-b255-d8ca3ff180b3",
   "metadata": {},
   "outputs": [],
   "source": [
    "## Function to retrieve games information\n",
    "def extract_info_game(url_input):   \n",
    "    response = requests.get(url_input)\n",
    "    xml_data = response.content\n",
    "    # Parse the XML data\n",
    "    root = ET.fromstring(xml_data)\n",
    "    # Iterate over each \"item\" element of the BGG webpage in XML to retrieve game metadata\n",
    "    for item in root.findall('item'):\n",
    "        # Extract metadata: game id, name, year, etc.\n",
    "        game_id = item.attrib['id']\n",
    "        game_name = item.find('name').attrib['value']\n",
    "        year_published = item.find('yearpublished').attrib.get('value', None)\n",
    "        min_player = item.find('minplayers').attrib['value']\n",
    "        max_player = item.find('maxplayers').attrib['value']\n",
    "        play_time = item.find('playingtime').attrib['value']\n",
    "        avg_score = item.find(\".//average\").attrib.get('value', '')\n",
    "        avg_weight = item.find(\".//averageweight\").attrib.get('value', '')\n",
    "        n_comment = item.find('comments').attrib['totalitems']   \n",
    "    # Create the dataframe in which game data are stored\n",
    "    df = pd.DataFrame({\n",
    "        'Game_ID': [game_id],\n",
    "        'Game_Name': [game_name],\n",
    "        'Year_Published': [year_published],\n",
    "        'Min_Players': [min_player],\n",
    "        'Max_Players': [max_player],\n",
    "        'Playtime': [play_time],\n",
    "        'Avg_Score': [avg_score],\n",
    "        'Avg_Weights': [avg_weight],\n",
    "        'N_Comments': [n_comment]   \n",
    "    })\n",
    "    # print(df.shape) # to debug dimensions\n",
    "    return df"
   ]
  },
  {
   "cell_type": "code",
   "execution_count": 197,
   "id": "765fc09e-2709-4d46-8c05-f67f451dab5f",
   "metadata": {},
   "outputs": [
    {
     "data": {
      "text/html": [
       "<div>\n",
       "<style scoped>\n",
       "    .dataframe tbody tr th:only-of-type {\n",
       "        vertical-align: middle;\n",
       "    }\n",
       "\n",
       "    .dataframe tbody tr th {\n",
       "        vertical-align: top;\n",
       "    }\n",
       "\n",
       "    .dataframe thead th {\n",
       "        text-align: right;\n",
       "    }\n",
       "</style>\n",
       "<table border=\"1\" class=\"dataframe\">\n",
       "  <thead>\n",
       "    <tr style=\"text-align: right;\">\n",
       "      <th></th>\n",
       "      <th>Game_ID</th>\n",
       "      <th>Game_Name</th>\n",
       "      <th>Year_Published</th>\n",
       "      <th>Min_Players</th>\n",
       "      <th>Max_Players</th>\n",
       "      <th>Playtime</th>\n",
       "      <th>Avg_Score</th>\n",
       "      <th>Avg_Weights</th>\n",
       "      <th>N_Comments</th>\n",
       "    </tr>\n",
       "  </thead>\n",
       "  <tbody>\n",
       "    <tr>\n",
       "      <th>0</th>\n",
       "      <td>193738</td>\n",
       "      <td>Great Western Trail</td>\n",
       "      <td>2016</td>\n",
       "      <td>2</td>\n",
       "      <td>4</td>\n",
       "      <td>150</td>\n",
       "      <td>8.18359</td>\n",
       "      <td>3.7006</td>\n",
       "      <td>5343</td>\n",
       "    </tr>\n",
       "  </tbody>\n",
       "</table>\n",
       "</div>"
      ],
      "text/plain": [
       "  Game_ID            Game_Name Year_Published Min_Players Max_Players  \\\n",
       "0  193738  Great Western Trail           2016           2           4   \n",
       "\n",
       "  Playtime Avg_Score Avg_Weights N_Comments  \n",
       "0      150   8.18359      3.7006       5343  "
      ]
     },
     "execution_count": 197,
     "metadata": {},
     "output_type": "execute_result"
    }
   ],
   "source": [
    "# run one example of game info\n",
    "id_game=\"193738\"\n",
    "id_page=str(1)\n",
    "url_root1 = \"https://boardgamegeek.com/xmlapi2/thing?id=\"\n",
    "url_root2 = \"&type=boardgame&comments=1&stats=1&pagesize=100&page=\"\n",
    "url_test = url_root1+id_game+url_root2+id_page\n",
    "df_test = extract_info_game(url_test)\n",
    "df_test"
   ]
  },
  {
   "cell_type": "code",
   "execution_count": 198,
   "id": "884d200c-1228-434c-bd98-99fb72a464c3",
   "metadata": {},
   "outputs": [
    {
     "data": {
      "application/vnd.jupyter.widget-view+json": {
       "model_id": "058e65a707be4070bde8436f78c42179",
       "version_major": 2,
       "version_minor": 0
      },
      "text/plain": [
       "  0%|          | 0/15 [00:00<?, ?it/s]"
      ]
     },
     "metadata": {},
     "output_type": "display_data"
    },
    {
     "data": {
      "text/html": [
       "<div>\n",
       "<style scoped>\n",
       "    .dataframe tbody tr th:only-of-type {\n",
       "        vertical-align: middle;\n",
       "    }\n",
       "\n",
       "    .dataframe tbody tr th {\n",
       "        vertical-align: top;\n",
       "    }\n",
       "\n",
       "    .dataframe thead th {\n",
       "        text-align: right;\n",
       "    }\n",
       "</style>\n",
       "<table border=\"1\" class=\"dataframe\">\n",
       "  <thead>\n",
       "    <tr style=\"text-align: right;\">\n",
       "      <th></th>\n",
       "      <th>Game_ID</th>\n",
       "      <th>Game_Name</th>\n",
       "      <th>Year_Published</th>\n",
       "      <th>Min_Players</th>\n",
       "      <th>Max_Players</th>\n",
       "      <th>Playtime</th>\n",
       "      <th>Avg_Score</th>\n",
       "      <th>Avg_Weights</th>\n",
       "      <th>N_Comments</th>\n",
       "    </tr>\n",
       "  </thead>\n",
       "  <tbody>\n",
       "    <tr>\n",
       "      <th>0</th>\n",
       "      <td>174430</td>\n",
       "      <td>Gloomhaven</td>\n",
       "      <td>2017</td>\n",
       "      <td>1</td>\n",
       "      <td>4</td>\n",
       "      <td>120</td>\n",
       "      <td>8.57866</td>\n",
       "      <td>3.911</td>\n",
       "      <td>11029</td>\n",
       "    </tr>\n",
       "    <tr>\n",
       "      <th>1</th>\n",
       "      <td>161936</td>\n",
       "      <td>Pandemic Legacy: Season 1</td>\n",
       "      <td>2015</td>\n",
       "      <td>2</td>\n",
       "      <td>4</td>\n",
       "      <td>60</td>\n",
       "      <td>8.52367</td>\n",
       "      <td>2.8295</td>\n",
       "      <td>8119</td>\n",
       "    </tr>\n",
       "    <tr>\n",
       "      <th>2</th>\n",
       "      <td>233078</td>\n",
       "      <td>Twilight Imperium: Fourth Edition</td>\n",
       "      <td>2017</td>\n",
       "      <td>3</td>\n",
       "      <td>6</td>\n",
       "      <td>480</td>\n",
       "      <td>8.59064</td>\n",
       "      <td>4.3276</td>\n",
       "      <td>3674</td>\n",
       "    </tr>\n",
       "    <tr>\n",
       "      <th>3</th>\n",
       "      <td>115746</td>\n",
       "      <td>War of the Ring: Second Edition</td>\n",
       "      <td>2011</td>\n",
       "      <td>2</td>\n",
       "      <td>4</td>\n",
       "      <td>180</td>\n",
       "      <td>8.54622</td>\n",
       "      <td>4.2146</td>\n",
       "      <td>3790</td>\n",
       "    </tr>\n",
       "    <tr>\n",
       "      <th>4</th>\n",
       "      <td>187645</td>\n",
       "      <td>Star Wars: Rebellion</td>\n",
       "      <td>2016</td>\n",
       "      <td>2</td>\n",
       "      <td>4</td>\n",
       "      <td>240</td>\n",
       "      <td>8.41892</td>\n",
       "      <td>3.7416</td>\n",
       "      <td>4995</td>\n",
       "    </tr>\n",
       "    <tr>\n",
       "      <th>5</th>\n",
       "      <td>291457</td>\n",
       "      <td>Gloomhaven: Jaws of the Lion</td>\n",
       "      <td>2020</td>\n",
       "      <td>1</td>\n",
       "      <td>4</td>\n",
       "      <td>120</td>\n",
       "      <td>8.4196</td>\n",
       "      <td>3.6413</td>\n",
       "      <td>5115</td>\n",
       "    </tr>\n",
       "    <tr>\n",
       "      <th>6</th>\n",
       "      <td>220308</td>\n",
       "      <td>Gaia Project</td>\n",
       "      <td>2017</td>\n",
       "      <td>1</td>\n",
       "      <td>4</td>\n",
       "      <td>150</td>\n",
       "      <td>8.37151</td>\n",
       "      <td>4.3952</td>\n",
       "      <td>3958</td>\n",
       "    </tr>\n",
       "    <tr>\n",
       "      <th>7</th>\n",
       "      <td>12333</td>\n",
       "      <td>Twilight Struggle</td>\n",
       "      <td>2005</td>\n",
       "      <td>2</td>\n",
       "      <td>2</td>\n",
       "      <td>180</td>\n",
       "      <td>8.24325</td>\n",
       "      <td>3.6098</td>\n",
       "      <td>10149</td>\n",
       "    </tr>\n",
       "    <tr>\n",
       "      <th>8</th>\n",
       "      <td>182028</td>\n",
       "      <td>Through the Ages: A New Story of Civilization</td>\n",
       "      <td>2015</td>\n",
       "      <td>2</td>\n",
       "      <td>4</td>\n",
       "      <td>120</td>\n",
       "      <td>8.27802</td>\n",
       "      <td>4.4365</td>\n",
       "      <td>4783</td>\n",
       "    </tr>\n",
       "    <tr>\n",
       "      <th>9</th>\n",
       "      <td>193738</td>\n",
       "      <td>Great Western Trail</td>\n",
       "      <td>2016</td>\n",
       "      <td>2</td>\n",
       "      <td>4</td>\n",
       "      <td>150</td>\n",
       "      <td>8.18359</td>\n",
       "      <td>3.7006</td>\n",
       "      <td>5343</td>\n",
       "    </tr>\n",
       "    <tr>\n",
       "      <th>10</th>\n",
       "      <td>224517</td>\n",
       "      <td>Brass: Birmingham</td>\n",
       "      <td>2018</td>\n",
       "      <td>2</td>\n",
       "      <td>4</td>\n",
       "      <td>120</td>\n",
       "      <td>8.58988</td>\n",
       "      <td>3.8704</td>\n",
       "      <td>6684</td>\n",
       "    </tr>\n",
       "    <tr>\n",
       "      <th>11</th>\n",
       "      <td>342942</td>\n",
       "      <td>Ark Nova</td>\n",
       "      <td>2021</td>\n",
       "      <td>1</td>\n",
       "      <td>4</td>\n",
       "      <td>150</td>\n",
       "      <td>8.53251</td>\n",
       "      <td>3.7686</td>\n",
       "      <td>6211</td>\n",
       "    </tr>\n",
       "    <tr>\n",
       "      <th>12</th>\n",
       "      <td>316554</td>\n",
       "      <td>Dune: Imperium</td>\n",
       "      <td>2020</td>\n",
       "      <td>1</td>\n",
       "      <td>4</td>\n",
       "      <td>120</td>\n",
       "      <td>8.43222</td>\n",
       "      <td>3.0518</td>\n",
       "      <td>6398</td>\n",
       "    </tr>\n",
       "    <tr>\n",
       "      <th>13</th>\n",
       "      <td>167791</td>\n",
       "      <td>Terraforming Mars</td>\n",
       "      <td>2016</td>\n",
       "      <td>1</td>\n",
       "      <td>5</td>\n",
       "      <td>120</td>\n",
       "      <td>8.35443</td>\n",
       "      <td>3.2645</td>\n",
       "      <td>14441</td>\n",
       "    </tr>\n",
       "    <tr>\n",
       "      <th>14</th>\n",
       "      <td>162886</td>\n",
       "      <td>Spirit Island</td>\n",
       "      <td>2017</td>\n",
       "      <td>1</td>\n",
       "      <td>4</td>\n",
       "      <td>120</td>\n",
       "      <td>8.3434</td>\n",
       "      <td>4.0666</td>\n",
       "      <td>8385</td>\n",
       "    </tr>\n",
       "  </tbody>\n",
       "</table>\n",
       "</div>"
      ],
      "text/plain": [
       "   Game_ID                                      Game_Name Year_Published  \\\n",
       "0   174430                                     Gloomhaven           2017   \n",
       "1   161936                      Pandemic Legacy: Season 1           2015   \n",
       "2   233078              Twilight Imperium: Fourth Edition           2017   \n",
       "3   115746                War of the Ring: Second Edition           2011   \n",
       "4   187645                           Star Wars: Rebellion           2016   \n",
       "5   291457                   Gloomhaven: Jaws of the Lion           2020   \n",
       "6   220308                                   Gaia Project           2017   \n",
       "7    12333                              Twilight Struggle           2005   \n",
       "8   182028  Through the Ages: A New Story of Civilization           2015   \n",
       "9   193738                            Great Western Trail           2016   \n",
       "10  224517                              Brass: Birmingham           2018   \n",
       "11  342942                                       Ark Nova           2021   \n",
       "12  316554                                 Dune: Imperium           2020   \n",
       "13  167791                              Terraforming Mars           2016   \n",
       "14  162886                                  Spirit Island           2017   \n",
       "\n",
       "   Min_Players Max_Players Playtime Avg_Score Avg_Weights N_Comments  \n",
       "0            1           4      120   8.57866       3.911      11029  \n",
       "1            2           4       60   8.52367      2.8295       8119  \n",
       "2            3           6      480   8.59064      4.3276       3674  \n",
       "3            2           4      180   8.54622      4.2146       3790  \n",
       "4            2           4      240   8.41892      3.7416       4995  \n",
       "5            1           4      120    8.4196      3.6413       5115  \n",
       "6            1           4      150   8.37151      4.3952       3958  \n",
       "7            2           2      180   8.24325      3.6098      10149  \n",
       "8            2           4      120   8.27802      4.4365       4783  \n",
       "9            2           4      150   8.18359      3.7006       5343  \n",
       "10           2           4      120   8.58988      3.8704       6684  \n",
       "11           1           4      150   8.53251      3.7686       6211  \n",
       "12           1           4      120   8.43222      3.0518       6398  \n",
       "13           1           5      120   8.35443      3.2645      14441  \n",
       "14           1           4      120    8.3434      4.0666       8385  "
      ]
     },
     "execution_count": 198,
     "metadata": {},
     "output_type": "execute_result"
    }
   ],
   "source": [
    "# List of ids of top 15 boargames to be used with url API, game_id are taken manually\n",
    "list_top15 = [174430,161936,233078,115746,187645,291457,220308,12333,182028,193738,224517,342942,316554,167791,162886]\n",
    "\n",
    "# Create an empty dataframe to collect all games metadata\n",
    "df_games = pd.DataFrame(columns=['Game_ID','Game_Name','Year_Published','Min_Players','Max_Players','Playtime','Avg_Score','Avg_Weights','N_Comments'])\n",
    "\n",
    "for game_i in tqdm(list_top15):\n",
    "    url_game=url_root1+str(game_i)+url_root2+id_page\n",
    "    df_game = extract_info_game(url_game)\n",
    "    df_games = pd.concat([df_games, df_game],ignore_index=True)\n",
    "df_games"
   ]
  },
  {
   "cell_type": "markdown",
   "id": "f0673d52-901f-44f7-aef0-9f8348208131",
   "metadata": {},
   "source": [
    "### 1.2 Retrieve comments for games"
   ]
  },
  {
   "cell_type": "markdown",
   "id": "2afb35f0-0353-447a-898d-e824af47c45a",
   "metadata": {},
   "source": [
    "In this second part we extract in an iterative way all the comments needed with following function"
   ]
  },
  {
   "cell_type": "code",
   "execution_count": 199,
   "id": "e5043e23-e16d-4adf-bc62-a15b2fddc8a7",
   "metadata": {},
   "outputs": [],
   "source": [
    "## Function to extract comments   information\n",
    "def extract_comments_BGG_new(url_input):\n",
    "    response = requests.get(url_input)\n",
    "    time.sleep(2) # Sleep for 2 seconds is needed to wait for response because server could limit the iterative requests\n",
    "    xml_data = response.content\n",
    "    # Parse the XML data\n",
    "    root = ET.fromstring(xml_data)\n",
    "    # Define lists to store the comments, ratings, etc\n",
    "    game_ids = []\n",
    "    comment_texts = []\n",
    "    comment_ratings = []    \n",
    "    # Iterate over the specific element in the XML webage of BGG\n",
    "    for item in root.findall('item'):\n",
    "        # Extract game id\n",
    "        game_id = item.attrib['id']\n",
    "        # Extract all comments present in the webpage\n",
    "        for comment in item.findall(\".//comment\"):\n",
    "            comment_text = comment.attrib.get('value', '')\n",
    "            comment_rating = comment.attrib.get('rating', '')\n",
    "            # Append game info and comment to created lists\n",
    "            game_ids.append(game_id)\n",
    "            comment_texts.append(comment_text)\n",
    "            comment_ratings.append(comment_rating)\n",
    "    # Create the final dataframe for output\n",
    "    df = pd.DataFrame({\n",
    "        'Game_ID': game_ids,\n",
    "        'Comment': comment_texts,\n",
    "        'Comment_Rating': comment_ratings,\n",
    "    })\n",
    "    # check if some error occured during server connection (workaround to be used time.spleep(2)\n",
    "    if df.shape[0]==0:\n",
    "        print(\"Error retrieving data from url:\", url_input)\n",
    "    return df"
   ]
  },
  {
   "cell_type": "markdown",
   "id": "f6d55108-9a1a-4579-aec3-8d83d76b5540",
   "metadata": {},
   "source": [
    "Dataframe df_games is used to have the number of comments to interrogate iteratively the url webpages, since the limit of comments is 100 for each webpage accessed through the API rules."
   ]
  },
  {
   "cell_type": "code",
   "execution_count": 200,
   "id": "b2f3f1a1-9fdf-4f07-b356-cbb2c3922fd7",
   "metadata": {},
   "outputs": [
    {
     "data": {
      "application/vnd.jupyter.widget-view+json": {
       "model_id": "1d3ac114408f440888af59dca78a9b95",
       "version_major": 2,
       "version_minor": 0
      },
      "text/plain": [
       "  0%|          | 0/15 [00:00<?, ?it/s]"
      ]
     },
     "metadata": {},
     "output_type": "display_data"
    },
    {
     "name": "stdout",
     "output_type": "stream",
     "text": [
      "Game ID:  174430  -> with n. of comments:  11029  and number of pages:  112\n"
     ]
    },
    {
     "data": {
      "application/vnd.jupyter.widget-view+json": {
       "model_id": "aa3b20b9ffe54a40b060a0cb367a07e5",
       "version_major": 2,
       "version_minor": 0
      },
      "text/plain": [
       "  0%|          | 0/111 [00:00<?, ?it/s]"
      ]
     },
     "metadata": {},
     "output_type": "display_data"
    },
    {
     "name": "stdout",
     "output_type": "stream",
     "text": [
      "Game ID:  161936  -> with n. of comments:  8119  and number of pages:  83\n"
     ]
    },
    {
     "data": {
      "application/vnd.jupyter.widget-view+json": {
       "model_id": "3582392a4d5f46538cfd828bc277eb0b",
       "version_major": 2,
       "version_minor": 0
      },
      "text/plain": [
       "  0%|          | 0/82 [00:00<?, ?it/s]"
      ]
     },
     "metadata": {},
     "output_type": "display_data"
    },
    {
     "name": "stdout",
     "output_type": "stream",
     "text": [
      "Game ID:  233078  -> with n. of comments:  3674  and number of pages:  38\n"
     ]
    },
    {
     "data": {
      "application/vnd.jupyter.widget-view+json": {
       "model_id": "4913a54b626d4c4485221317625d5928",
       "version_major": 2,
       "version_minor": 0
      },
      "text/plain": [
       "  0%|          | 0/37 [00:00<?, ?it/s]"
      ]
     },
     "metadata": {},
     "output_type": "display_data"
    },
    {
     "name": "stdout",
     "output_type": "stream",
     "text": [
      "Game ID:  115746  -> with n. of comments:  3790  and number of pages:  39\n"
     ]
    },
    {
     "data": {
      "application/vnd.jupyter.widget-view+json": {
       "model_id": "3bb5431e93ad45608f986f1c13760735",
       "version_major": 2,
       "version_minor": 0
      },
      "text/plain": [
       "  0%|          | 0/38 [00:00<?, ?it/s]"
      ]
     },
     "metadata": {},
     "output_type": "display_data"
    },
    {
     "name": "stdout",
     "output_type": "stream",
     "text": [
      "Game ID:  187645  -> with n. of comments:  4995  and number of pages:  51\n"
     ]
    },
    {
     "data": {
      "application/vnd.jupyter.widget-view+json": {
       "model_id": "2cf4082e0d264643822bc310e1e0b1fc",
       "version_major": 2,
       "version_minor": 0
      },
      "text/plain": [
       "  0%|          | 0/50 [00:00<?, ?it/s]"
      ]
     },
     "metadata": {},
     "output_type": "display_data"
    },
    {
     "name": "stdout",
     "output_type": "stream",
     "text": [
      "Game ID:  291457  -> with n. of comments:  5115  and number of pages:  53\n"
     ]
    },
    {
     "data": {
      "application/vnd.jupyter.widget-view+json": {
       "model_id": "4331cf0a2cf4411dbe5a78bd80fa3082",
       "version_major": 2,
       "version_minor": 0
      },
      "text/plain": [
       "  0%|          | 0/52 [00:00<?, ?it/s]"
      ]
     },
     "metadata": {},
     "output_type": "display_data"
    },
    {
     "name": "stdout",
     "output_type": "stream",
     "text": [
      "Game ID:  220308  -> with n. of comments:  3958  and number of pages:  41\n"
     ]
    },
    {
     "data": {
      "application/vnd.jupyter.widget-view+json": {
       "model_id": "1cd09443e2104585b7c535cf0223883f",
       "version_major": 2,
       "version_minor": 0
      },
      "text/plain": [
       "  0%|          | 0/40 [00:00<?, ?it/s]"
      ]
     },
     "metadata": {},
     "output_type": "display_data"
    },
    {
     "name": "stdout",
     "output_type": "stream",
     "text": [
      "Game ID:  12333  -> with n. of comments:  10149  and number of pages:  103\n"
     ]
    },
    {
     "data": {
      "application/vnd.jupyter.widget-view+json": {
       "model_id": "36b77e48856245f1bb8e0c9d480fa43d",
       "version_major": 2,
       "version_minor": 0
      },
      "text/plain": [
       "  0%|          | 0/102 [00:00<?, ?it/s]"
      ]
     },
     "metadata": {},
     "output_type": "display_data"
    },
    {
     "name": "stdout",
     "output_type": "stream",
     "text": [
      "Game ID:  182028  -> with n. of comments:  4783  and number of pages:  49\n"
     ]
    },
    {
     "data": {
      "application/vnd.jupyter.widget-view+json": {
       "model_id": "9469442eb2554e1495dd76798a5b0d9d",
       "version_major": 2,
       "version_minor": 0
      },
      "text/plain": [
       "  0%|          | 0/48 [00:00<?, ?it/s]"
      ]
     },
     "metadata": {},
     "output_type": "display_data"
    },
    {
     "name": "stdout",
     "output_type": "stream",
     "text": [
      "Game ID:  193738  -> with n. of comments:  5343  and number of pages:  55\n"
     ]
    },
    {
     "data": {
      "application/vnd.jupyter.widget-view+json": {
       "model_id": "b8f1684230974d69acd9252f10fe404e",
       "version_major": 2,
       "version_minor": 0
      },
      "text/plain": [
       "  0%|          | 0/54 [00:00<?, ?it/s]"
      ]
     },
     "metadata": {},
     "output_type": "display_data"
    },
    {
     "name": "stdout",
     "output_type": "stream",
     "text": [
      "Game ID:  224517  -> with n. of comments:  6684  and number of pages:  68\n"
     ]
    },
    {
     "data": {
      "application/vnd.jupyter.widget-view+json": {
       "model_id": "40608a098a5443b3aad7c83686d15066",
       "version_major": 2,
       "version_minor": 0
      },
      "text/plain": [
       "  0%|          | 0/67 [00:00<?, ?it/s]"
      ]
     },
     "metadata": {},
     "output_type": "display_data"
    },
    {
     "name": "stdout",
     "output_type": "stream",
     "text": [
      "Game ID:  342942  -> with n. of comments:  6211  and number of pages:  64\n"
     ]
    },
    {
     "data": {
      "application/vnd.jupyter.widget-view+json": {
       "model_id": "419c0571be7248608ca9e77f9c8c0e8a",
       "version_major": 2,
       "version_minor": 0
      },
      "text/plain": [
       "  0%|          | 0/63 [00:00<?, ?it/s]"
      ]
     },
     "metadata": {},
     "output_type": "display_data"
    },
    {
     "name": "stdout",
     "output_type": "stream",
     "text": [
      "Game ID:  316554  -> with n. of comments:  6398  and number of pages:  65\n"
     ]
    },
    {
     "data": {
      "application/vnd.jupyter.widget-view+json": {
       "model_id": "b7ccbd709e9747919c23790a925ea632",
       "version_major": 2,
       "version_minor": 0
      },
      "text/plain": [
       "  0%|          | 0/64 [00:00<?, ?it/s]"
      ]
     },
     "metadata": {},
     "output_type": "display_data"
    },
    {
     "name": "stdout",
     "output_type": "stream",
     "text": [
      "Game ID:  167791  -> with n. of comments:  14441  and number of pages:  146\n"
     ]
    },
    {
     "data": {
      "application/vnd.jupyter.widget-view+json": {
       "model_id": "0712bd8396b44716a2c5f27fef682b4b",
       "version_major": 2,
       "version_minor": 0
      },
      "text/plain": [
       "  0%|          | 0/145 [00:00<?, ?it/s]"
      ]
     },
     "metadata": {},
     "output_type": "display_data"
    },
    {
     "name": "stdout",
     "output_type": "stream",
     "text": [
      "Game ID:  162886  -> with n. of comments:  8385  and number of pages:  85\n"
     ]
    },
    {
     "data": {
      "application/vnd.jupyter.widget-view+json": {
       "model_id": "9425c2ff774d4ec08eb685ae3fde7a99",
       "version_major": 2,
       "version_minor": 0
      },
      "text/plain": [
       "  0%|          | 0/84 [00:00<?, ?it/s]"
      ]
     },
     "metadata": {},
     "output_type": "display_data"
    },
    {
     "name": "stdout",
     "output_type": "stream",
     "text": [
      "Time needed in min:  65.92  -> Time needed in sec:  3955.12\n"
     ]
    },
    {
     "data": {
      "text/html": [
       "<div>\n",
       "<style scoped>\n",
       "    .dataframe tbody tr th:only-of-type {\n",
       "        vertical-align: middle;\n",
       "    }\n",
       "\n",
       "    .dataframe tbody tr th {\n",
       "        vertical-align: top;\n",
       "    }\n",
       "\n",
       "    .dataframe thead th {\n",
       "        text-align: right;\n",
       "    }\n",
       "</style>\n",
       "<table border=\"1\" class=\"dataframe\">\n",
       "  <thead>\n",
       "    <tr style=\"text-align: right;\">\n",
       "      <th></th>\n",
       "      <th>Game_ID</th>\n",
       "      <th>Comment</th>\n",
       "      <th>Comment_Rating</th>\n",
       "    </tr>\n",
       "  </thead>\n",
       "  <tbody>\n",
       "    <tr>\n",
       "      <th>0</th>\n",
       "      <td>174430</td>\n",
       "      <td>Cons: -10/10 fiddliness -The time investment i...</td>\n",
       "      <td>N/A</td>\n",
       "    </tr>\n",
       "    <tr>\n",
       "      <th>1</th>\n",
       "      <td>174430</td>\n",
       "      <td>Kickstarter (Estimated delivery: May 2016)</td>\n",
       "      <td>9</td>\n",
       "    </tr>\n",
       "    <tr>\n",
       "      <th>2</th>\n",
       "      <td>174430</td>\n",
       "      <td>Excellent game. Balancing issues with some cha...</td>\n",
       "      <td>8.5</td>\n",
       "    </tr>\n",
       "    <tr>\n",
       "      <th>3</th>\n",
       "      <td>174430</td>\n",
       "      <td>PC (Epic games)</td>\n",
       "      <td>N/A</td>\n",
       "    </tr>\n",
       "    <tr>\n",
       "      <th>4</th>\n",
       "      <td>174430</td>\n",
       "      <td>Best and most addictive coop game I’ve ever pl...</td>\n",
       "      <td>10</td>\n",
       "    </tr>\n",
       "    <tr>\n",
       "      <th>...</th>\n",
       "      <td>...</td>\n",
       "      <td>...</td>\n",
       "      <td>...</td>\n",
       "    </tr>\n",
       "    <tr>\n",
       "      <th>103070</th>\n",
       "      <td>162886</td>\n",
       "      <td>Decision making taking over. Less game than ma...</td>\n",
       "      <td>6</td>\n",
       "    </tr>\n",
       "    <tr>\n",
       "      <th>103071</th>\n",
       "      <td>162886</td>\n",
       "      <td>Somehow this is a real brain teaser for me. Th...</td>\n",
       "      <td>7</td>\n",
       "    </tr>\n",
       "    <tr>\n",
       "      <th>103072</th>\n",
       "      <td>162886</td>\n",
       "      <td>Cooperative Deck-Builder/Area-Control (2P-3P)</td>\n",
       "      <td>8</td>\n",
       "    </tr>\n",
       "    <tr>\n",
       "      <th>103073</th>\n",
       "      <td>162886</td>\n",
       "      <td>Gifted to Martiz (+ materiale sostitutivo per ...</td>\n",
       "      <td>9</td>\n",
       "    </tr>\n",
       "    <tr>\n",
       "      <th>103074</th>\n",
       "      <td>162886</td>\n",
       "      <td>This was amazing game experience! Completely j...</td>\n",
       "      <td>10</td>\n",
       "    </tr>\n",
       "  </tbody>\n",
       "</table>\n",
       "<p>103075 rows × 3 columns</p>\n",
       "</div>"
      ],
      "text/plain": [
       "       Game_ID                                            Comment  \\\n",
       "0       174430  Cons: -10/10 fiddliness -The time investment i...   \n",
       "1       174430         Kickstarter (Estimated delivery: May 2016)   \n",
       "2       174430  Excellent game. Balancing issues with some cha...   \n",
       "3       174430                                    PC (Epic games)   \n",
       "4       174430  Best and most addictive coop game I’ve ever pl...   \n",
       "...        ...                                                ...   \n",
       "103070  162886  Decision making taking over. Less game than ma...   \n",
       "103071  162886  Somehow this is a real brain teaser for me. Th...   \n",
       "103072  162886      Cooperative Deck-Builder/Area-Control (2P-3P)   \n",
       "103073  162886  Gifted to Martiz (+ materiale sostitutivo per ...   \n",
       "103074  162886  This was amazing game experience! Completely j...   \n",
       "\n",
       "       Comment_Rating  \n",
       "0                 N/A  \n",
       "1                   9  \n",
       "2                 8.5  \n",
       "3                 N/A  \n",
       "4                  10  \n",
       "...               ...  \n",
       "103070              6  \n",
       "103071              7  \n",
       "103072              8  \n",
       "103073              9  \n",
       "103074             10  \n",
       "\n",
       "[103075 rows x 3 columns]"
      ]
     },
     "execution_count": 200,
     "metadata": {},
     "output_type": "execute_result"
    }
   ],
   "source": [
    "# Create the empty dataframe to store comments and comment rating\n",
    "df_all = pd.DataFrame(columns=['Game_ID','Comment','Comment_Rating'])\n",
    "\n",
    "# start time\n",
    "start = time.time()\n",
    "\n",
    "# Iter through all list of games and all pages\n",
    "for k, game_i in enumerate(tqdm(list_top15)): #for game_i in tqdm(list_top15):\n",
    "    n_pages = math.ceil(int(df_games.iloc[k]['N_Comments'])/100)+1\n",
    "    print(\"Game ID: \",df_games.iloc[k]['Game_ID'],\" -> with n. of comments: \",int(df_games.iloc[k]['N_Comments']),\" and number of pages: \",n_pages)\n",
    "    # for i in range(1,2,1): # for i in tqdm(range(n_pages-3,n_pages,1),leave=False):\n",
    "    for i in tqdm(range(1,n_pages,1)):\n",
    "        url_com=url_root1+str(game_i)+url_root2+str(i)\n",
    "        df_com = extract_comments_BGG_new(url_com)\n",
    "        df_all = pd.concat([df_all, df_com],ignore_index=True)\n",
    "# end time\n",
    "end = time.time()\n",
    "elapsed = end - start\n",
    "print(\"Time needed in min: \", round(elapsed/60,2), \" -> Time needed in sec: \", round(elapsed,2))\n",
    "\n",
    "# show extracted dataframe\n",
    "df_all"
   ]
  },
  {
   "cell_type": "code",
   "execution_count": 201,
   "id": "2e4c41b3-015c-4b69-aa99-5918dfc7a889",
   "metadata": {},
   "outputs": [
    {
     "name": "stdout",
     "output_type": "stream",
     "text": [
      "Total target comments:  103074\n",
      "Total retrieved comments:  103075\n"
     ]
    }
   ],
   "source": [
    "# print number of comments to check that we have collected all of them with the API querying\n",
    "Total_target_comments = df_games['N_Comments'].astype('int').sum()\n",
    "print(\"Total target comments: \",Total_target_comments)\n",
    "Total_ext_comments =df_all.shape[0]\n",
    "print(\"Total retrieved comments: \",Total_ext_comments)"
   ]
  },
  {
   "cell_type": "markdown",
   "id": "ee4d7ebe-2e72-4532-b979-68b3e79f3c43",
   "metadata": {},
   "source": [
    "Almost all the comments were collectly"
   ]
  },
  {
   "cell_type": "markdown",
   "id": "c5193c40-13b9-4069-b513-b0a1c7f8346a",
   "metadata": {},
   "source": [
    "### 1.3 Filter only English comments and store the data as output"
   ]
  },
  {
   "cell_type": "code",
   "execution_count": 202,
   "id": "e36a0c0a-841a-474b-a080-c9fbe8820236",
   "metadata": {},
   "outputs": [
    {
     "data": {
      "text/plain": [
       "Language\n",
       "en    88942\n",
       "de     2702\n",
       "es     2513\n",
       "fr     1470\n",
       "it     1170\n",
       "      ...  \n",
       "ku        2\n",
       "am        1\n",
       "bs        1\n",
       "ka        1\n",
       "ne        1\n",
       "Name: count, Length: 79, dtype: int64"
      ]
     },
     "execution_count": 202,
     "metadata": {},
     "output_type": "execute_result"
    }
   ],
   "source": [
    "# function to return comment language\n",
    "def get_language(text):\n",
    "    return langid.classify(text)[0]\n",
    "    \n",
    "# create new columns for the comment language to be added in the dataframe\n",
    "df_all['Language'] = df_all.apply(lambda row: get_language(row['Comment']), axis=1)\n",
    "\n",
    "# Consider only the column language that is then used then in the barplot\n",
    "dd = df_all.Language.value_counts()\n",
    "dd"
   ]
  },
  {
   "cell_type": "code",
   "execution_count": 203,
   "id": "85f4d9dd-4f09-4ec1-accd-502346ba5a4d",
   "metadata": {
    "scrolled": true
   },
   "outputs": [
    {
     "data": {
      "image/png": "[encoded data removed]",
      "text/plain": [
       "<Figure size 1000x300 with 1 Axes>"
      ]
     },
     "metadata": {},
     "output_type": "display_data"
    }
   ],
   "source": [
    "# Barplot of all the languages comments count\n",
    "plt.style.use('seaborn-v0_8-whitegrid')\n",
    "sns.set_style(\"whitegrid\")\n",
    "fig, ax = plt.subplots(figsize=(10, 3))\n",
    "sns.barplot(x=dd.index, y=dd.values, ax=ax)\n",
    "ax.tick_params(axis='x', rotation=90)\n",
    "ax.set_ylabel('n. of comments')\n",
    "ax.set_xlabel('Languages')\n",
    "plt.tight_layout()\n",
    "plt.show()\n",
    "\n",
    "# fast alternative to show a bar chart of the comment by languagaes\n",
    "# df_all.Language.value_counts().plot(kind='bar')"
   ]
  },
  {
   "cell_type": "code",
   "execution_count": 204,
   "id": "4b09cc10-e4d8-4b6b-a0cd-a36a9c663485",
   "metadata": {},
   "outputs": [
    {
     "name": "stdout",
     "output_type": "stream",
     "text": [
      "Number of comments in English: Language\n",
      "en    88942\n",
      "Name: count, dtype: int64\n"
     ]
    }
   ],
   "source": [
    "# filter only comments in English\n",
    "df_all = df_all[df_all['Language']=='en']\n",
    "# return the number of Engligh comments\n",
    "print(\"Number of comments in English:\",df_all.Language.value_counts())\n",
    "\n",
    "# SAVE DATA FRAME as CSV for later uses\n",
    "df_all.to_csv('BGG_ALL_extracted_filtered.csv', index=False)  # do not write index columns"
   ]
  },
  {
   "cell_type": "markdown",
   "id": "bfb37082-2824-4a35-96b4-2a861376e394",
   "metadata": {},
   "source": [
    "## 2. Aspect Identification"
   ]
  },
  {
   "cell_type": "markdown",
   "id": "a0bab0fd-5e63-4dbd-b4ae-a6eb992963ab",
   "metadata": {},
   "source": [
    "Reload the dataset"
   ]
  },
  {
   "cell_type": "code",
   "execution_count": 205,
   "id": "3c4b5bfb-1266-4203-a439-84b7bbf81b48",
   "metadata": {},
   "outputs": [
    {
     "name": "stdout",
     "output_type": "stream",
     "text": [
      "Dataset dimensions are:  (88942, 4)\n"
     ]
    },
    {
     "data": {
      "text/html": [
       "<div>\n",
       "<style scoped>\n",
       "    .dataframe tbody tr th:only-of-type {\n",
       "        vertical-align: middle;\n",
       "    }\n",
       "\n",
       "    .dataframe tbody tr th {\n",
       "        vertical-align: top;\n",
       "    }\n",
       "\n",
       "    .dataframe thead th {\n",
       "        text-align: right;\n",
       "    }\n",
       "</style>\n",
       "<table border=\"1\" class=\"dataframe\">\n",
       "  <thead>\n",
       "    <tr style=\"text-align: right;\">\n",
       "      <th></th>\n",
       "      <th>Game_ID</th>\n",
       "      <th>Comment</th>\n",
       "      <th>Comment_Rating</th>\n",
       "      <th>Language</th>\n",
       "    </tr>\n",
       "  </thead>\n",
       "  <tbody>\n",
       "    <tr>\n",
       "      <th>0</th>\n",
       "      <td>174430</td>\n",
       "      <td>Cons: -10/10 fiddliness -The time investment i...</td>\n",
       "      <td>NaN</td>\n",
       "      <td>en</td>\n",
       "    </tr>\n",
       "    <tr>\n",
       "      <th>1</th>\n",
       "      <td>174430</td>\n",
       "      <td>Excellent game. Balancing issues with some cha...</td>\n",
       "      <td>8.5</td>\n",
       "      <td>en</td>\n",
       "    </tr>\n",
       "    <tr>\n",
       "      <th>2</th>\n",
       "      <td>174430</td>\n",
       "      <td>PC (Epic games)</td>\n",
       "      <td>NaN</td>\n",
       "      <td>en</td>\n",
       "    </tr>\n",
       "    <tr>\n",
       "      <th>3</th>\n",
       "      <td>174430</td>\n",
       "      <td>Best and most addictive coop game I’ve ever pl...</td>\n",
       "      <td>10.0</td>\n",
       "      <td>en</td>\n",
       "    </tr>\n",
       "    <tr>\n",
       "      <th>4</th>\n",
       "      <td>174430</td>\n",
       "      <td>[IMG]https://cf.geekdo-static.com/mbs/mb_17587...</td>\n",
       "      <td>5.0</td>\n",
       "      <td>en</td>\n",
       "    </tr>\n",
       "  </tbody>\n",
       "</table>\n",
       "</div>"
      ],
      "text/plain": [
       "   Game_ID                                            Comment  Comment_Rating  \\\n",
       "0   174430  Cons: -10/10 fiddliness -The time investment i...             NaN   \n",
       "1   174430  Excellent game. Balancing issues with some cha...             8.5   \n",
       "2   174430                                    PC (Epic games)             NaN   \n",
       "3   174430  Best and most addictive coop game I’ve ever pl...            10.0   \n",
       "4   174430  [IMG]https://cf.geekdo-static.com/mbs/mb_17587...             5.0   \n",
       "\n",
       "  Language  \n",
       "0       en  \n",
       "1       en  \n",
       "2       en  \n",
       "3       en  \n",
       "4       en  "
      ]
     },
     "execution_count": 205,
     "metadata": {},
     "output_type": "execute_result"
    }
   ],
   "source": [
    "# load dataset of only reviews with English comments\n",
    "df = pd.read_csv('BGG_ALL_extracted_filtered.csv', index_col=False)  \n",
    "print('Dataset dimensions are: ',df.shape)\n",
    "df.head(5)"
   ]
  },
  {
   "cell_type": "code",
   "execution_count": 206,
   "id": "1f762b27-dd27-4862-97e4-2ecd35210069",
   "metadata": {},
   "outputs": [
    {
     "name": "stdout",
     "output_type": "stream",
     "text": [
      "(71320, 3)\n"
     ]
    },
    {
     "data": {
      "text/html": [
       "<div>\n",
       "<style scoped>\n",
       "    .dataframe tbody tr th:only-of-type {\n",
       "        vertical-align: middle;\n",
       "    }\n",
       "\n",
       "    .dataframe tbody tr th {\n",
       "        vertical-align: top;\n",
       "    }\n",
       "\n",
       "    .dataframe thead th {\n",
       "        text-align: right;\n",
       "    }\n",
       "</style>\n",
       "<table border=\"1\" class=\"dataframe\">\n",
       "  <thead>\n",
       "    <tr style=\"text-align: right;\">\n",
       "      <th></th>\n",
       "      <th>Game_ID</th>\n",
       "      <th>Comment</th>\n",
       "      <th>Comment_Rating</th>\n",
       "    </tr>\n",
       "  </thead>\n",
       "  <tbody>\n",
       "    <tr>\n",
       "      <th>1</th>\n",
       "      <td>174430</td>\n",
       "      <td>Excellent game. Balancing issues with some cha...</td>\n",
       "      <td>8.5</td>\n",
       "    </tr>\n",
       "    <tr>\n",
       "      <th>3</th>\n",
       "      <td>174430</td>\n",
       "      <td>Best and most addictive coop game I’ve ever pl...</td>\n",
       "      <td>10.0</td>\n",
       "    </tr>\n",
       "    <tr>\n",
       "      <th>4</th>\n",
       "      <td>174430</td>\n",
       "      <td>[IMG]https://cf.geekdo-static.com/mbs/mb_17587...</td>\n",
       "      <td>5.0</td>\n",
       "    </tr>\n",
       "    <tr>\n",
       "      <th>5</th>\n",
       "      <td>174430</td>\n",
       "      <td>After one play, not completing a dungeon I’m s...</td>\n",
       "      <td>7.0</td>\n",
       "    </tr>\n",
       "    <tr>\n",
       "      <th>6</th>\n",
       "      <td>174430</td>\n",
       "      <td>This game is a beast. So far my group has only...</td>\n",
       "      <td>9.0</td>\n",
       "    </tr>\n",
       "  </tbody>\n",
       "</table>\n",
       "</div>"
      ],
      "text/plain": [
       "   Game_ID                                            Comment  Comment_Rating\n",
       "1   174430  Excellent game. Balancing issues with some cha...             8.5\n",
       "3   174430  Best and most addictive coop game I’ve ever pl...            10.0\n",
       "4   174430  [IMG]https://cf.geekdo-static.com/mbs/mb_17587...             5.0\n",
       "5   174430  After one play, not completing a dungeon I’m s...             7.0\n",
       "6   174430  This game is a beast. So far my group has only...             9.0"
      ]
     },
     "execution_count": 206,
     "metadata": {},
     "output_type": "execute_result"
    }
   ],
   "source": [
    "# Make a copy of the dataframe\n",
    "df_comments = df[['Game_ID','Comment','Comment_Rating']].copy()\n",
    "df_comments.dropna(inplace = True) #remove comments without ratings\n",
    "print(df_comments.shape)\n",
    "df_comments.head(5)"
   ]
  },
  {
   "cell_type": "code",
   "execution_count": 207,
   "id": "9982ba65-0541-41f9-8edf-74eb50cc4bfd",
   "metadata": {},
   "outputs": [],
   "source": [
    "# Define a list of the aspects that we would like to explore for similarity\n",
    "aspects = ['luck','bookkeeping', 'downtime','interaction','bash the leader','complexity']\n",
    "aspects = ['luck','bookkeeping', 'downtime','interaction','sacrifice','complexity'] # to be used after bash the leader similarity search"
   ]
  },
  {
   "cell_type": "markdown",
   "id": "bf9a0a42-c99d-4c0b-a1b9-dd6d7ea111b4",
   "metadata": {},
   "source": [
    "Now we will investigate 3 approaches to check which one performs better:\n",
    "1. find similar words to the aspects using a pre-trained model\n",
    "2. find similar words to the aspects using our dataset with comments as model\n",
    "3. look at synomous directly related to our aspects"
   ]
  },
  {
   "cell_type": "markdown",
   "id": "a16935cf-d7c3-459f-9b7d-15bd678ab036",
   "metadata": {},
   "source": [
    "### 2.1 Find similar aspect using pre-trained model"
   ]
  },
  {
   "cell_type": "markdown",
   "id": "3be94c7c-e9d9-4c2f-9970-3692baa2ecd2",
   "metadata": {},
   "source": [
    "First we notice that the concept \"bash the leader\" is not a specific word so we can think to search for related words (as synonyms) and then search for similar words linked to this related words"
   ]
  },
  {
   "cell_type": "code",
   "execution_count": 208,
   "id": "dae1ebc9-0096-48a5-ab14-09e3e7bac1ca",
   "metadata": {},
   "outputs": [],
   "source": [
    "# Load Google's pre-trained Word2Vec model\n",
    "model_pre_trained = KeyedVectors.load_word2vec_format(datapath(\"/Users/ZStravij/Downloads/GoogleNews-vectors-negative300.bin\"),binary=True)"
   ]
  },
  {
   "cell_type": "code",
   "execution_count": 209,
   "id": "b7fcbdb6-e3fe-4ea3-af59-5837e6a64a66",
   "metadata": {},
   "outputs": [
    {
     "name": "stdout",
     "output_type": "stream",
     "text": [
      "Words similar to the concept 'bash the leader':\n"
     ]
    },
    {
     "data": {
      "text/plain": [
       "[('sacrifices', 0.806352972984314),\n",
       " ('attacks', 0.7638030648231506),\n",
       " ('sacrificed', 0.7461361885070801),\n",
       " ('commanding_officer', 0.7452248930931091),\n",
       " ('criticizing', 0.7426729202270508),\n",
       " ('blaming', 0.7397015690803528),\n",
       " ('Commander', 0.7284978032112122),\n",
       " ('lambast', 0.7275063395500183),\n",
       " ('lambaste', 0.7229833006858826),\n",
       " ('blamed', 0.7151628136634827)]"
      ]
     },
     "execution_count": 209,
     "metadata": {},
     "output_type": "execute_result"
    }
   ],
   "source": [
    "# words related to BASH THE LEADER\n",
    "related_words = ['attack', 'criticize', 'blame', 'leader', 'commander','sacrifice']\n",
    "similar_words_combined = []\n",
    "\n",
    "for word in related_words:\n",
    "    try:\n",
    "        similar_words = model_pre_trained.most_similar(word, topn=5)  # Get top 5 for each related word\n",
    "        similar_words_combined.extend(similar_words)\n",
    "    except KeyError:\n",
    "        print(f\"Word '{word}' not found in the model.\")\n",
    "\n",
    "# Print the collected similar words\n",
    "print(\"Words similar to the concept 'bash the leader':\")\n",
    "sorted(similar_words_combined,key=operator.itemgetter(1), reverse=True)[0:10]"
   ]
  },
  {
   "cell_type": "markdown",
   "id": "e53c2be5-6ded-4f82-b6ae-93b20beca4f9",
   "metadata": {},
   "source": [
    "Next steps:\n",
    "1. We decide to use word sacrifice to express the phrase bash the leader.\n",
    "2. We iter the same approach to look for top 10 similar nouns related to target words\n",
    "3. after getting the similar words we create a chart in 2D with this clusters"
   ]
  },
  {
   "cell_type": "code",
   "execution_count": 210,
   "id": "1942bc3c-bf12-4da6-87ff-612c6aced270",
   "metadata": {},
   "outputs": [],
   "source": [
    "# Define your target words\n",
    "target_words = ['luck', 'bookkeeping', 'downtime', 'interaction', 'sacrifice', 'complexity'] #\"sacrifice instead of bash the leader"
   ]
  },
  {
   "cell_type": "code",
   "execution_count": 211,
   "id": "dd1e589b-d531-49fd-b000-5836b0e31371",
   "metadata": {},
   "outputs": [],
   "source": [
    "def function_aspect_detection(model_input,topnn = 10, is_model =True):\n",
    "    #### function to identify similar words related to the aspects  ####\n",
    "    #### input: model to be used, n° of similar words for each aspect, is_model: True or False depending on model used\n",
    "    # Dictionary to store the most similar words for each target word\n",
    "    similar_words_dict = {}\n",
    "    # List to store all words (target words + similar words)\n",
    "    all_words = []\n",
    "    # List to store vectors for reduced chart TNSE\n",
    "    all_vectors = []\n",
    "    # For each target word, find the top 10 most similar words with different lemmas\n",
    "    for word in target_words:\n",
    "        print(\"Processing aspect \",word,\" -> ...\")\n",
    "        # Get the top 60 similar words to the aspect from the model in input\n",
    "        if is_model == True:\n",
    "            similar_words = model_input.most_similar(word, topn=60)\n",
    "        else:\n",
    "            similar_words = model_input.wv.most_similar(word, topn=60)\n",
    "        noun_candidates = [] #list to store identified lemmas\n",
    "        seen_lemmas = set() #set of lemmas\n",
    "        for similar_word, similarity in similar_words:\n",
    "            # Using spaCy for POS tagging and lemmatization\n",
    "            doc = nlp(similar_word)\n",
    "            for token in doc:\n",
    "                # Check if the word is a noun, if it has alphabetical character, if it is not misspelled and it has a unique lemma and it is not used by other aspects\n",
    "                if token.pos_ == \"NOUN\" and token.is_alpha == True and d.check(token.text) and token.lemma_ not in seen_lemmas and token.lemma_ not in all_words:\n",
    "                    try:\n",
    "                        # based on model in input two possibility to write similarity method\n",
    "                        if is_model == True:\n",
    "                            lemma_sim = model_input.similarity(word, token.lemma_) #measure similarity between aspect and new lemma\n",
    "                        else:\n",
    "                            lemma_sim = model_input.wv.similarity(word, token.lemma_) #measure similarity between aspect and new lemma\n",
    "                        noun_candidates.append((token.lemma_,lemma_sim)) #append lemma to candidates and its similarity rate\n",
    "                        seen_lemmas.add(token.lemma_) #add lemma to the set of lemmas\n",
    "                    except KeyError:\n",
    "                        print(f\"Word '{token.lemma_}' not in the vocabulary of the pre-trained model.\")\n",
    "                        pass                \n",
    "            # Stop once we reach the top `topnn` unique nouns\n",
    "            if len(noun_candidates) == topnn:\n",
    "                break\n",
    "        #save lemmas into the dictionary\n",
    "        similar_words_dict[word] = [w for w, _ in noun_candidates]\n",
    "        # Add the target word and its similar words to the list to avoid duplicates of similar words for the various aspects\n",
    "        all_words.append(word)  # Add target word of the aspect\n",
    "        all_words.extend([w for w, _ in noun_candidates])  # Add similar word found that are referred to the aspect\n",
    "        # Get the vectors for the target word and its similar words - two variant based on the type of model in input\n",
    "        if is_model==True:\n",
    "            all_vectors.append(model_input[word])  # Add target word vector\n",
    "            all_vectors.extend([model_input[w] for w, _ in noun_candidates])  # Add vectors of similar words\n",
    "        else:\n",
    "            all_vectors.append(model_input.wv[word])  # Add target word vector\n",
    "            all_vectors.extend([model_input.wv[w] for w, _ in noun_candidates])  # Add vectors of similar words\n",
    "    return similar_words_dict, all_vectors\n",
    "\n",
    "def plot_aspect_detected(all_vectors, target_words, similar_words_dict):\n",
    "    #### Function to plot into a reduced dimensional space the similar words to the target words using TSNE\n",
    "    # Convert the list of vectors to a NumPy array\n",
    "    all_vectors = np.array(all_vectors)    \n",
    "    # Perform dimensionality reduction using TSNE to reduce the vectors to 2D\n",
    "    tsne = TSNE(n_components=2, random_state=42, perplexity=30)\n",
    "    all_vectors_2d = tsne.fit_transform(all_vectors)\n",
    "    # Plot the results\n",
    "    plt.figure(figsize=(14, 10))\n",
    "    sns.set_style(\"whitegrid\")\n",
    "    # Assign each target word and its cluster a different color\n",
    "    colors = sns.color_palette(\"husl\", len(target_words))  # A palette with enough colors for all words\n",
    "    # Index to track the position to color each cluster\n",
    "    start_idx = 0\n",
    "    # Loop through each target word and plot its similar words\n",
    "    for i, target_word in enumerate(target_words):\n",
    "        # Get the similar words for the current target word\n",
    "        words_for_target = [target_word] + similar_words_dict.get(target_word, [])\n",
    "        # Get the corresponding 2D points from t-SNE\n",
    "        points_2d = all_vectors_2d[start_idx: start_idx + len(words_for_target)]\n",
    "        # Plot the points, with a different color for each target word\n",
    "        plt.scatter(points_2d[:, 0], points_2d[:, 1], label=target_word, color=colors[i])\n",
    "        # Annotate each point with the corresponding word\n",
    "        for j, word in enumerate(words_for_target):\n",
    "            plt.annotate(word, xy=(points_2d[j, 0], points_2d[j, 1]), fontsize=10)\n",
    "        # Move the index for the next set of points\n",
    "        start_idx += len(words_for_target)\n",
    "    # Add a legend to the plot\n",
    "    plt.legend()\n",
    "    plt.title('t-SNE Visualization of Similar Words to Target Words')\n",
    "    plt.show()\n",
    "\n",
    "def display_dict_aspects(similar_words_dict):\n",
    "    # Display similar nouns for each aspect\n",
    "    for aspect, nouns in similar_words_dict.items():\n",
    "        # add the aspect term as a keyword in the list of similar nouns if not present\n",
    "        if aspect not in nouns:\n",
    "            nouns.insert(0, aspect)\n",
    "        similar_words_dict[aspect] = nouns\n",
    "        print(f\"\\nAspect: {aspect}\")\n",
    "        print(\"Similar nouns:\", nouns)"
   ]
  },
  {
   "cell_type": "code",
   "execution_count": 212,
   "id": "ddb7924e-54af-421f-bc1c-634ec0c9933f",
   "metadata": {},
   "outputs": [
    {
     "name": "stdout",
     "output_type": "stream",
     "text": [
      "Processing aspect  luck  -> ...\n",
      "Processing aspect  bookkeeping  -> ...\n",
      "Processing aspect  downtime  -> ...\n",
      "Processing aspect  interaction  -> ...\n",
      "Processing aspect  sacrifice  -> ...\n",
      "Word 'scarifie' not in the vocabulary of the pre-trained model.\n",
      "Processing aspect  complexity  -> ...\n"
     ]
    },
    {
     "data": {
      "image/png": "[encoded data removed]",
      "text/plain": [
       "<Figure size 1400x1000 with 1 Axes>"
      ]
     },
     "metadata": {},
     "output_type": "display_data"
    },
    {
     "name": "stdout",
     "output_type": "stream",
     "text": [
      "\n",
      "Aspect: luck\n",
      "Similar nouns: ['fortune', 'serendipity', 'omen', 'luck', 'oman', 'misfortune', 'luckless', 'crapshoot', 'fluke', 'jinx']\n",
      "\n",
      "Aspect: bookkeeping\n",
      "Similar nouns: ['bookkeeping', 'bookkeeper', 'bookwork', 'payroll', 'accountant', 'audit', 'auditor', 'invoice', 'ledger', 'paperwork', 'cashbook']\n",
      "\n",
      "Aspect: downtime\n",
      "Similar nouns: ['downtime', 'interruption', 'outage', 'latency', 'backup', 'shutdown', 'hassle']\n",
      "\n",
      "Aspect: interaction\n",
      "Similar nouns: ['interaction', 'communication', 'collaboration', 'rapport', 'interactivity', 'dialogue', 'interrelation', 'conversation', 'relationship', 'interplay']\n",
      "\n",
      "Aspect: sacrifice\n",
      "Similar nouns: ['sacrifice', 'selflessness', 'fellowman', 'devotion', 'courage', 'perseverance', 'heroism', 'dishonor', 'bravery', 'fortitude']\n",
      "\n",
      "Aspect: complexity\n",
      "Similar nouns: ['complexity', 'intricacy', 'sophistication', 'heterogeneity', 'simplicity', 'multiplicity', 'multidimensionality', 'scalability', 'granularity', 'arduousness']\n"
     ]
    }
   ],
   "source": [
    "pre_train_dict, pre_train_vec = function_aspect_detection(model_pre_trained, 10)\n",
    "plot_aspect_detected(pre_train_vec, target_words, pre_train_dict)\n",
    "display_dict_aspects(pre_train_dict)"
   ]
  },
  {
   "cell_type": "raw",
   "id": "4f52cd01-e43c-4d69-97de-e5183623bcb8",
   "metadata": {},
   "source": [
    "from transformers import BertModel, BertTokenizer\n",
    "import torch\n",
    "from sklearn.metrics.pairwise import cosine_similarity\n",
    "\n",
    "# Load BERT model and tokenizer\n",
    "tokenizer = BertTokenizer.from_pretrained('bert-base-uncased')\n",
    "model = BertModel.from_pretrained('bert-base-uncased')\n",
    "nlp = spacy.load(\"en_core_web_sm\")\n",
    "\n",
    "# Function to get top 10 similar nouns using BERT\n",
    "def get_top_similar_words_bert(word, candidate_words, topn=30):\n",
    "    word_embed = model(**tokenizer(word, return_tensors='pt'))[0].mean(1).detach()\n",
    "    candidates_embeds = []\n",
    "    similarities = []\n",
    "    \n",
    "    # Calculate embeddings and cosine similarity for each candidate\n",
    "    for candidate in candidate_words:\n",
    "        candidate_embed = model(**tokenizer(candidate, return_tensors='pt'))[0].mean(1).detach()\n",
    "        candidates_embeds.append(candidate_embed)\n",
    "        similarities.append(cosine_similarity(word_embed, candidate_embed).item())\n",
    "\n",
    "    # Rank words by similarity score\n",
    "    ranked_words = sorted(zip(candidate_words, similarities), key=lambda x: x[1], reverse=True)\n",
    "\n",
    "    # Filter for nouns with unique lemmas using spaCy\n",
    "    seen_lemmas = set()\n",
    "    noun_candidates = []\n",
    "    for similar_word, similarity in ranked_words:\n",
    "        doc = nlp(similar_word)\n",
    "        for token in doc:\n",
    "            if token.pos_ == \"NOUN\" and token.lemma_ not in seen_lemmas:\n",
    "                noun_candidates.append(similar_word)\n",
    "                seen_lemmas.add(token.lemma_)\n",
    "                break\n",
    "        if len(noun_candidates) == topn:\n",
    "            break\n",
    "    return noun_candidates\n",
    "\n",
    "# Example: Create a dictionary to store similar nouns for each aspect\n",
    "aspect_similar_words = {}\n",
    "for aspect in target_words:\n",
    "    # Generate candidate words (using a simple list for demonstration; could be extended)\n",
    "    candidate_words = [\"randomness\", \"chance\", \"opportunity\", \"strategy\", \"interaction\", \"complexity\", \"competition\", \"bookkeeping\", \"rules\", \"waiting\"]\n",
    "    aspect_similar_words[aspect] = get_top_similar_words_bert(aspect, candidate_words, topn=10)\n",
    "\n",
    "# Display the results\n",
    "for aspect, words in aspect_similar_words.items():\n",
    "    print(f\"Top 10 similar nouns for '{aspect}': {words}\")\n",
    "\n"
   ]
  },
  {
   "cell_type": "markdown",
   "id": "b7d81867-5bec-4dbf-9e15-4600a55b1118",
   "metadata": {},
   "source": [
    "### 2.2 Find aspect similat using cluster from existing model of comments"
   ]
  },
  {
   "cell_type": "markdown",
   "id": "dca6e9c8-6ea6-4d95-a62f-4e68720f2acd",
   "metadata": {},
   "source": [
    "Instead using a pre-trained model to search for similar nouns, we can use as model of Word2Vec the dataframe with all the comments about the boardgames.\n",
    "We can therefore:\n",
    "1. tokenize the comments keeping only the nouns\n",
    "2. search for top 10 nouns\n",
    "3. plot the cluster of these 6 groups as already done with pre-trained model"
   ]
  },
  {
   "cell_type": "code",
   "execution_count": 213,
   "id": "8257a477-aa72-460f-b0ab-0b8aceea71fb",
   "metadata": {},
   "outputs": [
    {
     "data": {
      "text/html": [
       "<div>\n",
       "<style scoped>\n",
       "    .dataframe tbody tr th:only-of-type {\n",
       "        vertical-align: middle;\n",
       "    }\n",
       "\n",
       "    .dataframe tbody tr th {\n",
       "        vertical-align: top;\n",
       "    }\n",
       "\n",
       "    .dataframe thead th {\n",
       "        text-align: right;\n",
       "    }\n",
       "</style>\n",
       "<table border=\"1\" class=\"dataframe\">\n",
       "  <thead>\n",
       "    <tr style=\"text-align: right;\">\n",
       "      <th></th>\n",
       "      <th>Game_ID</th>\n",
       "      <th>Comment</th>\n",
       "      <th>Comment_Rating</th>\n",
       "      <th>tokens</th>\n",
       "    </tr>\n",
       "  </thead>\n",
       "  <tbody>\n",
       "    <tr>\n",
       "      <th>1</th>\n",
       "      <td>174430</td>\n",
       "      <td>Excellent game. Balancing issues with some cha...</td>\n",
       "      <td>8.5</td>\n",
       "      <td>[game, end, game, player, game, epic, game, play]</td>\n",
       "    </tr>\n",
       "    <tr>\n",
       "      <th>3</th>\n",
       "      <td>174430</td>\n",
       "      <td>Best and most addictive coop game I’ve ever pl...</td>\n",
       "      <td>10.0</td>\n",
       "      <td>[coop, game, etc, time, party]</td>\n",
       "    </tr>\n",
       "  </tbody>\n",
       "</table>\n",
       "</div>"
      ],
      "text/plain": [
       "   Game_ID                                            Comment  Comment_Rating  \\\n",
       "1   174430  Excellent game. Balancing issues with some cha...             8.5   \n",
       "3   174430  Best and most addictive coop game I’ve ever pl...            10.0   \n",
       "\n",
       "                                              tokens  \n",
       "1  [game, end, game, player, game, epic, game, play]  \n",
       "3                     [coop, game, etc, time, party]  "
      ]
     },
     "execution_count": 213,
     "metadata": {},
     "output_type": "execute_result"
    }
   ],
   "source": [
    "# Preprocessing: function to clean, tokenize text and filter only nouns\n",
    "def preprocess_step(text):\n",
    "    # Remove non-alphabetic characters\n",
    "    text = re.sub(r'[^a-zA-Z\\s]', '', text)\n",
    "    # Tokenize sentences and words\n",
    "    words_token = nltk.word_tokenize(text.lower())\n",
    "    # Filter only tokens that are nouns\n",
    "    tags = nltk.pos_tag(words_token)\n",
    "    words_token = [word for word,pos in tags if pos == 'NN']\n",
    "    return words_token\n",
    "\n",
    "# Apply preprocessing to all comments\n",
    "df_comments_cluster = df_comments.copy()\n",
    "df_comments_cluster['tokens'] = df_comments_cluster['Comment'].apply(preprocess_step)\n",
    "df_comments_cluster.head(2)"
   ]
  },
  {
   "cell_type": "code",
   "execution_count": 214,
   "id": "2e45c286-30b6-4a61-b315-2f2b6934137a",
   "metadata": {},
   "outputs": [
    {
     "name": "stdout",
     "output_type": "stream",
     "text": [
      "Processing aspect  luck  -> ...\n",
      "Processing aspect  bookkeeping  -> ...\n",
      "Processing aspect  downtime  -> ...\n",
      "Processing aspect  interaction  -> ...\n",
      "Processing aspect  sacrifice  -> ...\n",
      "Processing aspect  complexity  -> ...\n"
     ]
    },
    {
     "data": {
      "image/png": "[encoded data removed]",
      "text/plain": [
       "<Figure size 1400x1000 with 1 Axes>"
      ]
     },
     "metadata": {},
     "output_type": "display_data"
    },
    {
     "name": "stdout",
     "output_type": "stream",
     "text": [
      "\n",
      "Aspect: luck\n",
      "Similar nouns: ['luck', 'factor', 'dice', 'impact', 'skill', 'term', 'mitigation', 'modifier', 'element', 'wrench', 'chance']\n",
      "\n",
      "Aspect: bookkeeping\n",
      "Similar nouns: ['bookkeeping', 'chore', 'drawback', 'eternity', 'minute', 'explanation', 'beast', 'nuance', 'patience', 'handful', 'mark']\n",
      "\n",
      "Aspect: downtime\n",
      "Similar nouns: ['downtime', 'paralysis', 'problem', 'alpha', 'pace', 'information', 'analysis', 'issue', 'length', 'syndrome', 'effort']\n",
      "\n",
      "Aspect: interaction\n",
      "Similar nouns: ['interaction', 'elimination', 'competition', 'player', 'shadow', 'tension', 'determinism', 'agency', 'balance', 'clockwise', 'asymmetry']\n",
      "\n",
      "Aspect: sacrifice\n",
      "Similar nouns: ['sacrifice', 'cure', 'scientist', 'potion', 'behavior', 'sabotage', 'funding', 'effectiveness', 'coda', 'reminder', 'relevance']\n",
      "\n",
      "Aspect: complexity\n",
      "Similar nouns: ['complexity', 'depth', 'variability', 'desirability', 'scalability', 'weight', 'repeatability', 'difficulty', 'enjoyment', 'teachability', 'challenge']\n"
     ]
    }
   ],
   "source": [
    "# Train a Word2Vec model on the tokenized comments\n",
    "model_rev_trained = Word2Vec(sentences=df_comments_cluster['tokens'], vector_size=100, window=5, min_count=1, workers=4)\n",
    "\n",
    "# using model trained on user reviews\n",
    "rev_train_dict,rev_train_vec = function_aspect_detection(model_rev_trained, 10, is_model=False)\n",
    "plot_aspect_detected(rev_train_vec, target_words, rev_train_dict)\n",
    "display_dict_aspects(rev_train_dict)"
   ]
  },
  {
   "cell_type": "markdown",
   "id": "067d0207-0572-438d-a39d-da4373037855",
   "metadata": {},
   "source": [
    "### 2.3 Set aspects using a rule based dictionary"
   ]
  },
  {
   "cell_type": "code",
   "execution_count": 215,
   "id": "09585ec3-4135-4d66-a292-ab801a88451c",
   "metadata": {},
   "outputs": [],
   "source": [
    "# Aspects and their keywords\n",
    "aspect_keywords = {\n",
    "    'luck': ['luck', 'random', 'chance', 'fortune', 'unpredictable', 'dice', 'out of control'],\n",
    "    'bookkeeping': ['bookkeeping', 'recording', 'log', 'reference', 'rulebook', 'manual', 'check the rules'],\n",
    "    'downtime': ['downtime', 'waiting', 'bored', 'idle', 'nothing to do', 'time between turns'],\n",
    "    'interaction': ['interaction', 'engagement', 'influence', 'cooperation', 'competitive', 'opponent'],\n",
    "    'bash_the_leader': ['bash the leader', 'ganging up', 'sacrifice', 'prevent victory', 'stop the leader'],\n",
    "    'complexity': ['complex', 'depth', 'strategy', 'complicated', 'rules-heavy', 'nuances']\n",
    "}"
   ]
  },
  {
   "cell_type": "markdown",
   "id": "d0187c9c-6436-41c4-af35-e4b374adccaf",
   "metadata": {},
   "source": [
    "## 3. Method 1: Aspect extraction & Sentiment Classification"
   ]
  },
  {
   "cell_type": "markdown",
   "id": "a233bc4d-8f1b-46be-a845-11258b51b2a2",
   "metadata": {},
   "source": [
    "#### 3.1 Aspect extraction\n",
    "For the 3 type of dictionaries that were build before we can extract words from comments, but we can decide to perform this steps just on 2 of them.\n",
    "This steps is quite simple:\n",
    "- analyze the comment field\n",
    "- store into a new columns a dictionary with {aspect: \"sentence\"} in quick the target words are found"
   ]
  },
  {
   "cell_type": "code",
   "execution_count": 221,
   "id": "025a00d4-1ee4-403c-b15a-d8e4be993edc",
   "metadata": {},
   "outputs": [],
   "source": [
    "# Apply preprocessing to all comments\n",
    "df_comments_1_pre = df_comments.copy()\n",
    "df_comments_2_mod = df_comments.copy()\n",
    "# df_comments_3_rul = df_comments.copy()"
   ]
  },
  {
   "cell_type": "code",
   "execution_count": 217,
   "id": "3689e078-922e-4f0e-8131-8a10189feb88",
   "metadata": {},
   "outputs": [],
   "source": [
    "# Function to get the aspects extracted from the comments\n",
    "\n",
    "# Define function to tokenize sentences\n",
    "def tokenize_sentences(text):\n",
    "    return nltk.sent_tokenize(text)\n",
    "\n",
    "# Function to check for keyword matches in the sentences\n",
    "def keyword_aspect_extraction(text, aspect_list):\n",
    "    aspects_found = defaultdict(list)\n",
    "    sentences = tokenize_sentences(text)\n",
    "    # iter into sentences and search for aspects_target\n",
    "    for sentence in sentences:\n",
    "        for aspect, keywords in aspect_list.items():\n",
    "            if any(keyword.lower() in sentence.lower() for keyword in keywords):\n",
    "                aspects_found[aspect].append(sentence)\n",
    "    return dict(aspects_found)"
   ]
  },
  {
   "cell_type": "markdown",
   "id": "59423c3f-5ca0-4744-a157-78df32dc0e96",
   "metadata": {},
   "source": [
    "1. Application on 1st dictionary"
   ]
  },
  {
   "cell_type": "code",
   "execution_count": 218,
   "id": "5446470f-579f-4cf8-83e2-e0cc3e88e0dc",
   "metadata": {},
   "outputs": [
    {
     "name": "stdout",
     "output_type": "stream",
     "text": [
      "Initial dataset dimension (71320, 4)\n",
      "Dimension after applying the filter: (7632, 4)\n"
     ]
    },
    {
     "data": {
      "text/html": [
       "<div>\n",
       "<style scoped>\n",
       "    .dataframe tbody tr th:only-of-type {\n",
       "        vertical-align: middle;\n",
       "    }\n",
       "\n",
       "    .dataframe tbody tr th {\n",
       "        vertical-align: top;\n",
       "    }\n",
       "\n",
       "    .dataframe thead th {\n",
       "        text-align: right;\n",
       "    }\n",
       "</style>\n",
       "<table border=\"1\" class=\"dataframe\">\n",
       "  <thead>\n",
       "    <tr style=\"text-align: right;\">\n",
       "      <th></th>\n",
       "      <th>Game_ID</th>\n",
       "      <th>Comment</th>\n",
       "      <th>Comment_Rating</th>\n",
       "      <th>Aspects_Extracted</th>\n",
       "    </tr>\n",
       "  </thead>\n",
       "  <tbody>\n",
       "    <tr>\n",
       "      <th>13</th>\n",
       "      <td>174430</td>\n",
       "      <td>Extremely well designed game. All classes are ...</td>\n",
       "      <td>9.0</td>\n",
       "      <td>{'luck': ['Missions often lead to \"edge-of-you...</td>\n",
       "    </tr>\n",
       "    <tr>\n",
       "      <th>16</th>\n",
       "      <td>174430</td>\n",
       "      <td>Imagine if D&amp;D's dungeon crawling and role-pla...</td>\n",
       "      <td>10.0</td>\n",
       "      <td>{'interaction': ['Insane amounts of content, i...</td>\n",
       "    </tr>\n",
       "    <tr>\n",
       "      <th>17</th>\n",
       "      <td>174430</td>\n",
       "      <td>Very mechanical, abstract and repetitive, and ...</td>\n",
       "      <td>5.0</td>\n",
       "      <td>{'interaction': ['I strongly dislike the limit...</td>\n",
       "    </tr>\n",
       "    <tr>\n",
       "      <th>54</th>\n",
       "      <td>174430</td>\n",
       "      <td>My limited interactions with Gloomhaven left m...</td>\n",
       "      <td>5.0</td>\n",
       "      <td>{'interaction': ['My limited interactions with...</td>\n",
       "    </tr>\n",
       "    <tr>\n",
       "      <th>64</th>\n",
       "      <td>174430</td>\n",
       "      <td>Gloomhaven is NOT for the casual gamer. I woul...</td>\n",
       "      <td>8.0</td>\n",
       "      <td>{'luck': ['You WILL feel pain and suffering, t...</td>\n",
       "    </tr>\n",
       "  </tbody>\n",
       "</table>\n",
       "</div>"
      ],
      "text/plain": [
       "    Game_ID                                            Comment  \\\n",
       "13   174430  Extremely well designed game. All classes are ...   \n",
       "16   174430  Imagine if D&D's dungeon crawling and role-pla...   \n",
       "17   174430  Very mechanical, abstract and repetitive, and ...   \n",
       "54   174430  My limited interactions with Gloomhaven left m...   \n",
       "64   174430  Gloomhaven is NOT for the casual gamer. I woul...   \n",
       "\n",
       "    Comment_Rating                                  Aspects_Extracted  \n",
       "13             9.0  {'luck': ['Missions often lead to \"edge-of-you...  \n",
       "16            10.0  {'interaction': ['Insane amounts of content, i...  \n",
       "17             5.0  {'interaction': ['I strongly dislike the limit...  \n",
       "54             5.0  {'interaction': ['My limited interactions with...  \n",
       "64             8.0  {'luck': ['You WILL feel pain and suffering, t...  "
      ]
     },
     "execution_count": 218,
     "metadata": {},
     "output_type": "execute_result"
    }
   ],
   "source": [
    "# Apply aspect extraction on each comment on the 1st model\n",
    "df_comments_1_pre['Aspects_Extracted'] = df_comments_1_pre['Comment'].apply(lambda x: keyword_aspect_extraction(x, pre_train_dict))\n",
    "print(\"Initial dataset dimension\",df_comments_1_pre.shape)\n",
    "# Apply filter to keep only extracted aspects\n",
    "df_filtered_1 = df_comments_1_pre[df_comments_1_pre['Aspects_Extracted'].apply(lambda x: any(len(v) > 0 for v in x.values()))]\n",
    "print(\"Dimension after applying the filter:\", df_filtered_1.shape)\n",
    "df_filtered_1.head(5)"
   ]
  },
  {
   "cell_type": "code",
   "execution_count": 249,
   "id": "e35572b8-d452-4901-9785-b74c970d6323",
   "metadata": {},
   "outputs": [
    {
     "data": {
      "text/plain": [
       "{'luck': ['It happened quite a few times that either an enemy asspulled 2x DMG, or you failed to land a hit in crucial moments and you ended up dead, luck mitigation is non existent and frustrating.']}"
      ]
     },
     "execution_count": 249,
     "metadata": {},
     "output_type": "execute_result"
    }
   ],
   "source": [
    "# Example of how the columns Aspects_Extracted looks like\n",
    "df_filtered_1.iloc[6,3]"
   ]
  },
  {
   "cell_type": "markdown",
   "id": "d5fa7cd8-bd5b-490a-bf6c-6d9886652b33",
   "metadata": {},
   "source": [
    "2. Application on 2nd dictionary"
   ]
  },
  {
   "cell_type": "code",
   "execution_count": 222,
   "id": "0523d688-fc70-41a1-af47-d07a5193f374",
   "metadata": {},
   "outputs": [
    {
     "name": "stdout",
     "output_type": "stream",
     "text": [
      "Initial dataset dimension of dataset (71320, 4)\n",
      "Dimension after applying the filfer of only rows with columns (25337, 4)\n"
     ]
    },
    {
     "data": {
      "text/html": [
       "<div>\n",
       "<style scoped>\n",
       "    .dataframe tbody tr th:only-of-type {\n",
       "        vertical-align: middle;\n",
       "    }\n",
       "\n",
       "    .dataframe tbody tr th {\n",
       "        vertical-align: top;\n",
       "    }\n",
       "\n",
       "    .dataframe thead th {\n",
       "        text-align: right;\n",
       "    }\n",
       "</style>\n",
       "<table border=\"1\" class=\"dataframe\">\n",
       "  <thead>\n",
       "    <tr style=\"text-align: right;\">\n",
       "      <th></th>\n",
       "      <th>Game_ID</th>\n",
       "      <th>Comment</th>\n",
       "      <th>Comment_Rating</th>\n",
       "      <th>Aspects_Extracted</th>\n",
       "    </tr>\n",
       "  </thead>\n",
       "  <tbody>\n",
       "    <tr>\n",
       "      <th>1</th>\n",
       "      <td>174430</td>\n",
       "      <td>Excellent game. Balancing issues with some cha...</td>\n",
       "      <td>8.5</td>\n",
       "      <td>{'downtime': ['Balancing issues with some char...</td>\n",
       "    </tr>\n",
       "    <tr>\n",
       "      <th>6</th>\n",
       "      <td>174430</td>\n",
       "      <td>This game is a beast. So far my group has only...</td>\n",
       "      <td>9.0</td>\n",
       "      <td>{'bookkeeping': ['This game is a beast.', 'So ...</td>\n",
       "    </tr>\n",
       "    <tr>\n",
       "      <th>10</th>\n",
       "      <td>174430</td>\n",
       "      <td>I kickstarted the 1st edition of Gloomhaven bu...</td>\n",
       "      <td>5.0</td>\n",
       "      <td>{'bookkeeping': ['The cardboard terrain is dou...</td>\n",
       "    </tr>\n",
       "    <tr>\n",
       "      <th>12</th>\n",
       "      <td>174430</td>\n",
       "      <td>Gloomhaven is sold as D&amp;D but better. It's not...</td>\n",
       "      <td>1.0</td>\n",
       "      <td>{'downtime': ['No role playing, no creative pr...</td>\n",
       "    </tr>\n",
       "    <tr>\n",
       "      <th>13</th>\n",
       "      <td>174430</td>\n",
       "      <td>Extremely well designed game. All classes are ...</td>\n",
       "      <td>9.0</td>\n",
       "      <td>{'interaction': ['All classes are fun to play,...</td>\n",
       "    </tr>\n",
       "  </tbody>\n",
       "</table>\n",
       "</div>"
      ],
      "text/plain": [
       "    Game_ID                                            Comment  \\\n",
       "1    174430  Excellent game. Balancing issues with some cha...   \n",
       "6    174430  This game is a beast. So far my group has only...   \n",
       "10   174430  I kickstarted the 1st edition of Gloomhaven bu...   \n",
       "12   174430  Gloomhaven is sold as D&D but better. It's not...   \n",
       "13   174430  Extremely well designed game. All classes are ...   \n",
       "\n",
       "    Comment_Rating                                  Aspects_Extracted  \n",
       "1              8.5  {'downtime': ['Balancing issues with some char...  \n",
       "6              9.0  {'bookkeeping': ['This game is a beast.', 'So ...  \n",
       "10             5.0  {'bookkeeping': ['The cardboard terrain is dou...  \n",
       "12             1.0  {'downtime': ['No role playing, no creative pr...  \n",
       "13             9.0  {'interaction': ['All classes are fun to play,...  "
      ]
     },
     "execution_count": 222,
     "metadata": {},
     "output_type": "execute_result"
    }
   ],
   "source": [
    "# Apply aspect extraction on each comment on the 2nd model\n",
    "df_comments_2_mod['Aspects_Extracted'] = df_comments_2_mod['Comment'].apply(lambda x: keyword_aspect_extraction(x, rev_train_dict))\n",
    "print(\"Initial dataset dimension of dataset\",df_comments_2_mod.shape)\n",
    "# Apply filter to keep only extracted aspects\n",
    "df_filtered_2 = df_comments_2_mod[df_comments_2_mod['Aspects_Extracted'].apply(lambda x: any(len(v) > 0 for v in x.values()))]\n",
    "print(\"Dimension after applying the filfer of only rows with columns\", df_filtered_2.shape)\n",
    "df_filtered_2.head(5)"
   ]
  },
  {
   "cell_type": "code",
   "execution_count": 223,
   "id": "229e1490-e238-4155-9e35-6ed72b0f21b2",
   "metadata": {},
   "outputs": [
    {
     "data": {
      "text/plain": [
       "{'interaction': [\"Very mechanical, abstract and repetitive, and I wouldn't call it particularly thematic (the strength surely lies in the player card mechanisms), but intriguing nonetheless, as an optimization puzzle.\"],\n",
       " 'downtime': ['With each play so far, the game feels more and more like an abstract, mechanical, repetitive challenge with a clever system where a few components (your hand of cards) can be combined in multiple ways for many potential solutions, and it feels like the thematic and narrative efforts are just silly.'],\n",
       " 'complexity': ['With each play so far, the game feels more and more like an abstract, mechanical, repetitive challenge with a clever system where a few components (your hand of cards) can be combined in multiple ways for many potential solutions, and it feels like the thematic and narrative efforts are just silly.']}"
      ]
     },
     "execution_count": 223,
     "metadata": {},
     "output_type": "execute_result"
    }
   ],
   "source": [
    "# How the columns Aspects_Extracted looks like\n",
    "df_filtered_2.iloc[6,3]"
   ]
  },
  {
   "cell_type": "markdown",
   "id": "37cd1085-c824-414b-b949-6b2ffd3a33a9",
   "metadata": {},
   "source": [
    "#### 3.2 Sentiment classification"
   ]
  },
  {
   "cell_type": "markdown",
   "id": "a073aab1-b860-4ea8-85ca-0f3087724371",
   "metadata": {},
   "source": [
    "Perform sentiment classification using TextBlob library that analyzes the sentences referred to the aspect and gives a polarity rate for each of them into a new colums, storing the result into a dictionary"
   ]
  },
  {
   "cell_type": "code",
   "execution_count": 228,
   "id": "0e1f5e10-8445-47a0-a097-732c6343bae4",
   "metadata": {},
   "outputs": [],
   "source": [
    "# Function to extract sentiment for each aspect-related sentence\n",
    "def extract_sentiment(sentences):\n",
    "    sentiments = []\n",
    "    for sentence in sentences:\n",
    "        blob = TextBlob(sentence)\n",
    "        sentiment = blob.sentiment.polarity\n",
    "        if sentiment > 0.05:\n",
    "            sentiments.append('positive')\n",
    "        elif sentiment < -0.05:\n",
    "            sentiments.append('negative')\n",
    "        else:\n",
    "            sentiments.append('neutral')\n",
    "    return sentiments\n",
    "\n",
    "# Apply sentiment analysis to extracted aspects\n",
    "def aspect_sentiment_analysis(df):\n",
    "    df['Aspect_Sentiments'] = df['Aspects_Extracted'].apply(lambda aspects: {aspect: extract_sentiment(sentences) for aspect, sentences in aspects.items()})\n",
    "    return df"
   ]
  },
  {
   "cell_type": "code",
   "execution_count": 229,
   "id": "dfcd36ac-4080-45f2-8946-7cd275c24da8",
   "metadata": {},
   "outputs": [
    {
     "name": "stdout",
     "output_type": "stream",
     "text": [
      "{'luck': ['negative', 'negative', 'positive']}\n"
     ]
    },
    {
     "data": {
      "text/html": [
       "<div>\n",
       "<style scoped>\n",
       "    .dataframe tbody tr th:only-of-type {\n",
       "        vertical-align: middle;\n",
       "    }\n",
       "\n",
       "    .dataframe tbody tr th {\n",
       "        vertical-align: top;\n",
       "    }\n",
       "\n",
       "    .dataframe thead th {\n",
       "        text-align: right;\n",
       "    }\n",
       "</style>\n",
       "<table border=\"1\" class=\"dataframe\">\n",
       "  <thead>\n",
       "    <tr style=\"text-align: right;\">\n",
       "      <th></th>\n",
       "      <th>Game_ID</th>\n",
       "      <th>Comment</th>\n",
       "      <th>Comment_Rating</th>\n",
       "      <th>Aspects_Extracted</th>\n",
       "      <th>Aspect_Sentiments</th>\n",
       "    </tr>\n",
       "  </thead>\n",
       "  <tbody>\n",
       "    <tr>\n",
       "      <th>13</th>\n",
       "      <td>174430</td>\n",
       "      <td>Extremely well designed game. All classes are ...</td>\n",
       "      <td>9.0</td>\n",
       "      <td>{'luck': ['Missions often lead to \"edge-of-you...</td>\n",
       "      <td>{'luck': ['positive']}</td>\n",
       "    </tr>\n",
       "    <tr>\n",
       "      <th>16</th>\n",
       "      <td>174430</td>\n",
       "      <td>Imagine if D&amp;D's dungeon crawling and role-pla...</td>\n",
       "      <td>10.0</td>\n",
       "      <td>{'interaction': ['Insane amounts of content, i...</td>\n",
       "      <td>{'interaction': ['negative']}</td>\n",
       "    </tr>\n",
       "    <tr>\n",
       "      <th>17</th>\n",
       "      <td>174430</td>\n",
       "      <td>Very mechanical, abstract and repetitive, and ...</td>\n",
       "      <td>5.0</td>\n",
       "      <td>{'interaction': ['I strongly dislike the limit...</td>\n",
       "      <td>{'interaction': ['positive']}</td>\n",
       "    </tr>\n",
       "    <tr>\n",
       "      <th>54</th>\n",
       "      <td>174430</td>\n",
       "      <td>My limited interactions with Gloomhaven left m...</td>\n",
       "      <td>5.0</td>\n",
       "      <td>{'interaction': ['My limited interactions with...</td>\n",
       "      <td>{'interaction': ['positive']}</td>\n",
       "    </tr>\n",
       "    <tr>\n",
       "      <th>64</th>\n",
       "      <td>174430</td>\n",
       "      <td>Gloomhaven is NOT for the casual gamer. I woul...</td>\n",
       "      <td>8.0</td>\n",
       "      <td>{'luck': ['You WILL feel pain and suffering, t...</td>\n",
       "      <td>{'luck': ['negative', 'negative', 'positive']}</td>\n",
       "    </tr>\n",
       "  </tbody>\n",
       "</table>\n",
       "</div>"
      ],
      "text/plain": [
       "    Game_ID                                            Comment  \\\n",
       "13   174430  Extremely well designed game. All classes are ...   \n",
       "16   174430  Imagine if D&D's dungeon crawling and role-pla...   \n",
       "17   174430  Very mechanical, abstract and repetitive, and ...   \n",
       "54   174430  My limited interactions with Gloomhaven left m...   \n",
       "64   174430  Gloomhaven is NOT for the casual gamer. I woul...   \n",
       "\n",
       "    Comment_Rating                                  Aspects_Extracted  \\\n",
       "13             9.0  {'luck': ['Missions often lead to \"edge-of-you...   \n",
       "16            10.0  {'interaction': ['Insane amounts of content, i...   \n",
       "17             5.0  {'interaction': ['I strongly dislike the limit...   \n",
       "54             5.0  {'interaction': ['My limited interactions with...   \n",
       "64             8.0  {'luck': ['You WILL feel pain and suffering, t...   \n",
       "\n",
       "                                 Aspect_Sentiments  \n",
       "13                          {'luck': ['positive']}  \n",
       "16                   {'interaction': ['negative']}  \n",
       "17                   {'interaction': ['positive']}  \n",
       "54                   {'interaction': ['positive']}  \n",
       "64  {'luck': ['negative', 'negative', 'positive']}  "
      ]
     },
     "execution_count": 229,
     "metadata": {},
     "output_type": "execute_result"
    }
   ],
   "source": [
    "# Apply aspect sentiment analysis\n",
    "df_filtered_1 = aspect_sentiment_analysis(df_filtered_1)\n",
    "# Display one example\n",
    "print(df_filtered_1.iloc[4,4])\n",
    "# Display results of the output df\n",
    "df_filtered_1.head(5)"
   ]
  },
  {
   "cell_type": "markdown",
   "id": "40da8244-66c0-435e-bf3e-3fb4b1c34e95",
   "metadata": {},
   "source": [
    "Display the analyzed sentiment of the games for both models 1 and 2 with their specific aspects."
   ]
  },
  {
   "cell_type": "code",
   "execution_count": 230,
   "id": "1a886aee-530f-410b-88dc-e0e9252a5c78",
   "metadata": {},
   "outputs": [],
   "source": [
    "# Function to filter by game_id and count sentiment occurrences for all aspects\n",
    "def filter_sentiments_by_game(df, col_name, game_id=None):\n",
    "    if game_id==None:\n",
    "        filtered_df = df    \n",
    "    else:\n",
    "        filtered_df = df[df['Game_ID'] == game_id]  # Filter by game_id\n",
    "    sentiment_counts = defaultdict(lambda: defaultdict(int))\n",
    "    for _, row in filtered_df.iterrows():\n",
    "        for aspect, sentiments in row[col_name].items():\n",
    "            for sentiment in sentiments:\n",
    "                sentiment_counts[aspect][sentiment] += 1\n",
    "    return sentiment_counts\n",
    "\n",
    "# Convert the sentiment counts to long-form DataFrame for FacetGrid\n",
    "def prepare_long_form_df(sentiment_counts):\n",
    "    data = []    \n",
    "    for aspect, sentiments in sentiment_counts.items():\n",
    "        for sentiment, count in sentiments.items():\n",
    "            data.append({\n",
    "                'Aspect': aspect,\n",
    "                'Sentiment': sentiment,\n",
    "                'Count': count\n",
    "            })\n",
    "    return pd.DataFrame(data)\n",
    "\n",
    "# Function to create FacetGrid plot\n",
    "def plot_facetgrid_sentiments(df, col_name, game_id=None):\n",
    "    # Step 1: Get sentiment counts for all aspects for the given game_id\n",
    "    sentiment_counts = filter_sentiments_by_game_mod(df, col_name, game_id)\n",
    "    # Step 2: Prepare the long-form DataFrame for Seaborn\n",
    "    long_df = prepare_long_form_df(sentiment_counts)\n",
    "    print(long_df)\n",
    "    # Step 3: Create a FacetGrid to plot sentiment distribution per aspect\n",
    "    g = sns.FacetGrid(long_df, col=\"Aspect\", col_wrap=3, height=4, aspect=1.5)\n",
    "    g.map(sns.barplot, \"Sentiment\", \"Count\", palette=\"viridis\",order=long_df.Sentiment.unique())\n",
    "    g.add_legend()\n",
    "    # Adjust plot titles and labels\n",
    "    g.set_titles(\"{col_name}\")\n",
    "    g.set_axis_labels(\"Sentiment\", \"Count\")\n",
    "    for ax in g.axes:\n",
    "        for p in ax.patches:\n",
    "                 ax.annotate(\"%.0f\" % p.get_height(), (p.get_x() + p.get_width() / 2., p.get_height()),\n",
    "                     ha='center', va='center', fontsize=11, color='black', xytext=(0, 5),\n",
    "                     textcoords='offset points')\n",
    "    # Show the plot\n",
    "    plt.tight_layout()\n",
    "    plt.show()"
   ]
  },
  {
   "cell_type": "code",
   "execution_count": 231,
   "id": "5d124d3b-2aa5-40e4-a972-16e08fb191a9",
   "metadata": {},
   "outputs": [
    {
     "name": "stdout",
     "output_type": "stream",
     "text": [
      "         Aspect Sentiment  Count\n",
      "0    complexity  positive    172\n",
      "1    complexity  negative     95\n",
      "2    complexity   neutral    101\n",
      "3          luck  positive    116\n",
      "4          luck   neutral     49\n",
      "5          luck  negative     39\n",
      "6   interaction  positive    107\n",
      "7   interaction   neutral     45\n",
      "8   interaction  negative     38\n",
      "9   bookkeeping  negative      7\n",
      "10  bookkeeping  positive     10\n",
      "11  bookkeeping   neutral      5\n",
      "12    sacrifice  positive     18\n",
      "13    sacrifice   neutral      4\n",
      "14    sacrifice  negative      7\n",
      "15     downtime  negative     11\n",
      "16     downtime  positive     12\n",
      "17     downtime   neutral     12\n"
     ]
    },
    {
     "data": {
      "image/png": "[encoded data removed]",
      "text/plain": [
       "<Figure size 1811.11x800 with 6 Axes>"
      ]
     },
     "metadata": {},
     "output_type": "display_data"
    }
   ],
   "source": [
    "game_id_to_filter = 162886 # Example game ID (others 174430,...)\n",
    "# Apply the FacetGrid plotting function\n",
    "plot_facetgrid_sentiments(df_filtered_1, 'Aspect_Sentiments', game_id_to_filter)"
   ]
  },
  {
   "cell_type": "code",
   "execution_count": 233,
   "id": "117bfaa9-719b-4cab-969a-02f8b9c5c935",
   "metadata": {},
   "outputs": [
    {
     "name": "stdout",
     "output_type": "stream",
     "text": [
      "         Aspect Sentiment  Count\n",
      "0   interaction  positive   1106\n",
      "1   interaction  negative    432\n",
      "2   interaction   neutral    454\n",
      "3    complexity  positive    767\n",
      "4    complexity   neutral    346\n",
      "5    complexity  negative    329\n",
      "6      downtime  negative    206\n",
      "7      downtime   neutral    211\n",
      "8      downtime  positive    345\n",
      "9   bookkeeping  positive    123\n",
      "10  bookkeeping  negative     57\n",
      "11  bookkeeping   neutral     52\n",
      "12         luck  positive    261\n",
      "13         luck   neutral    130\n",
      "14         luck  negative    123\n",
      "15    sacrifice  positive     17\n",
      "16    sacrifice  negative      7\n",
      "17    sacrifice   neutral      6\n"
     ]
    },
    {
     "data": {
      "image/png": "[encoded data removed]",
      "text/plain": [
       "<Figure size 1811.11x800 with 6 Axes>"
      ]
     },
     "metadata": {},
     "output_type": "display_data"
    }
   ],
   "source": [
    "# Apply aspect sentiment analysis - 2nd model\n",
    "df_filtered_2 = aspect_sentiment_analysis(df_filtered_2)\n",
    "# Apply the FacetGrid plotting function\n",
    "plot_facetgrid_sentiments(df_filtered_2, 'Aspect_Sentiments',game_id_to_filter)"
   ]
  },
  {
   "cell_type": "markdown",
   "id": "6feb7489-46db-4772-8639-5380e0b3450d",
   "metadata": {},
   "source": [
    "We can look at some of this example to check how the algorithm process the outputs"
   ]
  },
  {
   "cell_type": "code",
   "execution_count": 245,
   "id": "63d0b3f9-535e-4b29-925d-fcc83dda547e",
   "metadata": {},
   "outputs": [
    {
     "name": "stdout",
     "output_type": "stream",
     "text": [
      "Original Comment:\n",
      "Extremely well designed game. All classes are fun to play, and seemingly well balanced. Missions often lead to \"edge-of-your-seat\" moments, where one or two cards can determine the difference between success or failure (or perhaps it is just my group that suck :)). Highly recommended!\n",
      "\n",
      "Rating:\n",
      "9.0\n",
      "\n",
      "Aspects Extracted:\n",
      "{'luck': ['Missions often lead to \"edge-of-your-seat\" moments, where one or two cards can determine the difference between success or failure (or perhaps it is just my group that suck :)).']}\n",
      "\n",
      "Aspect Sentiments:\n",
      "Aspect: luck, Sentiment: ['positive']\n"
     ]
    }
   ],
   "source": [
    "# analyze output results\n",
    "sample_index = 0  # Change this to see different comments\n",
    "sample_comment = df_filtered_1.iloc[sample_index]\n",
    "# Display comments , etc.\n",
    "print(\"Original Comment:\")\n",
    "print(sample_comment['Comment'])\n",
    "print(\"\\nRating:\")\n",
    "print(sample_comment['Comment_Rating'])\n",
    "print(\"\\nAspects Extracted:\")\n",
    "print(sample_comment['Aspects_Extracted'])\n",
    "print(\"\\nAspect Sentiments:\")\n",
    "for aspect, sentiment in sample_comment['Aspect_Sentiments'].items():\n",
    "    print(f\"Aspect: {aspect}, Sentiment: {sentiment}\")"
   ]
  },
  {
   "cell_type": "code",
   "execution_count": 246,
   "id": "98971877-fe05-4e66-abd2-582c70bf3e18",
   "metadata": {},
   "outputs": [
    {
     "name": "stdout",
     "output_type": "stream",
     "text": [
      "Original Comment:\n",
      "Extremely well designed game. All classes are fun to play, and seemingly well balanced. Missions often lead to \"edge-of-your-seat\" moments, where one or two cards can determine the difference between success or failure (or perhaps it is just my group that suck :)). Highly recommended!\n",
      "\n",
      "Rating:\n",
      "9.0\n",
      "\n",
      "Aspects Extracted:\n",
      "{'interaction': ['All classes are fun to play, and seemingly well balanced.'], 'luck': ['Missions often lead to \"edge-of-your-seat\" moments, where one or two cards can determine the difference between success or failure (or perhaps it is just my group that suck :)).']}\n",
      "\n",
      "Aspect Sentiments:\n",
      "Aspect: interaction, Sentiment: ['positive']\n",
      "Aspect: luck, Sentiment: ['positive']\n"
     ]
    }
   ],
   "source": [
    "# analyze output results\n",
    "sample_index = 4  # Change this to see different comments\n",
    "sample_comment = df_filtered_2.iloc[sample_index]\n",
    "# Display comments , etc.\n",
    "print(\"Original Comment:\")\n",
    "print(sample_comment['Comment'])\n",
    "print(\"\\nRating:\")\n",
    "print(sample_comment['Comment_Rating'])\n",
    "print(\"\\nAspects Extracted:\")\n",
    "print(sample_comment['Aspects_Extracted'])\n",
    "print(\"\\nAspect Sentiments:\")\n",
    "for aspect, sentiment in sample_comment['Aspect_Sentiments'].items():\n",
    "    print(f\"Aspect: {aspect}, Sentiment: {sentiment}\")"
   ]
  },
  {
   "cell_type": "markdown",
   "id": "1e95b999-92c4-4def-9239-77dcf26de54e",
   "metadata": {},
   "source": [
    "## 4. Methods 2: Aspect extraction & Sentiment Classification"
   ]
  },
  {
   "cell_type": "markdown",
   "id": "5e7633ca-15c4-4d3d-98ff-6eb0c7b1a7a6",
   "metadata": {},
   "source": [
    "This second methods uses the dependency parsing to get:\n",
    "- adject dependency to nouns\n",
    "- nouns + verb + adj dependecies\n",
    "\n",
    "with regards to our target aspects related to aspects"
   ]
  },
  {
   "cell_type": "code",
   "execution_count": 247,
   "id": "dbb7f55e-4074-47f2-8c83-a6318ebe0b0f",
   "metadata": {},
   "outputs": [
    {
     "name": "stdout",
     "output_type": "stream",
     "text": [
      "Takes -> advcl -> is\n",
      "too -> advmod -> long\n",
      "long -> advmod -> Takes\n",
      "to -> aux -> set\n",
      "set -> xcomp -> Takes\n",
      "up -> prt -> set\n",
      ", -> punct -> is\n",
      "bookkeeping -> nsubj -> is\n",
      "is -> ROOT -> is\n",
      "a -> det -> hassle\n",
      "hassle -> attr -> is\n",
      ". -> punct -> is\n",
      "That -> det -> RPG\n",
      "aside -> advmod -> RPG\n",
      ", -> punct -> RPG\n",
      "a -> det -> RPG\n",
      "great -> amod -> table\n",
      "table -> nmod -> RPG\n",
      "top -> amod -> RPG\n",
      "RPG -> ROOT -> RPG\n"
     ]
    }
   ],
   "source": [
    "# Example: parse the text and visualize the dependency structure\n",
    "review = df_filtered_1['Comment'].values\n",
    "doc = nlp(review[8])\n",
    "for token in doc:\n",
    "    print(f\"{token.text} -> {token.dep_} -> {token.head.text}\")"
   ]
  },
  {
   "cell_type": "code",
   "execution_count": 248,
   "id": "e413170c-fad0-4c81-976c-d1713c4c9212",
   "metadata": {},
   "outputs": [
    {
     "data": {
      "text/html": [
       "<div>\n",
       "<style scoped>\n",
       "    .dataframe tbody tr th:only-of-type {\n",
       "        vertical-align: middle;\n",
       "    }\n",
       "\n",
       "    .dataframe tbody tr th {\n",
       "        vertical-align: top;\n",
       "    }\n",
       "\n",
       "    .dataframe thead th {\n",
       "        text-align: right;\n",
       "    }\n",
       "</style>\n",
       "<table border=\"1\" class=\"dataframe\">\n",
       "  <thead>\n",
       "    <tr style=\"text-align: right;\">\n",
       "      <th></th>\n",
       "      <th>text</th>\n",
       "      <th>root</th>\n",
       "      <th>root_dep</th>\n",
       "      <th>root_head</th>\n",
       "    </tr>\n",
       "  </thead>\n",
       "  <tbody>\n",
       "    <tr>\n",
       "      <th>0</th>\n",
       "      <td>bookkeeping</td>\n",
       "      <td>bookkeeping</td>\n",
       "      <td>nsubj</td>\n",
       "      <td>is</td>\n",
       "    </tr>\n",
       "    <tr>\n",
       "      <th>1</th>\n",
       "      <td>a hassle</td>\n",
       "      <td>hassle</td>\n",
       "      <td>attr</td>\n",
       "      <td>is</td>\n",
       "    </tr>\n",
       "    <tr>\n",
       "      <th>2</th>\n",
       "      <td>That aside, a great table top RPG</td>\n",
       "      <td>RPG</td>\n",
       "      <td>ROOT</td>\n",
       "      <td>RPG</td>\n",
       "    </tr>\n",
       "  </tbody>\n",
       "</table>\n",
       "</div>"
      ],
      "text/plain": [
       "                                text         root root_dep root_head\n",
       "0                        bookkeeping  bookkeeping    nsubj        is\n",
       "1                           a hassle       hassle     attr        is\n",
       "2  That aside, a great table top RPG          RPG     ROOT       RPG"
      ]
     },
     "execution_count": 248,
     "metadata": {},
     "output_type": "execute_result"
    }
   ],
   "source": [
    "#dependency parse for noun phrase can be seen as a dataframe\n",
    "components = []\n",
    "for chunk in doc.noun_chunks:\n",
    "    components.append({\n",
    "        'text': chunk.text, 'root': chunk.root.text, 'root_dep': chunk.root.dep_, \n",
    "        'root_head': chunk.root.head.text\n",
    "    })\n",
    "pd.DataFrame(components)"
   ]
  },
  {
   "cell_type": "markdown",
   "id": "f0845374-66ef-4024-99b1-924f282327de",
   "metadata": {},
   "source": [
    "#### 4.1 Aspect extraction (with adaptation from course main functions)"
   ]
  },
  {
   "cell_type": "markdown",
   "id": "765be5ee-0526-4026-abfe-d88a02fd2ac7",
   "metadata": {},
   "source": [
    "Explore the pattern dependency with adjectived and verbs related to target words. \n",
    "\n",
    "This steps starts from available function of the Text Mining and Sentiment Analysis course, that are tuned somehow for the specific purpose of this project."
   ]
  },
  {
   "cell_type": "code",
   "execution_count": 251,
   "id": "55c09007-bee3-4246-b171-ca42b80dd58d",
   "metadata": {},
   "outputs": [],
   "source": [
    "def spacy_sentences(nlp, text):\n",
    "    #### function to split text in input into sentences ####\n",
    "    sentences = []\n",
    "    for sent in nlp(text).sents:\n",
    "        sentences.append(sent)\n",
    "    return sentences\n",
    "\n",
    "def explore(token, children=None, level=0, order=None):\n",
    "    #### function to get children related to a specific token given in input ####\n",
    "    if children is None:\n",
    "        children = []\n",
    "    if order is None:\n",
    "        order = token.idx\n",
    "    for child in token.children:\n",
    "        children.append((child, level, child.idx < order))\n",
    "        explore(child, children=children, level=level+1, order=order)\n",
    "    return children\n",
    "\n",
    "def search_adjectives(nlp_text, target_list_words, nouns=None):\n",
    "    #### function to map adjectived to nouns ####\n",
    "    # prepare a mapping dictionary of nouns and related adjectives\n",
    "    nouns_map = dict([(x, []) for x in nlp_text if x.pos_ in ['NOUN', 'PROPN'] if x.lemma_ in target_list_words]) \n",
    "    if nouns is None:\n",
    "        nouns = nouns_map.keys()\n",
    "    else:\n",
    "        pass\n",
    "    for noun in nouns:\n",
    "        subtree = explore(noun)\n",
    "        subnouns = [(x, l) for x, l, _ in subtree if x.pos_ in ['NOUN', 'PROPN']]\n",
    "        for token, level, left in subtree:\n",
    "            if token.pos_ == 'ADJ' and len([(n, l) for n, l in subnouns if l < level]) == 0:\n",
    "                # Check for negation in adjective's children\n",
    "                negated = any(child.dep_ == 'neg' for child in token.children) or \\\n",
    "                          any(parent.dep_ == 'neg' for parent in token.head.children if parent != token)\n",
    "                try:\n",
    "                    # item in mapping dictionary is a tuple that tells if an adjective if it is negated ot not in the sentence\n",
    "                    nouns_map[noun].append((token, \"negated\" if negated else \"positive\"))\n",
    "                except KeyError:\n",
    "                    pass\n",
    "    return nouns_map\n",
    "\n",
    "def verb_adjectives(text, adjective_map, target_words, be_only=True):\n",
    "    #### function to search for verb patterns: noun -> verb -> adjective ####\n",
    "    if be_only:\n",
    "        verbs = [x for x in text if x.lemma_ == 'be']\n",
    "    else:\n",
    "        verbs = [x for x in text if x.pos_ in {'AUX', 'VERB'}]\n",
    "    # iteration on all verbs in the text\n",
    "    for verb in verbs:\n",
    "        subtokens = explore(verb)\n",
    "        subject = [(x) for x, level, left in subtokens if left and x.dep_ == 'nsubj']\n",
    "        if len(subject) > 0:\n",
    "            subj = subject[0]\n",
    "            for candidate, level, left in subtokens:\n",
    "                if not left:\n",
    "                    if candidate.pos_ == 'ADJ' and level == 0:\n",
    "                        # Check for possible negation in the childern\n",
    "                        negated = any(child.dep_ == 'neg' for child in candidate.children) or \\\n",
    "                                  any(parent.dep_ == 'neg' for parent in candidate.head.children if parent != candidate)\n",
    "                        try:\n",
    "                            # update the adjective mapping function with possible negation or not\n",
    "                            adjective_map[subj].append((candidate, \"negated\" if negated else \"positive\")) \n",
    "                        except KeyError:\n",
    "                            pass\n",
    "                    elif candidate.dep_ in ['dobj', 'attr', 'conj']:\n",
    "                        adj = search_adjectives(text, target_words, nouns=[candidate])\n",
    "                        try:\n",
    "                            adjective_map[subj] += adj[candidate]\n",
    "                        except KeyError:\n",
    "                            pass                        \n",
    "                    else:\n",
    "                        pass\n",
    "\n",
    "def combine_adjectives_verbs_search(input_text, input_train_dict):\n",
    "    #### function that combines adjective and verb search patterns ####\n",
    "    # list to store mapping of adjectives\n",
    "    adj_map = []\n",
    "    # create list of target words and flatten it\n",
    "    list_words  = [item for kk, item in input_train_dict.items()]\n",
    "    flat_list_words = [item for row in list_words for item in row] #flatten the list\n",
    "    # analyze comment input with spacy separating it into sentences\n",
    "    sample = spacy_sentences(nlp, input_text)\n",
    "    # iterative search of adj and verb pattern for each sentence of the user comment\n",
    "    for s in sample:\n",
    "        adj_map_s = search_adjectives(s, flat_list_words)\n",
    "        verb_adjectives(s, adj_map_s, flat_list_words)\n",
    "        adj_map.append(adj_map_s)\n",
    "    # dictionary of mapping\n",
    "    combined_map = {k: v for d in adj_map for k, v in d.items()}\n",
    "    return combined_map"
   ]
  },
  {
   "cell_type": "markdown",
   "id": "ce278ff9-1546-4a42-9384-3e8290e51642",
   "metadata": {},
   "source": [
    "We test this methods using:\n",
    "1. a simplified version of the dataset filtere for only one game as example \n",
    "2. having in input the 2nd dictionary of target words\n",
    "\n",
    "The first step is to retrieve the adjectives related to the target words and if they have a positive or negative (due to negation \"not\") status in the sentences."
   ]
  },
  {
   "cell_type": "code",
   "execution_count": 252,
   "id": "fb1e141a-6182-45cf-8154-f927fbc5ec13",
   "metadata": {},
   "outputs": [
    {
     "data": {
      "text/html": [
       "<div>\n",
       "<style scoped>\n",
       "    .dataframe tbody tr th:only-of-type {\n",
       "        vertical-align: middle;\n",
       "    }\n",
       "\n",
       "    .dataframe tbody tr th {\n",
       "        vertical-align: top;\n",
       "    }\n",
       "\n",
       "    .dataframe thead th {\n",
       "        text-align: right;\n",
       "    }\n",
       "</style>\n",
       "<table border=\"1\" class=\"dataframe\">\n",
       "  <thead>\n",
       "    <tr style=\"text-align: right;\">\n",
       "      <th></th>\n",
       "      <th>Game_ID</th>\n",
       "      <th>Comment</th>\n",
       "      <th>Comment_Rating</th>\n",
       "      <th>Dependency_Aspect_Status</th>\n",
       "    </tr>\n",
       "  </thead>\n",
       "  <tbody>\n",
       "    <tr>\n",
       "      <th>81569</th>\n",
       "      <td>162886</td>\n",
       "      <td>All aboard the hype train! Ding ding! No, but ...</td>\n",
       "      <td>9.0</td>\n",
       "      <td>{asymmetry: [], complexity: [], players: [], v...</td>\n",
       "    </tr>\n",
       "    <tr>\n",
       "      <th>81570</th>\n",
       "      <td>162886</td>\n",
       "      <td>Good. There are so many things to do at once, ...</td>\n",
       "      <td>8.0</td>\n",
       "      <td>{player: [(single, 'positive')]}</td>\n",
       "    </tr>\n",
       "    <tr>\n",
       "      <th>81571</th>\n",
       "      <td>162886</td>\n",
       "      <td>Challenging, thinky game with clever mechanism...</td>\n",
       "      <td>5.0</td>\n",
       "      <td>{challenge: [(cooperative, 'positive')], playe...</td>\n",
       "    </tr>\n",
       "    <tr>\n",
       "      <th>81572</th>\n",
       "      <td>162886</td>\n",
       "      <td>Excellent heavy cooperative game with variable...</td>\n",
       "      <td>10.0</td>\n",
       "      <td>{player: [(variable, 'positive')], complexity:...</td>\n",
       "    </tr>\n",
       "    <tr>\n",
       "      <th>81579</th>\n",
       "      <td>162886</td>\n",
       "      <td>Lovely, unique theme. Components if not outsta...</td>\n",
       "      <td>10.0</td>\n",
       "      <td>{difficulty: []}</td>\n",
       "    </tr>\n",
       "    <tr>\n",
       "      <th>...</th>\n",
       "      <td>...</td>\n",
       "      <td>...</td>\n",
       "      <td>...</td>\n",
       "      <td>...</td>\n",
       "    </tr>\n",
       "    <tr>\n",
       "      <th>88927</th>\n",
       "      <td>162886</td>\n",
       "      <td>I think this is my new favourite game. I love ...</td>\n",
       "      <td>10.0</td>\n",
       "      <td>{player: [], problem: [], luck: []}</td>\n",
       "    </tr>\n",
       "    <tr>\n",
       "      <th>88928</th>\n",
       "      <td>162886</td>\n",
       "      <td>My ability to play higher weight games appears...</td>\n",
       "      <td>8.0</td>\n",
       "      <td>{weight: []}</td>\n",
       "    </tr>\n",
       "    <tr>\n",
       "      <th>88933</th>\n",
       "      <td>162886</td>\n",
       "      <td>Every game is different from the previous one,...</td>\n",
       "      <td>10.0</td>\n",
       "      <td>{difficulty: []}</td>\n",
       "    </tr>\n",
       "    <tr>\n",
       "      <th>88935</th>\n",
       "      <td>162886</td>\n",
       "      <td>Apparently I really love horror co-op games. T...</td>\n",
       "      <td>9.0</td>\n",
       "      <td>{difficulty: [(easy, 'positive')]}</td>\n",
       "    </tr>\n",
       "    <tr>\n",
       "      <th>88939</th>\n",
       "      <td>162886</td>\n",
       "      <td>Somehow this is a real brain teaser for me. Th...</td>\n",
       "      <td>7.0</td>\n",
       "      <td>{difficulty: []}</td>\n",
       "    </tr>\n",
       "  </tbody>\n",
       "</table>\n",
       "<p>2137 rows × 4 columns</p>\n",
       "</div>"
      ],
      "text/plain": [
       "       Game_ID                                            Comment  \\\n",
       "81569   162886  All aboard the hype train! Ding ding! No, but ...   \n",
       "81570   162886  Good. There are so many things to do at once, ...   \n",
       "81571   162886  Challenging, thinky game with clever mechanism...   \n",
       "81572   162886  Excellent heavy cooperative game with variable...   \n",
       "81579   162886  Lovely, unique theme. Components if not outsta...   \n",
       "...        ...                                                ...   \n",
       "88927   162886  I think this is my new favourite game. I love ...   \n",
       "88928   162886  My ability to play higher weight games appears...   \n",
       "88933   162886  Every game is different from the previous one,...   \n",
       "88935   162886  Apparently I really love horror co-op games. T...   \n",
       "88939   162886  Somehow this is a real brain teaser for me. Th...   \n",
       "\n",
       "       Comment_Rating                           Dependency_Aspect_Status  \n",
       "81569             9.0  {asymmetry: [], complexity: [], players: [], v...  \n",
       "81570             8.0                   {player: [(single, 'positive')]}  \n",
       "81571             5.0  {challenge: [(cooperative, 'positive')], playe...  \n",
       "81572            10.0  {player: [(variable, 'positive')], complexity:...  \n",
       "81579            10.0                                   {difficulty: []}  \n",
       "...               ...                                                ...  \n",
       "88927            10.0                {player: [], problem: [], luck: []}  \n",
       "88928             8.0                                       {weight: []}  \n",
       "88933            10.0                                   {difficulty: []}  \n",
       "88935             9.0                 {difficulty: [(easy, 'positive')]}  \n",
       "88939             7.0                                   {difficulty: []}  \n",
       "\n",
       "[2137 rows x 4 columns]"
      ]
     },
     "execution_count": 252,
     "metadata": {},
     "output_type": "execute_result"
    }
   ],
   "source": [
    "# Prepare the simpliefied version of the dataset\n",
    "df_2_2 = df_comments.copy()\n",
    "df_2_2 = df_2_2[df_2_2['Game_ID']==game_id_to_filter]\n",
    "# Apply Dependency parsing to get adjective linked to target aspects and their positive or negates status\n",
    "df_2_2 ['Dependency_Aspect_Status'] = df_2_2.apply(lambda row: combine_adjectives_verbs_search(row['Comment'], rev_train_dict), axis=1)\n",
    "# Filter the DataFrame to keep only rows that have not an empty list in the column\n",
    "df_2_2  = df_2_2 [df_2_2 ['Dependency_Aspect_Status'].apply(lambda x: len(x) > 0)]\n",
    "df_2_2 "
   ]
  },
  {
   "cell_type": "markdown",
   "id": "ac2a7b28-cbf3-4741-a5ac-359c57c315af",
   "metadata": {},
   "source": [
    "#### 4.2 Sentiment classification\n",
    "Secondly we perform the polarity search using VADER analyzer"
   ]
  },
  {
   "cell_type": "code",
   "execution_count": 253,
   "id": "6492824b-b9ca-4e26-8c07-72b0d76b5936",
   "metadata": {},
   "outputs": [],
   "source": [
    "# Initialize the VADER sentiment analyzer\n",
    "analyzer = SentimentIntensityAnalyzer()"
   ]
  },
  {
   "cell_type": "markdown",
   "id": "2f16d0a0-4766-4205-a23d-87dfc2c5a642",
   "metadata": {},
   "source": [
    "To compute polarity of the aspects we proceed with 2 steps:\n",
    "1. retrieve the sentiment score of the adjectives using VADER analyzer (score and evaluation [positive, neutral, negative])\n",
    "2. aggregate the scores to the aspects"
   ]
  },
  {
   "cell_type": "code",
   "execution_count": 254,
   "id": "47e27410-598f-4392-a9d5-f628b213f5a2",
   "metadata": {},
   "outputs": [],
   "source": [
    "def sentiment_dependency(adj_map):\n",
    "    # function to link a score to each adjective of the nouns detected in previous step\n",
    "    aspect_scores = {}\n",
    "    for aspect, adjs in adj_map.items():\n",
    "        total_score = 0\n",
    "        if len(adjs) ==0:\n",
    "            pass\n",
    "        else:\n",
    "            for ii in adjs:\n",
    "                x,state = str(ii[0]),str(ii[1])\n",
    "                sentiment_score = analyzer.polarity_scores(str(x))\n",
    "                # use the compound score of VADER\n",
    "                compound_score = sentiment_score['compound']\n",
    "                if state == 'negated':\n",
    "                    compound_score = -compound_score\n",
    "                total_score += compound_score\n",
    "            if total_score >= 0.05:\n",
    "                polarity = 'positive'\n",
    "            elif compound_score <= -0.05:\n",
    "                polarity = 'negative'\n",
    "            else:\n",
    "                polarity = 'neutral'\n",
    "            aspect_scores[aspect]=(total_score,polarity)\n",
    "    return aspect_scores"
   ]
  },
  {
   "cell_type": "code",
   "execution_count": 271,
   "id": "18c2a8f8-f57e-4ea5-ac3a-612df4b6e6c0",
   "metadata": {},
   "outputs": [
    {
     "data": {
      "text/html": [
       "<div>\n",
       "<style scoped>\n",
       "    .dataframe tbody tr th:only-of-type {\n",
       "        vertical-align: middle;\n",
       "    }\n",
       "\n",
       "    .dataframe tbody tr th {\n",
       "        vertical-align: top;\n",
       "    }\n",
       "\n",
       "    .dataframe thead th {\n",
       "        text-align: right;\n",
       "    }\n",
       "</style>\n",
       "<table border=\"1\" class=\"dataframe\">\n",
       "  <thead>\n",
       "    <tr style=\"text-align: right;\">\n",
       "      <th></th>\n",
       "      <th>Game_ID</th>\n",
       "      <th>Comment</th>\n",
       "      <th>Comment_Rating</th>\n",
       "      <th>Dependency_Aspect_Status</th>\n",
       "      <th>Sentiment_Dependence</th>\n",
       "    </tr>\n",
       "  </thead>\n",
       "  <tbody>\n",
       "    <tr>\n",
       "      <th>81570</th>\n",
       "      <td>162886</td>\n",
       "      <td>Good. There are so many things to do at once, ...</td>\n",
       "      <td>8.0</td>\n",
       "      <td>{player: [(single, 'positive')]}</td>\n",
       "      <td>{player: (0.0, 'neutral')}</td>\n",
       "    </tr>\n",
       "    <tr>\n",
       "      <th>81571</th>\n",
       "      <td>162886</td>\n",
       "      <td>Challenging, thinky game with clever mechanism...</td>\n",
       "      <td>5.0</td>\n",
       "      <td>{challenge: [(cooperative, 'positive')], playe...</td>\n",
       "      <td>{challenge: (0.0, 'neutral'), players: (0.0, '...</td>\n",
       "    </tr>\n",
       "    <tr>\n",
       "      <th>81572</th>\n",
       "      <td>162886</td>\n",
       "      <td>Excellent heavy cooperative game with variable...</td>\n",
       "      <td>10.0</td>\n",
       "      <td>{player: [(variable, 'positive')], complexity:...</td>\n",
       "      <td>{player: (0.0, 'neutral')}</td>\n",
       "    </tr>\n",
       "    <tr>\n",
       "      <th>81586</th>\n",
       "      <td>162886</td>\n",
       "      <td>Positives:  Brain burner (in a good way)  Luck...</td>\n",
       "      <td>10.0</td>\n",
       "      <td>{players: [(more, 'positive')], player: [(high...</td>\n",
       "      <td>{players: (0.0, 'neutral'), player: (0.0, 'neu...</td>\n",
       "    </tr>\n",
       "    <tr>\n",
       "      <th>81591</th>\n",
       "      <td>162886</td>\n",
       "      <td>This is the best co-op game I've ever played, ...</td>\n",
       "      <td>10.0</td>\n",
       "      <td>{interaction: [(great, 'positive')]}</td>\n",
       "      <td>{interaction: (0.6249, 'positive')}</td>\n",
       "    </tr>\n",
       "  </tbody>\n",
       "</table>\n",
       "</div>"
      ],
      "text/plain": [
       "       Game_ID                                            Comment  \\\n",
       "81570   162886  Good. There are so many things to do at once, ...   \n",
       "81571   162886  Challenging, thinky game with clever mechanism...   \n",
       "81572   162886  Excellent heavy cooperative game with variable...   \n",
       "81586   162886  Positives:  Brain burner (in a good way)  Luck...   \n",
       "81591   162886  This is the best co-op game I've ever played, ...   \n",
       "\n",
       "       Comment_Rating                           Dependency_Aspect_Status  \\\n",
       "81570             8.0                   {player: [(single, 'positive')]}   \n",
       "81571             5.0  {challenge: [(cooperative, 'positive')], playe...   \n",
       "81572            10.0  {player: [(variable, 'positive')], complexity:...   \n",
       "81586            10.0  {players: [(more, 'positive')], player: [(high...   \n",
       "81591            10.0               {interaction: [(great, 'positive')]}   \n",
       "\n",
       "                                    Sentiment_Dependence  \n",
       "81570                         {player: (0.0, 'neutral')}  \n",
       "81571  {challenge: (0.0, 'neutral'), players: (0.0, '...  \n",
       "81572                         {player: (0.0, 'neutral')}  \n",
       "81586  {players: (0.0, 'neutral'), player: (0.0, 'neu...  \n",
       "81591                {interaction: (0.6249, 'positive')}  "
      ]
     },
     "execution_count": 271,
     "metadata": {},
     "output_type": "execute_result"
    }
   ],
   "source": [
    "# 1st step -> get scores of adjectives\n",
    "# use try / expect to check errors in function -> SOLVED\n",
    "try:\n",
    "    df_2_2['Sentiment_Dependence'] = df_2_2.apply(lambda row: sentiment_dependency(row['Dependency_Aspect_Status']), axis=1)\n",
    "except KeyError as e:\n",
    "    print(f\"KeyError: {e}\")\n",
    "except Exception as e:\n",
    "    print(f\"An error occurred: {e}\")\n",
    "# filter rows with not empty values in the column\n",
    "df_2_2 = df_2_2[df_2_2['Sentiment_Dependence'].apply(lambda x: len(x) > 0)]\n",
    "df_2_2.head()"
   ]
  },
  {
   "cell_type": "code",
   "execution_count": 281,
   "id": "217ccedc-f1fa-4c8f-9cc3-3964ec084b4d",
   "metadata": {},
   "outputs": [],
   "source": [
    "# 2nd step -> aggregate the scores to the target aspects\n",
    "def aggregate_to_aspect(score_dict,dict_aspects):\n",
    "    #### Function to classify sentiments of the aspects, takes in input the score dictionary and the target aspects ####\n",
    "    # dictionary to store the sentiments of the aspects\n",
    "    result = {}\n",
    "    # translate score dictionary with lemma keywords because otherwise the dictionaries keyword do not match\n",
    "    new_dict = {\" \".join([token.lemma_ for token in nlp(str(key))]):value for key, value in score_dict.items()}\n",
    "    # create a list with all target aspects\n",
    "    search_list = [x for x in new_dict.keys()]\n",
    "    # print(\"0 level:\", dict_aspects.keys())\n",
    "    for key_level, items in dict_aspects.items():\n",
    "        # print(\"1 lev:\",key_level)\n",
    "        total_value=0\n",
    "        is_found=False\n",
    "        for key in items:\n",
    "            # print(\" 2 lev:\", key)\n",
    "            if key in search_list:\n",
    "                # print(\"  3 lev:\", key,\" -> \",new_dict[key][0],\" / \",new_dict[key][1])\n",
    "                total_value += new_dict[key][0]\n",
    "                is_found = True\n",
    "        # Classify the summed value and assign to the result dictionary\n",
    "        if is_found == True:\n",
    "            result[key_level] = [classify(total_value)]\n",
    "    return result\n",
    "\n",
    "def classify(value):\n",
    "        if value > 0.05: #0.05\n",
    "            return 'positive'\n",
    "        elif value < -0.05:#-0.05:\n",
    "            return 'negative'\n",
    "        else:\n",
    "            return 'neutral'"
   ]
  },
  {
   "cell_type": "code",
   "execution_count": 282,
   "id": "7503c10b-830c-4f75-bdf2-7af5ab9c7f40",
   "metadata": {},
   "outputs": [
    {
     "data": {
      "text/html": [
       "<div>\n",
       "<style scoped>\n",
       "    .dataframe tbody tr th:only-of-type {\n",
       "        vertical-align: middle;\n",
       "    }\n",
       "\n",
       "    .dataframe tbody tr th {\n",
       "        vertical-align: top;\n",
       "    }\n",
       "\n",
       "    .dataframe thead th {\n",
       "        text-align: right;\n",
       "    }\n",
       "</style>\n",
       "<table border=\"1\" class=\"dataframe\">\n",
       "  <thead>\n",
       "    <tr style=\"text-align: right;\">\n",
       "      <th></th>\n",
       "      <th>Game_ID</th>\n",
       "      <th>Comment</th>\n",
       "      <th>Comment_Rating</th>\n",
       "      <th>Dependency_Aspect_Status</th>\n",
       "      <th>Sentiment_Dependence</th>\n",
       "      <th>Sentiment_Score</th>\n",
       "    </tr>\n",
       "  </thead>\n",
       "  <tbody>\n",
       "    <tr>\n",
       "      <th>81570</th>\n",
       "      <td>162886</td>\n",
       "      <td>Good. There are so many things to do at once, ...</td>\n",
       "      <td>8.0</td>\n",
       "      <td>{player: [(single, 'positive')]}</td>\n",
       "      <td>{player: (0.0, 'neutral')}</td>\n",
       "      <td>{'interaction': ['neutral']}</td>\n",
       "    </tr>\n",
       "    <tr>\n",
       "      <th>81571</th>\n",
       "      <td>162886</td>\n",
       "      <td>Challenging, thinky game with clever mechanism...</td>\n",
       "      <td>5.0</td>\n",
       "      <td>{challenge: [(cooperative, 'positive')], playe...</td>\n",
       "      <td>{challenge: (0.0, 'neutral'), players: (0.0, '...</td>\n",
       "      <td>{'interaction': ['neutral'], 'complexity': ['p...</td>\n",
       "    </tr>\n",
       "    <tr>\n",
       "      <th>81572</th>\n",
       "      <td>162886</td>\n",
       "      <td>Excellent heavy cooperative game with variable...</td>\n",
       "      <td>10.0</td>\n",
       "      <td>{player: [(variable, 'positive')], complexity:...</td>\n",
       "      <td>{player: (0.0, 'neutral')}</td>\n",
       "      <td>{'interaction': ['neutral']}</td>\n",
       "    </tr>\n",
       "    <tr>\n",
       "      <th>81586</th>\n",
       "      <td>162886</td>\n",
       "      <td>Positives:  Brain burner (in a good way)  Luck...</td>\n",
       "      <td>10.0</td>\n",
       "      <td>{players: [(more, 'positive')], player: [(high...</td>\n",
       "      <td>{players: (0.0, 'neutral'), player: (0.0, 'neu...</td>\n",
       "      <td>{'interaction': ['neutral']}</td>\n",
       "    </tr>\n",
       "    <tr>\n",
       "      <th>81591</th>\n",
       "      <td>162886</td>\n",
       "      <td>This is the best co-op game I've ever played, ...</td>\n",
       "      <td>10.0</td>\n",
       "      <td>{interaction: [(great, 'positive')]}</td>\n",
       "      <td>{interaction: (0.6249, 'positive')}</td>\n",
       "      <td>{'interaction': ['positive']}</td>\n",
       "    </tr>\n",
       "    <tr>\n",
       "      <th>...</th>\n",
       "      <td>...</td>\n",
       "      <td>...</td>\n",
       "      <td>...</td>\n",
       "      <td>...</td>\n",
       "      <td>...</td>\n",
       "      <td>...</td>\n",
       "    </tr>\n",
       "    <tr>\n",
       "      <th>88877</th>\n",
       "      <td>162886</td>\n",
       "      <td>Amazing solo/cooperative 'puzzle'. Game loop i...</td>\n",
       "      <td>9.8</td>\n",
       "      <td>{element: [], challenge: [(tougher, 'positive')]}</td>\n",
       "      <td>{challenge: (0.1779, 'positive')}</td>\n",
       "      <td>{'complexity': ['positive']}</td>\n",
       "    </tr>\n",
       "    <tr>\n",
       "      <th>88908</th>\n",
       "      <td>162886</td>\n",
       "      <td>This game is fantastic. I tend to like games w...</td>\n",
       "      <td>10.0</td>\n",
       "      <td>{players: [(other, 'positive')]}</td>\n",
       "      <td>{players: (0.0, 'neutral')}</td>\n",
       "      <td>{'interaction': ['neutral']}</td>\n",
       "    </tr>\n",
       "    <tr>\n",
       "      <th>88913</th>\n",
       "      <td>162886</td>\n",
       "      <td>My rating for this game is for the really soli...</td>\n",
       "      <td>7.0</td>\n",
       "      <td>{players: [(more, 'positive')]}</td>\n",
       "      <td>{players: (0.0, 'neutral')}</td>\n",
       "      <td>{'interaction': ['neutral']}</td>\n",
       "    </tr>\n",
       "    <tr>\n",
       "      <th>88920</th>\n",
       "      <td>162886</td>\n",
       "      <td>Deserves hype for one of the best coop games. ...</td>\n",
       "      <td>9.0</td>\n",
       "      <td>{interaction: [(possible, 'positive')], player...</td>\n",
       "      <td>{interaction: (0.0, 'neutral'), player: (0.0, ...</td>\n",
       "      <td>{'downtime': ['neutral'], 'interaction': ['neu...</td>\n",
       "    </tr>\n",
       "    <tr>\n",
       "      <th>88935</th>\n",
       "      <td>162886</td>\n",
       "      <td>Apparently I really love horror co-op games. T...</td>\n",
       "      <td>9.0</td>\n",
       "      <td>{difficulty: [(easy, 'positive')]}</td>\n",
       "      <td>{difficulty: (0.4404, 'positive')}</td>\n",
       "      <td>{'complexity': ['positive']}</td>\n",
       "    </tr>\n",
       "  </tbody>\n",
       "</table>\n",
       "<p>1024 rows × 6 columns</p>\n",
       "</div>"
      ],
      "text/plain": [
       "       Game_ID                                            Comment  \\\n",
       "81570   162886  Good. There are so many things to do at once, ...   \n",
       "81571   162886  Challenging, thinky game with clever mechanism...   \n",
       "81572   162886  Excellent heavy cooperative game with variable...   \n",
       "81586   162886  Positives:  Brain burner (in a good way)  Luck...   \n",
       "81591   162886  This is the best co-op game I've ever played, ...   \n",
       "...        ...                                                ...   \n",
       "88877   162886  Amazing solo/cooperative 'puzzle'. Game loop i...   \n",
       "88908   162886  This game is fantastic. I tend to like games w...   \n",
       "88913   162886  My rating for this game is for the really soli...   \n",
       "88920   162886  Deserves hype for one of the best coop games. ...   \n",
       "88935   162886  Apparently I really love horror co-op games. T...   \n",
       "\n",
       "       Comment_Rating                           Dependency_Aspect_Status  \\\n",
       "81570             8.0                   {player: [(single, 'positive')]}   \n",
       "81571             5.0  {challenge: [(cooperative, 'positive')], playe...   \n",
       "81572            10.0  {player: [(variable, 'positive')], complexity:...   \n",
       "81586            10.0  {players: [(more, 'positive')], player: [(high...   \n",
       "81591            10.0               {interaction: [(great, 'positive')]}   \n",
       "...               ...                                                ...   \n",
       "88877             9.8  {element: [], challenge: [(tougher, 'positive')]}   \n",
       "88908            10.0                   {players: [(other, 'positive')]}   \n",
       "88913             7.0                    {players: [(more, 'positive')]}   \n",
       "88920             9.0  {interaction: [(possible, 'positive')], player...   \n",
       "88935             9.0                 {difficulty: [(easy, 'positive')]}   \n",
       "\n",
       "                                    Sentiment_Dependence  \\\n",
       "81570                         {player: (0.0, 'neutral')}   \n",
       "81571  {challenge: (0.0, 'neutral'), players: (0.0, '...   \n",
       "81572                         {player: (0.0, 'neutral')}   \n",
       "81586  {players: (0.0, 'neutral'), player: (0.0, 'neu...   \n",
       "81591                {interaction: (0.6249, 'positive')}   \n",
       "...                                                  ...   \n",
       "88877                  {challenge: (0.1779, 'positive')}   \n",
       "88908                        {players: (0.0, 'neutral')}   \n",
       "88913                        {players: (0.0, 'neutral')}   \n",
       "88920  {interaction: (0.0, 'neutral'), player: (0.0, ...   \n",
       "88935                 {difficulty: (0.4404, 'positive')}   \n",
       "\n",
       "                                         Sentiment_Score  \n",
       "81570                       {'interaction': ['neutral']}  \n",
       "81571  {'interaction': ['neutral'], 'complexity': ['p...  \n",
       "81572                       {'interaction': ['neutral']}  \n",
       "81586                       {'interaction': ['neutral']}  \n",
       "81591                      {'interaction': ['positive']}  \n",
       "...                                                  ...  \n",
       "88877                       {'complexity': ['positive']}  \n",
       "88908                       {'interaction': ['neutral']}  \n",
       "88913                       {'interaction': ['neutral']}  \n",
       "88920  {'downtime': ['neutral'], 'interaction': ['neu...  \n",
       "88935                       {'complexity': ['positive']}  \n",
       "\n",
       "[1024 rows x 6 columns]"
      ]
     },
     "execution_count": 282,
     "metadata": {},
     "output_type": "execute_result"
    }
   ],
   "source": [
    "# try/error to check errors in the functions -> SOLVED\n",
    "try:\n",
    "    df_2_2['Sentiment_Score'] = df_2_2.apply(lambda row: aggregate_to_aspect(row['Sentiment_Dependence'],rev_train_dict), axis=1)\n",
    "except KeyError as e:\n",
    "    print(f\"KeyError: {e}\")\n",
    "except Exception as e:\n",
    "    print(f\"An error occurred: {e}\")\n",
    "df_2_2"
   ]
  },
  {
   "cell_type": "markdown",
   "id": "6f78f664-d459-43e2-8acc-9fc7d4881eb5",
   "metadata": {},
   "source": [
    "Display barplot of polarities referred to the aspects."
   ]
  },
  {
   "cell_type": "code",
   "execution_count": 283,
   "id": "a99ad614-e505-4912-a911-d1c853b9a43f",
   "metadata": {},
   "outputs": [
    {
     "name": "stdout",
     "output_type": "stream",
     "text": [
      "         Aspect Sentiment  Count\n",
      "0   interaction   neutral    415\n",
      "1   interaction  positive     87\n",
      "2   interaction  negative     12\n",
      "3    complexity  positive     95\n",
      "4    complexity   neutral    313\n",
      "5    complexity  negative     36\n",
      "6          luck   neutral    100\n",
      "7          luck  negative     11\n",
      "8          luck  positive     22\n",
      "9      downtime   neutral    110\n",
      "10     downtime  negative     12\n",
      "11     downtime  positive     18\n",
      "12  bookkeeping   neutral     19\n",
      "13  bookkeeping  positive      5\n"
     ]
    },
    {
     "data": {
      "image/png": "[encoded data removed]",
      "text/plain": [
       "<Figure size 1811.11x800 with 5 Axes>"
      ]
     },
     "metadata": {},
     "output_type": "display_data"
    }
   ],
   "source": [
    "# Apply the FacetGrid plotting function\n",
    "plot_facetgrid_sentiments(df_2_2, 'Sentiment_Score',game_id_to_filter)"
   ]
  },
  {
   "cell_type": "markdown",
   "id": "6d7f3fb7-6592-4d0e-b117-b404003903b0",
   "metadata": {},
   "source": [
    "We detect more polarity rate as neutral, because we are not more evaluating the sentence, but just the adjective related to the target words, that often are consdiered neutral. Here following also an example."
   ]
  },
  {
   "cell_type": "code",
   "execution_count": 286,
   "id": "667d7f0e-7b15-4229-8cc9-abc9cbad790a",
   "metadata": {},
   "outputs": [
    {
     "name": "stdout",
     "output_type": "stream",
     "text": [
      "Original Comment:\n",
      "Good. There are so many things to do at once, no single player could try to dictate what others are doing.\n",
      "\n",
      "Rating:\n",
      "8.0\n",
      "\n",
      "Adjective status in the sentences:\n",
      "{player: [(single, 'positive')]}\n",
      "\n",
      "Adjective polarity with VADER of the adjectives:\n",
      "{player: (0.0, 'neutral')}\n",
      "\n",
      "Aspect Sentiments:\n",
      "Aspect: interaction, Sentiment: ['neutral']\n"
     ]
    }
   ],
   "source": [
    "# analyze output results\n",
    "sample_index = 0 # Change this to see different comments\n",
    "sample_comment = df_2_2.iloc[sample_index]\n",
    "# Display comments , etc.\n",
    "print(\"Original Comment:\")\n",
    "print(sample_comment['Comment'])\n",
    "print(\"\\nRating:\")\n",
    "print(sample_comment['Comment_Rating'])\n",
    "print(\"\\nAdjective status in the sentences:\")\n",
    "print(sample_comment['Dependency_Aspect_Status'])\n",
    "print(\"\\nAdjective polarity with VADER of the adjectives:\")\n",
    "print(sample_comment['Sentiment_Dependence'])\n",
    "print(\"\\nAspect Sentiments:\")\n",
    "for aspect, sentiment in sample_comment['Sentiment_Score'].items():\n",
    "    print(f\"Aspect: {aspect}, Sentiment: {sentiment}\")"
   ]
  },
  {
   "cell_type": "markdown",
   "id": "843f1b7d-ccbd-42ca-8544-f962ccc0aedc",
   "metadata": {},
   "source": [
    "## EXTRA - SUPPORT"
   ]
  },
  {
   "cell_type": "code",
   "execution_count": 287,
   "id": "94e572ed-c815-4b8c-8540-0d4161b6c1ce",
   "metadata": {},
   "outputs": [
    {
     "name": "stdout",
     "output_type": "stream",
     "text": [
      "ROOT  --  root\n",
      "acl  --  clausal modifier of noun (adjectival clause)\n",
      "acomp  --  adjectival complement\n",
      "advcl  --  adverbial clause modifier\n",
      "advmod  --  adverbial modifier\n",
      "agent  --  agent\n",
      "amod  --  adjectival modifier\n",
      "appos  --  appositional modifier\n",
      "attr  --  attribute\n",
      "aux  --  auxiliary\n",
      "auxpass  --  auxiliary (passive)\n",
      "case  --  case marking\n",
      "cc  --  coordinating conjunction\n",
      "ccomp  --  clausal complement\n",
      "compound  --  compound\n",
      "conj  --  conjunct\n",
      "csubj  --  clausal subject\n",
      "csubjpass  --  clausal subject (passive)\n",
      "dative  --  dative\n",
      "dep  --  unclassified dependent\n",
      "det  --  determiner\n",
      "dobj  --  direct object\n",
      "expl  --  expletive\n",
      "intj  --  interjection\n",
      "mark  --  marker\n",
      "meta  --  meta modifier\n",
      "neg  --  negation modifier\n",
      "nmod  --  modifier of nominal\n",
      "npadvmod  --  noun phrase as adverbial modifier\n",
      "nsubj  --  nominal subject\n",
      "nsubjpass  --  nominal subject (passive)\n",
      "nummod  --  numeric modifier\n",
      "oprd  --  object predicate\n",
      "parataxis  --  parataxis\n",
      "pcomp  --  complement of preposition\n",
      "pobj  --  object of preposition\n",
      "poss  --  possession modifier\n",
      "preconj  --  pre-correlative conjunction\n",
      "predet  --  None\n",
      "prep  --  prepositional modifier\n",
      "prt  --  particle\n",
      "punct  --  punctuation\n",
      "quantmod  --  modifier of quantifier\n",
      "relcl  --  relative clause modifier\n",
      "xcomp  --  open clausal complement\n"
     ]
    }
   ],
   "source": [
    "#to understand token.dep_ in SPACY\n",
    "nlp = spacy.load(\"en_core_web_sm\")\n",
    "for label in nlp.get_pipe(\"parser\").labels:\n",
    "    print(label, \" -- \", spacy.explain(label))"
   ]
  },
  {
   "cell_type": "code",
   "execution_count": 288,
   "id": "c5029609-416d-4c07-ae49-c512a676a9f8",
   "metadata": {},
   "outputs": [
    {
     "name": "stdout",
     "output_type": "stream",
     "text": [
      "$  --  symbol, currency\n",
      "''  --  closing quotation mark\n",
      ",  --  punctuation mark, comma\n",
      "-LRB-  --  left round bracket\n",
      "-RRB-  --  right round bracket\n",
      ".  --  punctuation mark, sentence closer\n",
      ":  --  punctuation mark, colon or ellipsis\n",
      "ADD  --  email\n",
      "AFX  --  affix\n",
      "CC  --  conjunction, coordinating\n",
      "CD  --  cardinal number\n",
      "DT  --  determiner\n",
      "EX  --  existential there\n",
      "FW  --  foreign word\n",
      "HYPH  --  punctuation mark, hyphen\n",
      "IN  --  conjunction, subordinating or preposition\n",
      "JJ  --  adjective (English), other noun-modifier (Chinese)\n",
      "JJR  --  adjective, comparative\n",
      "JJS  --  adjective, superlative\n",
      "LS  --  list item marker\n",
      "MD  --  verb, modal auxiliary\n",
      "NFP  --  superfluous punctuation\n",
      "NN  --  noun, singular or mass\n",
      "NNP  --  noun, proper singular\n",
      "NNPS  --  noun, proper plural\n",
      "NNS  --  noun, plural\n",
      "PDT  --  predeterminer\n",
      "POS  --  possessive ending\n",
      "PRP  --  pronoun, personal\n",
      "PRP$  --  pronoun, possessive\n",
      "RB  --  adverb\n",
      "RBR  --  adverb, comparative\n",
      "RBS  --  adverb, superlative\n",
      "RP  --  adverb, particle\n",
      "SYM  --  symbol\n",
      "TO  --  infinitival \"to\"\n",
      "UH  --  interjection\n",
      "VB  --  verb, base form\n",
      "VBD  --  verb, past tense\n",
      "VBG  --  verb, gerund or present participle\n",
      "VBN  --  verb, past participle\n",
      "VBP  --  verb, non-3rd person singular present\n",
      "VBZ  --  verb, 3rd person singular present\n",
      "WDT  --  wh-determiner\n",
      "WP  --  wh-pronoun, personal\n",
      "WP$  --  wh-pronoun, possessive\n",
      "WRB  --  wh-adverb\n",
      "XX  --  unknown\n",
      "_SP  --  whitespace\n",
      "``  --  opening quotation mark\n"
     ]
    }
   ],
   "source": [
    "# to understand token.pos_ possibilities of SPACY\n",
    "for label in nlp.get_pipe(\"tagger\").labels:\n",
    "    print(label, \" -- \", spacy.explain(label))"
   ]
  },
  {
   "cell_type": "code",
   "execution_count": 55,
   "id": "1d3aac34-7697-444d-9da6-ed577b19a7c0",
   "metadata": {},
   "outputs": [],
   "source": [
    "# Step 1: Aspect extraction function\n",
    "def extract_custom_aspects(text, aspect_keywords):\n",
    "    found_aspects = []\n",
    "    for aspect, keywords in aspect_keywords.items():\n",
    "        # Check if any of the keywords related to the aspect are in the comment\n",
    "        if any(keyword.lower() in text.lower() for keyword in keywords):\n",
    "            found_aspects.append(aspect)\n",
    "            for keyword in keywords:\n",
    "                if keyword.lower() in text.lower():\n",
    "                    print(keyword)\n",
    "    return found_aspects"
   ]
  },
  {
   "cell_type": "code",
   "execution_count": null,
   "id": "8a083ab4-2093-4bba-85cf-5fc5657c0ac0",
   "metadata": {},
   "outputs": [
    {
     "data": {
      "text/html": [
       "<div>\n",
       "<style scoped>\n",
       "    .dataframe tbody tr th:only-of-type {\n",
       "        vertical-align: middle;\n",
       "    }\n",
       "\n",
       "    .dataframe tbody tr th {\n",
       "        vertical-align: top;\n",
       "    }\n",
       "\n",
       "    .dataframe thead th {\n",
       "        text-align: right;\n",
       "    }\n",
       "</style>\n",
       "<table border=\"1\" class=\"dataframe\">\n",
       "  <thead>\n",
       "    <tr style=\"text-align: right;\">\n",
       "      <th></th>\n",
       "      <th>Game_ID</th>\n",
       "      <th>Comment</th>\n",
       "      <th>Comment_Rating</th>\n",
       "      <th>Custom_Aspects</th>\n",
       "    </tr>\n",
       "  </thead>\n",
       "  <tbody>\n",
       "    <tr>\n",
       "      <th>1</th>\n",
       "      <td>174430</td>\n",
       "      <td>Excellent game. Balancing issues with some cha...</td>\n",
       "      <td>8.5</td>\n",
       "      <td>[downtime, interaction, complexity]</td>\n",
       "    </tr>\n",
       "    <tr>\n",
       "      <th>5</th>\n",
       "      <td>174430</td>\n",
       "      <td>After one play, not completing a dungeon I’m s...</td>\n",
       "      <td>7.0</td>\n",
       "      <td>[downtime]</td>\n",
       "    </tr>\n",
       "    <tr>\n",
       "      <th>6</th>\n",
       "      <td>174430</td>\n",
       "      <td>This game is a beast. So far my group has only...</td>\n",
       "      <td>9.0</td>\n",
       "      <td>[luck, bookkeeping]</td>\n",
       "    </tr>\n",
       "    <tr>\n",
       "      <th>10</th>\n",
       "      <td>174430</td>\n",
       "      <td>I kickstarted the 1st edition of Gloomhaven bu...</td>\n",
       "      <td>5.0</td>\n",
       "      <td>[bookkeeping]</td>\n",
       "    </tr>\n",
       "    <tr>\n",
       "      <th>11</th>\n",
       "      <td>174430</td>\n",
       "      <td>Gloomhaven is sold as D&amp;D but better. It's not...</td>\n",
       "      <td>1.0</td>\n",
       "      <td>[luck]</td>\n",
       "    </tr>\n",
       "    <tr>\n",
       "      <th>...</th>\n",
       "      <td>...</td>\n",
       "      <td>...</td>\n",
       "      <td>...</td>\n",
       "      <td>...</td>\n",
       "    </tr>\n",
       "    <tr>\n",
       "      <th>88282</th>\n",
       "      <td>162886</td>\n",
       "      <td>Every game is different from the previous one,...</td>\n",
       "      <td>10.0</td>\n",
       "      <td>[complexity]</td>\n",
       "    </tr>\n",
       "    <tr>\n",
       "      <th>88283</th>\n",
       "      <td>162886</td>\n",
       "      <td>My favorite co-op game of all time. It has so ...</td>\n",
       "      <td>10.0</td>\n",
       "      <td>[complexity]</td>\n",
       "    </tr>\n",
       "    <tr>\n",
       "      <th>88284</th>\n",
       "      <td>162886</td>\n",
       "      <td>Apparently I really love horror co-op games. T...</td>\n",
       "      <td>9.0</td>\n",
       "      <td>[bookkeeping, complexity]</td>\n",
       "    </tr>\n",
       "    <tr>\n",
       "      <th>88288</th>\n",
       "      <td>162886</td>\n",
       "      <td>Somehow this is a real brain teaser for me. Th...</td>\n",
       "      <td>7.0</td>\n",
       "      <td>[complexity]</td>\n",
       "    </tr>\n",
       "    <tr>\n",
       "      <th>88290</th>\n",
       "      <td>162886</td>\n",
       "      <td>This was amazing game experience! Completely j...</td>\n",
       "      <td>10.0</td>\n",
       "      <td>[bookkeeping]</td>\n",
       "    </tr>\n",
       "  </tbody>\n",
       "</table>\n",
       "<p>27161 rows × 4 columns</p>\n",
       "</div>"
      ],
      "text/plain": [
       "       Game_ID                                            Comment  \\\n",
       "1       174430  Excellent game. Balancing issues with some cha...   \n",
       "5       174430  After one play, not completing a dungeon I’m s...   \n",
       "6       174430  This game is a beast. So far my group has only...   \n",
       "10      174430  I kickstarted the 1st edition of Gloomhaven bu...   \n",
       "11      174430  Gloomhaven is sold as D&D but better. It's not...   \n",
       "...        ...                                                ...   \n",
       "88282   162886  Every game is different from the previous one,...   \n",
       "88283   162886  My favorite co-op game of all time. It has so ...   \n",
       "88284   162886  Apparently I really love horror co-op games. T...   \n",
       "88288   162886  Somehow this is a real brain teaser for me. Th...   \n",
       "88290   162886  This was amazing game experience! Completely j...   \n",
       "\n",
       "       Comment_Rating                       Custom_Aspects  \n",
       "1                 8.5  [downtime, interaction, complexity]  \n",
       "5                 7.0                           [downtime]  \n",
       "6                 9.0                  [luck, bookkeeping]  \n",
       "10                5.0                        [bookkeeping]  \n",
       "11                1.0                               [luck]  \n",
       "...               ...                                  ...  \n",
       "88282            10.0                         [complexity]  \n",
       "88283            10.0                         [complexity]  \n",
       "88284             9.0            [bookkeeping, complexity]  \n",
       "88288             7.0                         [complexity]  \n",
       "88290            10.0                        [bookkeeping]  \n",
       "\n",
       "[27161 rows x 4 columns]"
      ]
     },
     "execution_count": 45,
     "metadata": {},
     "output_type": "execute_result"
    }
   ],
   "source": [
    "# create a copy of orginal dataframe\n",
    "df_comments_2_2_mod = df_comments.copy()\n",
    "\n",
    "# Apply aspect extraction to all comments and create a 'custom_aspects' column\n",
    "df_comments_2_2_mod['Custom_Aspects'] = df_comments_2_2_mod['Comment'].apply(lambda x: extract_custom_aspects(x, rev_train_dict))\n",
    "\n",
    "# Filter the DataFrame to keep only rows where 'custom_aspects' is not an empty list\n",
    "df_comments_2_2_mod = df_comments_2_2_mod[df_comments_2_2_mod['Custom_Aspects'].apply(lambda x: len(x) > 0)]\n",
    "df_comments_2_2_mod"
   ]
  },
  {
   "cell_type": "code",
   "execution_count": 57,
   "id": "696ae37e-62b8-4570-b892-d8385253f8f3",
   "metadata": {},
   "outputs": [
    {
     "name": "stdout",
     "output_type": "stream",
     "text": [
      "hour\n",
      "player\n",
      "balance\n"
     ]
    }
   ],
   "source": [
    "ddd = df_comments_2_2_mod.iloc[:1,:]\n",
    "ddd['new'] = ddd['Comment'].apply(lambda x: extract_custom_aspects(x, rev_train_dict))"
   ]
  },
  {
   "cell_type": "code",
   "execution_count": 69,
   "id": "4baff23a-00f9-4c08-bbbf-fa796caebd4b",
   "metadata": {},
   "outputs": [
    {
     "name": "stdout",
     "output_type": "stream",
     "text": [
      "{food: [], service: [], is: [(delicious, 'negated')], was: [(amazing, 'positive')]}\n"
     ]
    }
   ],
   "source": [
    "# Unified function to detect adjectives and verb patterns with negation\n",
    "def detect_adjectives_and_verbs(nlp_text, be_only=True):\n",
    "    # Dictionary to store results with nouns/verbs and their associated adjectives\n",
    "    results = {}\n",
    "    # Step 1: Identify nouns and adjectives associated with them\n",
    "    for token in nlp_text:\n",
    "        if token.pos_ in ['NOUN', 'PROPN']:\n",
    "            # Create an entry in the results dictionary for the noun\n",
    "            results[token] = []\n",
    "            # Explore adjectives linked to the noun, check for negation\n",
    "            for child in token.children:\n",
    "                if child.pos_ == 'ADJ':\n",
    "                    # Check for negation dependency in children of the adjective\n",
    "                    negated = any(c.dep_ == 'neg' for c in child.children)\n",
    "                    results[token].append((child, \"negated\" if negated else \"positive\"))\n",
    "\n",
    "    # Step 2: Identify verbs and associated adjectives (verb-adjective patterns)\n",
    "    verbs = [x for x in nlp_text if (x.lemma_ == 'be' if be_only else x.pos_ in {'AUX', 'VERB'})]\n",
    "    for verb in verbs:\n",
    "        # Track adjectives or noun phrases associated with the verb\n",
    "        verb_related = []\n",
    "        for child in verb.children:\n",
    "            # Check for adjectives directly associated with the verb\n",
    "            if child.pos_ == 'ADJ':\n",
    "                negated = any(c.dep_ == 'neg' for c in verb.children)\n",
    "                verb_related.append((child, \"negated\" if negated else \"positive\"))\n",
    "            # Check for noun phrases that could relate to the verb\n",
    "            elif child.dep_ in ['dobj', 'attr', 'nsubj']:\n",
    "                noun = child\n",
    "                for noun_child in noun.children:\n",
    "                    if noun_child.pos_ == 'ADJ':\n",
    "                        negated = any(c.dep_ == 'neg' for c in noun_child.children)\n",
    "                        verb_related.append((noun_child, \"negated\" if negated else \"positive\"))\n",
    "        # If verb patterns found, add them to the results dictionary under the verb key\n",
    "        if verb_related:\n",
    "            results[verb] = verb_related\n",
    "\n",
    "    return results\n",
    "\n",
    "# Example usage\n",
    "text = \"The food is not delicious, and the service was amazing.\"\n",
    "doc = nlp(text)\n",
    "results = detect_adjectives_and_verbs(doc)\n",
    "print(results)\n"
   ]
  },
  {
   "cell_type": "code",
   "execution_count": 140,
   "id": "872f247c-cdd6-4204-911b-eff4fd5e72a5",
   "metadata": {},
   "outputs": [
    {
     "name": "stdout",
     "output_type": "stream",
     "text": [
      "the\n",
      "unfair\n",
      "unfair\n",
      "-0.4767\n",
      "fair\n",
      "fair\n",
      "0.3182\n",
      "{'downtime': 'positive'}\n"
     ]
    }
   ],
   "source": [
    "# Function to perform dependency parsing and sentiment analysis on aspects\n",
    "def dependency_based_sentiment_vader(text, aspects, aspect_keywords):\n",
    "    doc = nlp(text)\n",
    "    aspect_sentiments = {}\n",
    "\n",
    "    for aspect in aspects:\n",
    "        for token in doc:\n",
    "            # Check if the token matches an aspect keyword\n",
    "            if token.lemma_.lower() in aspect_keywords[aspect]:\n",
    "                # aspect_sentiments[aspect] = aspect_sentiments.get(aspect, 'neutral')  # Initialize to neutral\n",
    "                \n",
    "                # Examine children for adjectives, adverbs, or verbs\n",
    "                for child in token.children:\n",
    "                    # Check for sentiment-affecting dependencies\n",
    "                    print(child)\n",
    "                    if child.dep_ in ['amod', 'acomp', 'advmod', 'ROOT', 'attr', 'conj', 'xcomp', 'ccomp']:\n",
    "                        # Detect negation in the child dependencies\n",
    "                        negated = any(grandchild.dep_ == 'neg' for grandchild in child.children)\n",
    "\n",
    "                        # Get the sentiment score\n",
    "                        sentiment_score = analyzer.polarity_scores(child.text)\n",
    "                        compound_score = sentiment_score['compound']\n",
    "                        \n",
    "                        # Adjust sentiment if negated\n",
    "                        if negated:\n",
    "                            compound_score = -compound_score  # Flip the sentiment polarity\n",
    "\n",
    "                        # Determine sentiment based on adjusted compound score\n",
    "                        if compound_score >= 0.05:\n",
    "                            aspect_sentiments[aspect] = 'positive'\n",
    "                        elif compound_score <= -0.05:\n",
    "                            aspect_sentiments[aspect] = 'negative'\n",
    "                        else:\n",
    "                            aspect_sentiments[aspect] = 'neutral'\n",
    "                        print(compound_score)\n",
    "\n",
    "    return aspect_sentiments"
   ]
  },
  {
   "cell_type": "code",
   "execution_count": 58,
   "id": "1d75d3b6-6175-46ce-9237-a335c3454a61",
   "metadata": {},
   "outputs": [
    {
     "data": {
      "text/html": [
       "<div>\n",
       "<style scoped>\n",
       "    .dataframe tbody tr th:only-of-type {\n",
       "        vertical-align: middle;\n",
       "    }\n",
       "\n",
       "    .dataframe tbody tr th {\n",
       "        vertical-align: top;\n",
       "    }\n",
       "\n",
       "    .dataframe thead th {\n",
       "        text-align: right;\n",
       "    }\n",
       "</style>\n",
       "<table border=\"1\" class=\"dataframe\">\n",
       "  <thead>\n",
       "    <tr style=\"text-align: right;\">\n",
       "      <th></th>\n",
       "      <th>Game_ID</th>\n",
       "      <th>Comment</th>\n",
       "      <th>Comment_Rating</th>\n",
       "      <th>Custom_aspects</th>\n",
       "      <th>Dependency_aspect_sentiments</th>\n",
       "    </tr>\n",
       "  </thead>\n",
       "  <tbody>\n",
       "    <tr>\n",
       "      <th>6</th>\n",
       "      <td>174430</td>\n",
       "      <td>This game is a beast. So far my group has only...</td>\n",
       "      <td>9.0</td>\n",
       "      <td>[luck, bookkeeping]</td>\n",
       "      <td>{'luck': 'neutral'}</td>\n",
       "    </tr>\n",
       "    <tr>\n",
       "      <th>11</th>\n",
       "      <td>174430</td>\n",
       "      <td>Gloomhaven is sold as D&amp;D but better. It's not...</td>\n",
       "      <td>1.0</td>\n",
       "      <td>[luck]</td>\n",
       "      <td>{'luck': 'positive'}</td>\n",
       "    </tr>\n",
       "    <tr>\n",
       "      <th>16</th>\n",
       "      <td>174430</td>\n",
       "      <td>Very mechanical, abstract and repetitive, and ...</td>\n",
       "      <td>5.0</td>\n",
       "      <td>[bookkeeping, downtime, complexity]</td>\n",
       "      <td>{'bookkeeping': 'neutral', 'downtime': 'negati...</td>\n",
       "    </tr>\n",
       "    <tr>\n",
       "      <th>19</th>\n",
       "      <td>174430</td>\n",
       "      <td>Thematic games and RPGs are not my cup of tea ...</td>\n",
       "      <td>3.0</td>\n",
       "      <td>[luck, bookkeeping]</td>\n",
       "      <td>{'bookkeeping': 'positive'}</td>\n",
       "    </tr>\n",
       "    <tr>\n",
       "      <th>22</th>\n",
       "      <td>174430</td>\n",
       "      <td>Positives: Well produced game with solid mecha...</td>\n",
       "      <td>7.0</td>\n",
       "      <td>[luck]</td>\n",
       "      <td>{'luck': 'positive'}</td>\n",
       "    </tr>\n",
       "    <tr>\n",
       "      <th>...</th>\n",
       "      <td>...</td>\n",
       "      <td>...</td>\n",
       "      <td>...</td>\n",
       "      <td>...</td>\n",
       "      <td>...</td>\n",
       "    </tr>\n",
       "    <tr>\n",
       "      <th>88196</th>\n",
       "      <td>162886</td>\n",
       "      <td>I really love this game, it feels like a more ...</td>\n",
       "      <td>10.0</td>\n",
       "      <td>[luck, complexity]</td>\n",
       "      <td>{'luck': 'neutral', 'complexity': 'neutral'}</td>\n",
       "    </tr>\n",
       "    <tr>\n",
       "      <th>88197</th>\n",
       "      <td>162886</td>\n",
       "      <td>I don’t understand the hype at all! The arbitr...</td>\n",
       "      <td>3.0</td>\n",
       "      <td>[luck]</td>\n",
       "      <td>{'luck': 'neutral'}</td>\n",
       "    </tr>\n",
       "    <tr>\n",
       "      <th>88206</th>\n",
       "      <td>162886</td>\n",
       "      <td>Low luck. Deepest coop game out there. So many...</td>\n",
       "      <td>9.9</td>\n",
       "      <td>[luck]</td>\n",
       "      <td>{'luck': 'negative'}</td>\n",
       "    </tr>\n",
       "    <tr>\n",
       "      <th>88227</th>\n",
       "      <td>162886</td>\n",
       "      <td>Amazing solo/cooperative 'puzzle'. Game loop i...</td>\n",
       "      <td>9.8</td>\n",
       "      <td>[downtime, complexity]</td>\n",
       "      <td>{'downtime': 'positive', 'complexity': 'positi...</td>\n",
       "    </tr>\n",
       "    <tr>\n",
       "      <th>88269</th>\n",
       "      <td>162886</td>\n",
       "      <td>Deserves hype for one of the best coop games. ...</td>\n",
       "      <td>9.0</td>\n",
       "      <td>[downtime, interaction, complexity]</td>\n",
       "      <td>{'downtime': 'neutral', 'interaction': 'neutra...</td>\n",
       "    </tr>\n",
       "  </tbody>\n",
       "</table>\n",
       "<p>6433 rows × 5 columns</p>\n",
       "</div>"
      ],
      "text/plain": [
       "       Game_ID                                            Comment  \\\n",
       "6       174430  This game is a beast. So far my group has only...   \n",
       "11      174430  Gloomhaven is sold as D&D but better. It's not...   \n",
       "16      174430  Very mechanical, abstract and repetitive, and ...   \n",
       "19      174430  Thematic games and RPGs are not my cup of tea ...   \n",
       "22      174430  Positives: Well produced game with solid mecha...   \n",
       "...        ...                                                ...   \n",
       "88196   162886  I really love this game, it feels like a more ...   \n",
       "88197   162886  I don’t understand the hype at all! The arbitr...   \n",
       "88206   162886  Low luck. Deepest coop game out there. So many...   \n",
       "88227   162886  Amazing solo/cooperative 'puzzle'. Game loop i...   \n",
       "88269   162886  Deserves hype for one of the best coop games. ...   \n",
       "\n",
       "       Comment_Rating                       Custom_aspects  \\\n",
       "6                 9.0                  [luck, bookkeeping]   \n",
       "11                1.0                               [luck]   \n",
       "16                5.0  [bookkeeping, downtime, complexity]   \n",
       "19                3.0                  [luck, bookkeeping]   \n",
       "22                7.0                               [luck]   \n",
       "...               ...                                  ...   \n",
       "88196            10.0                   [luck, complexity]   \n",
       "88197             3.0                               [luck]   \n",
       "88206             9.9                               [luck]   \n",
       "88227             9.8               [downtime, complexity]   \n",
       "88269             9.0  [downtime, interaction, complexity]   \n",
       "\n",
       "                            Dependency_aspect_sentiments  \n",
       "6                                    {'luck': 'neutral'}  \n",
       "11                                  {'luck': 'positive'}  \n",
       "16     {'bookkeeping': 'neutral', 'downtime': 'negati...  \n",
       "19                           {'bookkeeping': 'positive'}  \n",
       "22                                  {'luck': 'positive'}  \n",
       "...                                                  ...  \n",
       "88196       {'luck': 'neutral', 'complexity': 'neutral'}  \n",
       "88197                                {'luck': 'neutral'}  \n",
       "88206                               {'luck': 'negative'}  \n",
       "88227  {'downtime': 'positive', 'complexity': 'positi...  \n",
       "88269  {'downtime': 'neutral', 'interaction': 'neutra...  \n",
       "\n",
       "[6433 rows x 5 columns]"
      ]
     },
     "execution_count": 58,
     "metadata": {},
     "output_type": "execute_result"
    }
   ],
   "source": [
    "# Apply sentiment analysis based on dependency parsing using VADER\n",
    "df_comments_vader = df_comments_2_2_mod.copy()\n",
    "df_comments_vader['Dependency_aspect_sentiments'] = df_comments_vader.apply(\n",
    "    lambda row: dependency_based_sentiment_vader(row['Comment'], row['Custom_aspects'],rev_train_dict), axis=1)\n",
    "\n",
    "# Filter the DataFrame to keep only rows where 'custom_aspects' is not an empty list\n",
    "df_comments_vader = df_comments_vader[df_comments_vader['Dependency_aspect_sentiments'].apply(lambda x: len(x) > 0)]\n",
    "df_comments_vader"
   ]
  },
  {
   "cell_type": "markdown",
   "id": "aebb0cac-fdcd-458c-9a69-41317d821c2e",
   "metadata": {},
   "source": [
    "It is not possible to get sentiments for all che customer aspects found, it is linked to how the sentence is written"
   ]
  },
  {
   "cell_type": "code",
   "execution_count": 44,
   "id": "e4826beb-d3c8-4ebd-a0c4-43ab40474cf1",
   "metadata": {},
   "outputs": [
    {
     "name": "stdout",
     "output_type": "stream",
     "text": [
      "Original Comment:\n",
      "Positives: Well produced game with solid mechanics Excellent art and interesting world. Amount of content and quality of design is extremely impressive.  Negatives: Game feels like work rather than play. Set up time is long (even with organizers). Fiddly and difficult.  Wanted to quit half-way through each play.  I may be in the minority, but I gave the game a fair chance and I've concluded that I don't enjoy playing it and will sell it soon.  Update:  I'm going to try Jaws of the Lion and see if I like it better.  I think I will without the overwhelming feeling of set-up and upkeep.\n",
      "\n",
      "Aspect Sentiments:\n",
      "Aspect: luck, Sentiment: positive\n"
     ]
    }
   ],
   "source": [
    "# analyze output results\n",
    "sample_index = 4  # Change this to see different comments\n",
    "sample_comment = df_comments_vader.iloc[sample_index]\n",
    "\n",
    "print(\"Original Comment:\")\n",
    "print(sample_comment['Comment'])\n",
    "print(\"\\nAspect Sentiments:\")\n",
    "for aspect, sentiment in sample_comment['Dependency_aspect_sentiments'].items():\n",
    "    print(f\"Aspect: {aspect}, Sentiment: {sentiment}\")"
   ]
  },
  {
   "cell_type": "code",
   "execution_count": 63,
   "id": "cd1164f2-af79-4f5a-b545-f2ccfa6d9c9d",
   "metadata": {},
   "outputs": [
    {
     "data": {
      "text/plain": [
       "\"Positives: Well produced game with solid mechanics Excellent art and interesting world. Amount of content and quality of design is extremely impressive.  Negatives: Game feels like work rather than play. Set up time is long (even with organizers). Fiddly and difficult.  Wanted to quit half-way through each play.  I may be in the minority, but I gave the game a fair chance and I've concluded that I don't enjoy playing it and will sell it soon.  Update:  I'm going to try Jaws of the Lion and see if I like it better.  I think I will without the overwhelming feeling of set-up and upkeep.\""
      ]
     },
     "execution_count": 63,
     "metadata": {},
     "output_type": "execute_result"
    }
   ],
   "source": [
    "df_comments_vader.iloc[sample_index,1]"
   ]
  },
  {
   "cell_type": "code",
   "execution_count": 68,
   "id": "5377d58b-4020-4331-ae95-85a7c97e6d32",
   "metadata": {},
   "outputs": [
    {
     "name": "stdout",
     "output_type": "stream",
     "text": [
      "chance\n",
      "a\n",
      "fair\n",
      "{'neg': 0.0, 'neu': 0.0, 'pos': 1.0, 'compound': 0.3182}\n"
     ]
    },
    {
     "data": {
      "text/plain": [
       "{'luck': 'positive'}"
      ]
     },
     "execution_count": 68,
     "metadata": {},
     "output_type": "execute_result"
    }
   ],
   "source": [
    "dependency_based_sentiment_vader(df_comments_vader.iloc[sample_index,1], [\"luck\"],rev_train_dict)"
   ]
  },
  {
   "cell_type": "code",
   "execution_count": 6,
   "id": "ba583a42-72c9-42a5-a176-8711c3cedfb3",
   "metadata": {},
   "outputs": [],
   "source": [
    "aspects = ['components', 'rules', 'gameplay', 'replayability', 'theme', 'complexity']"
   ]
  },
  {
   "cell_type": "code",
   "execution_count": 88,
   "id": "6ea9e71f-c007-40df-b2c8-6d7e10e3f80e",
   "metadata": {},
   "outputs": [],
   "source": [
    "# Load the Hugging Face sentiment analysis pipeline\n",
    "sentiment_pipeline = pipeline(\"sentiment-analysis\", model=\"distilbert-base-uncased-finetuned-sst-2-english\",truncation=True)\n",
    "\n",
    "# Define a dictionary of aspects and associated keywords\n",
    "aspect_keywords = {\n",
    "    'luck': ['luck', 'random', 'chance', 'fortune', 'lucky', 'unlucky'],\n",
    "    'downtime': ['downtime', 'waiting', 'slow', 'time between turns', 'lag', 'delay'],\n",
    "    'interaction': ['interaction', 'engagement', 'social', 'cooperation', 'conflict', 'competitive'],\n",
    "    'complication': ['complication', 'confusion', 'complex', 'convoluted', 'difficult'],\n",
    "    'complexity': ['complexity', 'depth', 'strategy', 'involved', 'intricate'],\n",
    "    'read rule book': ['rules', 'rulebook', 'instruction', 'manual', 'how to play', 'guide']\n",
    "}\n",
    "\n",
    "def extract_custom_aspects(text, aspect_keywords):\n",
    "    found_aspects = []\n",
    "    for aspect, keywords in aspect_keywords.items():\n",
    "        # Check if any of the keywords related to the aspect are in the comment\n",
    "        if any(keyword.lower() in text.lower() for keyword in keywords):\n",
    "            found_aspects.append(aspect)\n",
    "    return found_aspects\n",
    "\n",
    "# Helper function to split long text into smaller chunks based on token limit\n",
    "def split_text_into_chunks(text, tokenizer, max_tokens=512):\n",
    "    sentences = nltk.sent_tokenize(text)\n",
    "    current_chunk = []\n",
    "    current_length = 0\n",
    "    chunks = []\n",
    "    \n",
    "    for sentence in sentences:\n",
    "        sentence_length = len(tokenizer.encode(sentence, add_special_tokens=False))\n",
    "        \n",
    "        # If adding this sentence exceeds the limit, save the current chunk and start a new one\n",
    "        if current_length + sentence_length > max_tokens:\n",
    "            chunks.append(' '.join(current_chunk))\n",
    "            current_chunk = []\n",
    "            current_length = 0\n",
    "        \n",
    "        current_chunk.append(sentence)\n",
    "        current_length += sentence_length\n",
    "    \n",
    "    # Add the last chunk if it exists\n",
    "    if current_chunk:\n",
    "        chunks.append(' '.join(current_chunk))\n",
    "    \n",
    "    return chunks\n",
    "\n",
    "def custom_aspect_sentiment_analysis(text, aspects, tokenizer, max_token_limit=512):\n",
    "    sentences = nltk.sent_tokenize(text)\n",
    "    aspect_sentiments = {}\n",
    "    \n",
    "    for aspect in aspects:\n",
    "        # Find sentences that mention the aspect or its related keywords\n",
    "        aspect_sentences = [sentence for sentence in sentences if any(keyword.lower() in sentence.lower() for keyword in aspect_keywords[aspect])]\n",
    "        \n",
    "        if aspect_sentences:\n",
    "            aspect_text = ' '.join(aspect_sentences)\n",
    "\n",
    "            # Split aspect_text into chunks if it exceeds the token limit\n",
    "            if len(tokenizer.encode(aspect_text, add_special_tokens=False)) > max_token_limit:\n",
    "                aspect_chunks = split_text_into_chunks(aspect_text, tokenizer, max_tokens=max_token_limit)\n",
    "                sentiment_results = []\n",
    "                sentiment_results_new = []\n",
    "                for chunk in aspect_chunks:\n",
    "                    sentiment = sentiment_pipeline(chunk)\n",
    "                    sentiment_results.append(sentiment[0]['label'])\n",
    "                    sentiment_results_new.append(sentiment[0])\n",
    "\n",
    "                print(sentiment_results) ####NEW\n",
    "                print(sentiment_results_new) ####NEW\n",
    "                # Combine the sentiment results (majority vote for simplicity)\n",
    "                combined_sentiment = max(set(sentiment_results), key=sentiment_results.count)\n",
    "                print(set(sentiment_results)) ####NEW\n",
    "                print(sentiment_results.count)####NEW\n",
    "                print(combined_sentiment)####NEW\n",
    "                combined_sentiment = max(set(sentiment_results['label']), key=sentiment_results.count)\n",
    "                aspect_sentiments[aspect] = combined_sentiment\n",
    "            else:\n",
    "                # For short text, just run the sentiment analysis directly\n",
    "                sentiment = sentiment_pipeline(aspect_text)\n",
    "                #aspect_sentiments[aspect] = sentiment[0]['label']\n",
    "                aspect_sentiments[aspect] = sentiment[0]\n",
    "    \n",
    "    return aspect_sentiments"
   ]
  },
  {
   "cell_type": "code",
   "execution_count": 89,
   "id": "6bf3cb87-8fe5-4cce-b72a-5ee2c982258d",
   "metadata": {},
   "outputs": [
    {
     "name": "stderr",
     "output_type": "stream",
     "text": [
      "Token indices sequence length is longer than the specified maximum sequence length for this model (1001 > 512). Running this sequence through the model will result in indexing errors\n"
     ]
    },
    {
     "name": "stdout",
     "output_type": "stream",
     "text": [
      "['POSITIVE', 'NEGATIVE']\n",
      "[{'label': 'POSITIVE', 'score': 0.748120903968811}, {'label': 'NEGATIVE', 'score': 0.9833974242210388}]\n",
      "{'POSITIVE', 'NEGATIVE'}\n",
      "<built-in method count of list object at 0x0000020FD797CA80>\n",
      "POSITIVE\n"
     ]
    },
    {
     "ename": "TypeError",
     "evalue": "list indices must be integers or slices, not str",
     "output_type": "error",
     "traceback": [
      "\u001b[1;31m---------------------------------------------------------------------------\u001b[0m",
      "\u001b[1;31mTypeError\u001b[0m                                 Traceback (most recent call last)",
      "Cell \u001b[1;32mIn[89], line 5\u001b[0m\n\u001b[0;32m      2\u001b[0m df_comments[\u001b[38;5;124m'\u001b[39m\u001b[38;5;124mcustom_aspects\u001b[39m\u001b[38;5;124m'\u001b[39m] \u001b[38;5;241m=\u001b[39m df_comments[\u001b[38;5;124m'\u001b[39m\u001b[38;5;124mcomment\u001b[39m\u001b[38;5;124m'\u001b[39m]\u001b[38;5;241m.\u001b[39mapply(\u001b[38;5;28;01mlambda\u001b[39;00m x: extract_custom_aspects(x, aspect_keywords))\n\u001b[0;32m      4\u001b[0m \u001b[38;5;66;03m# Apply aspect-based sentiment analysis with text splitting\u001b[39;00m\n\u001b[1;32m----> 5\u001b[0m df_comments[\u001b[38;5;124m'\u001b[39m\u001b[38;5;124mcustom_aspect_sentiments\u001b[39m\u001b[38;5;124m'\u001b[39m] \u001b[38;5;241m=\u001b[39m \u001b[43mdf_comments\u001b[49m\u001b[38;5;241;43m.\u001b[39;49m\u001b[43mapply\u001b[49m\u001b[43m(\u001b[49m\n\u001b[0;32m      6\u001b[0m \u001b[43m    \u001b[49m\u001b[38;5;28;43;01mlambda\u001b[39;49;00m\u001b[43m \u001b[49m\u001b[43mrow\u001b[49m\u001b[43m:\u001b[49m\u001b[43m \u001b[49m\u001b[43mcustom_aspect_sentiment_analysis\u001b[49m\u001b[43m(\u001b[49m\u001b[43mrow\u001b[49m\u001b[43m[\u001b[49m\u001b[38;5;124;43m'\u001b[39;49m\u001b[38;5;124;43mcomment\u001b[39;49m\u001b[38;5;124;43m'\u001b[39;49m\u001b[43m]\u001b[49m\u001b[43m,\u001b[49m\u001b[43m \u001b[49m\u001b[43mrow\u001b[49m\u001b[43m[\u001b[49m\u001b[38;5;124;43m'\u001b[39;49m\u001b[38;5;124;43mcustom_aspects\u001b[39;49m\u001b[38;5;124;43m'\u001b[39;49m\u001b[43m]\u001b[49m\u001b[43m,\u001b[49m\u001b[43m \u001b[49m\u001b[43mtokenizer\u001b[49m\u001b[38;5;241;43m=\u001b[39;49m\u001b[43msentiment_pipeline\u001b[49m\u001b[38;5;241;43m.\u001b[39;49m\u001b[43mtokenizer\u001b[49m\u001b[43m)\u001b[49m\u001b[43m,\u001b[49m\u001b[43m \u001b[49m\u001b[43maxis\u001b[49m\u001b[38;5;241;43m=\u001b[39;49m\u001b[38;5;241;43m1\u001b[39;49m\u001b[43m)\u001b[49m\n\u001b[0;32m      8\u001b[0m \u001b[38;5;66;03m# Display results\u001b[39;00m\n\u001b[0;32m      9\u001b[0m \u001b[38;5;28mprint\u001b[39m(df_comments[[\u001b[38;5;124m'\u001b[39m\u001b[38;5;124mcomment\u001b[39m\u001b[38;5;124m'\u001b[39m, \u001b[38;5;124m'\u001b[39m\u001b[38;5;124mcustom_aspects\u001b[39m\u001b[38;5;124m'\u001b[39m, \u001b[38;5;124m'\u001b[39m\u001b[38;5;124mcustom_aspect_sentiments\u001b[39m\u001b[38;5;124m'\u001b[39m]]\u001b[38;5;241m.\u001b[39mhead())\n",
      "File \u001b[1;32m~\\AppData\\Local\\Programs\\Python\\Python311\\Lib\\site-packages\\pandas\\core\\frame.py:10037\u001b[0m, in \u001b[0;36mDataFrame.apply\u001b[1;34m(self, func, axis, raw, result_type, args, by_row, **kwargs)\u001b[0m\n\u001b[0;32m  10025\u001b[0m \u001b[38;5;28;01mfrom\u001b[39;00m \u001b[38;5;21;01mpandas\u001b[39;00m\u001b[38;5;21;01m.\u001b[39;00m\u001b[38;5;21;01mcore\u001b[39;00m\u001b[38;5;21;01m.\u001b[39;00m\u001b[38;5;21;01mapply\u001b[39;00m \u001b[38;5;28;01mimport\u001b[39;00m frame_apply\n\u001b[0;32m  10027\u001b[0m op \u001b[38;5;241m=\u001b[39m frame_apply(\n\u001b[0;32m  10028\u001b[0m     \u001b[38;5;28mself\u001b[39m,\n\u001b[0;32m  10029\u001b[0m     func\u001b[38;5;241m=\u001b[39mfunc,\n\u001b[1;32m   (...)\u001b[0m\n\u001b[0;32m  10035\u001b[0m     kwargs\u001b[38;5;241m=\u001b[39mkwargs,\n\u001b[0;32m  10036\u001b[0m )\n\u001b[1;32m> 10037\u001b[0m \u001b[38;5;28;01mreturn\u001b[39;00m \u001b[43mop\u001b[49m\u001b[38;5;241;43m.\u001b[39;49m\u001b[43mapply\u001b[49m\u001b[43m(\u001b[49m\u001b[43m)\u001b[49m\u001b[38;5;241m.\u001b[39m__finalize__(\u001b[38;5;28mself\u001b[39m, method\u001b[38;5;241m=\u001b[39m\u001b[38;5;124m\"\u001b[39m\u001b[38;5;124mapply\u001b[39m\u001b[38;5;124m\"\u001b[39m)\n",
      "File \u001b[1;32m~\\AppData\\Local\\Programs\\Python\\Python311\\Lib\\site-packages\\pandas\\core\\apply.py:831\u001b[0m, in \u001b[0;36mFrameApply.apply\u001b[1;34m(self)\u001b[0m\n\u001b[0;32m    828\u001b[0m \u001b[38;5;28;01melif\u001b[39;00m \u001b[38;5;28mself\u001b[39m\u001b[38;5;241m.\u001b[39mraw:\n\u001b[0;32m    829\u001b[0m     \u001b[38;5;28;01mreturn\u001b[39;00m \u001b[38;5;28mself\u001b[39m\u001b[38;5;241m.\u001b[39mapply_raw()\n\u001b[1;32m--> 831\u001b[0m \u001b[38;5;28;01mreturn\u001b[39;00m \u001b[38;5;28;43mself\u001b[39;49m\u001b[38;5;241;43m.\u001b[39;49m\u001b[43mapply_standard\u001b[49m\u001b[43m(\u001b[49m\u001b[43m)\u001b[49m\n",
      "File \u001b[1;32m~\\AppData\\Local\\Programs\\Python\\Python311\\Lib\\site-packages\\pandas\\core\\apply.py:957\u001b[0m, in \u001b[0;36mFrameApply.apply_standard\u001b[1;34m(self)\u001b[0m\n\u001b[0;32m    956\u001b[0m \u001b[38;5;28;01mdef\u001b[39;00m \u001b[38;5;21mapply_standard\u001b[39m(\u001b[38;5;28mself\u001b[39m):\n\u001b[1;32m--> 957\u001b[0m     results, res_index \u001b[38;5;241m=\u001b[39m \u001b[38;5;28;43mself\u001b[39;49m\u001b[38;5;241;43m.\u001b[39;49m\u001b[43mapply_series_generator\u001b[49m\u001b[43m(\u001b[49m\u001b[43m)\u001b[49m\n\u001b[0;32m    959\u001b[0m     \u001b[38;5;66;03m# wrap results\u001b[39;00m\n\u001b[0;32m    960\u001b[0m     \u001b[38;5;28;01mreturn\u001b[39;00m \u001b[38;5;28mself\u001b[39m\u001b[38;5;241m.\u001b[39mwrap_results(results, res_index)\n",
      "File \u001b[1;32m~\\AppData\\Local\\Programs\\Python\\Python311\\Lib\\site-packages\\pandas\\core\\apply.py:973\u001b[0m, in \u001b[0;36mFrameApply.apply_series_generator\u001b[1;34m(self)\u001b[0m\n\u001b[0;32m    970\u001b[0m \u001b[38;5;28;01mwith\u001b[39;00m option_context(\u001b[38;5;124m\"\u001b[39m\u001b[38;5;124mmode.chained_assignment\u001b[39m\u001b[38;5;124m\"\u001b[39m, \u001b[38;5;28;01mNone\u001b[39;00m):\n\u001b[0;32m    971\u001b[0m     \u001b[38;5;28;01mfor\u001b[39;00m i, v \u001b[38;5;129;01min\u001b[39;00m \u001b[38;5;28menumerate\u001b[39m(series_gen):\n\u001b[0;32m    972\u001b[0m         \u001b[38;5;66;03m# ignore SettingWithCopy here in case the user mutates\u001b[39;00m\n\u001b[1;32m--> 973\u001b[0m         results[i] \u001b[38;5;241m=\u001b[39m \u001b[38;5;28;43mself\u001b[39;49m\u001b[38;5;241;43m.\u001b[39;49m\u001b[43mfunc\u001b[49m\u001b[43m(\u001b[49m\u001b[43mv\u001b[49m\u001b[43m,\u001b[49m\u001b[43m \u001b[49m\u001b[38;5;241;43m*\u001b[39;49m\u001b[38;5;28;43mself\u001b[39;49m\u001b[38;5;241;43m.\u001b[39;49m\u001b[43margs\u001b[49m\u001b[43m,\u001b[49m\u001b[43m \u001b[49m\u001b[38;5;241;43m*\u001b[39;49m\u001b[38;5;241;43m*\u001b[39;49m\u001b[38;5;28;43mself\u001b[39;49m\u001b[38;5;241;43m.\u001b[39;49m\u001b[43mkwargs\u001b[49m\u001b[43m)\u001b[49m\n\u001b[0;32m    974\u001b[0m         \u001b[38;5;28;01mif\u001b[39;00m \u001b[38;5;28misinstance\u001b[39m(results[i], ABCSeries):\n\u001b[0;32m    975\u001b[0m             \u001b[38;5;66;03m# If we have a view on v, we need to make a copy because\u001b[39;00m\n\u001b[0;32m    976\u001b[0m             \u001b[38;5;66;03m#  series_generator will swap out the underlying data\u001b[39;00m\n\u001b[0;32m    977\u001b[0m             results[i] \u001b[38;5;241m=\u001b[39m results[i]\u001b[38;5;241m.\u001b[39mcopy(deep\u001b[38;5;241m=\u001b[39m\u001b[38;5;28;01mFalse\u001b[39;00m)\n",
      "Cell \u001b[1;32mIn[89], line 6\u001b[0m, in \u001b[0;36m<lambda>\u001b[1;34m(row)\u001b[0m\n\u001b[0;32m      2\u001b[0m df_comments[\u001b[38;5;124m'\u001b[39m\u001b[38;5;124mcustom_aspects\u001b[39m\u001b[38;5;124m'\u001b[39m] \u001b[38;5;241m=\u001b[39m df_comments[\u001b[38;5;124m'\u001b[39m\u001b[38;5;124mcomment\u001b[39m\u001b[38;5;124m'\u001b[39m]\u001b[38;5;241m.\u001b[39mapply(\u001b[38;5;28;01mlambda\u001b[39;00m x: extract_custom_aspects(x, aspect_keywords))\n\u001b[0;32m      4\u001b[0m \u001b[38;5;66;03m# Apply aspect-based sentiment analysis with text splitting\u001b[39;00m\n\u001b[0;32m      5\u001b[0m df_comments[\u001b[38;5;124m'\u001b[39m\u001b[38;5;124mcustom_aspect_sentiments\u001b[39m\u001b[38;5;124m'\u001b[39m] \u001b[38;5;241m=\u001b[39m df_comments\u001b[38;5;241m.\u001b[39mapply(\n\u001b[1;32m----> 6\u001b[0m     \u001b[38;5;28;01mlambda\u001b[39;00m row: \u001b[43mcustom_aspect_sentiment_analysis\u001b[49m\u001b[43m(\u001b[49m\u001b[43mrow\u001b[49m\u001b[43m[\u001b[49m\u001b[38;5;124;43m'\u001b[39;49m\u001b[38;5;124;43mcomment\u001b[39;49m\u001b[38;5;124;43m'\u001b[39;49m\u001b[43m]\u001b[49m\u001b[43m,\u001b[49m\u001b[43m \u001b[49m\u001b[43mrow\u001b[49m\u001b[43m[\u001b[49m\u001b[38;5;124;43m'\u001b[39;49m\u001b[38;5;124;43mcustom_aspects\u001b[39;49m\u001b[38;5;124;43m'\u001b[39;49m\u001b[43m]\u001b[49m\u001b[43m,\u001b[49m\u001b[43m \u001b[49m\u001b[43mtokenizer\u001b[49m\u001b[38;5;241;43m=\u001b[39;49m\u001b[43msentiment_pipeline\u001b[49m\u001b[38;5;241;43m.\u001b[39;49m\u001b[43mtokenizer\u001b[49m\u001b[43m)\u001b[49m, axis\u001b[38;5;241m=\u001b[39m\u001b[38;5;241m1\u001b[39m)\n\u001b[0;32m      8\u001b[0m \u001b[38;5;66;03m# Display results\u001b[39;00m\n\u001b[0;32m      9\u001b[0m \u001b[38;5;28mprint\u001b[39m(df_comments[[\u001b[38;5;124m'\u001b[39m\u001b[38;5;124mcomment\u001b[39m\u001b[38;5;124m'\u001b[39m, \u001b[38;5;124m'\u001b[39m\u001b[38;5;124mcustom_aspects\u001b[39m\u001b[38;5;124m'\u001b[39m, \u001b[38;5;124m'\u001b[39m\u001b[38;5;124mcustom_aspect_sentiments\u001b[39m\u001b[38;5;124m'\u001b[39m]]\u001b[38;5;241m.\u001b[39mhead())\n",
      "Cell \u001b[1;32mIn[88], line 75\u001b[0m, in \u001b[0;36mcustom_aspect_sentiment_analysis\u001b[1;34m(text, aspects, tokenizer, max_token_limit)\u001b[0m\n\u001b[0;32m     73\u001b[0m     \u001b[38;5;28mprint\u001b[39m(sentiment_results\u001b[38;5;241m.\u001b[39mcount)\n\u001b[0;32m     74\u001b[0m     \u001b[38;5;28mprint\u001b[39m(combined_sentiment)\n\u001b[1;32m---> 75\u001b[0m     combined_sentiment \u001b[38;5;241m=\u001b[39m \u001b[38;5;28mmax\u001b[39m(\u001b[38;5;28mset\u001b[39m(\u001b[43msentiment_results\u001b[49m\u001b[43m[\u001b[49m\u001b[38;5;124;43m'\u001b[39;49m\u001b[38;5;124;43mlabel\u001b[39;49m\u001b[38;5;124;43m'\u001b[39;49m\u001b[43m]\u001b[49m), key\u001b[38;5;241m=\u001b[39msentiment_results\u001b[38;5;241m.\u001b[39mcount)\n\u001b[0;32m     76\u001b[0m     aspect_sentiments[aspect] \u001b[38;5;241m=\u001b[39m combined_sentiment\n\u001b[0;32m     77\u001b[0m \u001b[38;5;28;01melse\u001b[39;00m:\n\u001b[0;32m     78\u001b[0m     \u001b[38;5;66;03m# For short text, just run the sentiment analysis directly\u001b[39;00m\n",
      "\u001b[1;31mTypeError\u001b[0m: list indices must be integers or slices, not str"
     ]
    }
   ],
   "source": [
    "# Apply aspect extraction\n",
    "df_comments['custom_aspects'] = df_comments['comment'].apply(lambda x: extract_custom_aspects(x, aspect_keywords))\n",
    "\n",
    "# Apply aspect-based sentiment analysis with text splitting\n",
    "df_comments['custom_aspect_sentiments'] = df_comments.apply(\n",
    "    lambda row: custom_aspect_sentiment_analysis(row['comment'], row['custom_aspects'], tokenizer=sentiment_pipeline.tokenizer), axis=1)\n",
    "\n",
    "# Display results\n",
    "print(df_comments[['comment', 'custom_aspects', 'custom_aspect_sentiments']].head())"
   ]
  },
  {
   "cell_type": "code",
   "execution_count": 65,
   "id": "04a642d4-0ea5-413d-9358-90fa18fa6265",
   "metadata": {},
   "outputs": [
    {
     "data": {
      "text/html": [
       "<div>\n",
       "<style scoped>\n",
       "    .dataframe tbody tr th:only-of-type {\n",
       "        vertical-align: middle;\n",
       "    }\n",
       "\n",
       "    .dataframe tbody tr th {\n",
       "        vertical-align: top;\n",
       "    }\n",
       "\n",
       "    .dataframe thead th {\n",
       "        text-align: right;\n",
       "    }\n",
       "</style>\n",
       "<table border=\"1\" class=\"dataframe\">\n",
       "  <thead>\n",
       "    <tr style=\"text-align: right;\">\n",
       "      <th></th>\n",
       "      <th>Game ID</th>\n",
       "      <th>Game Name</th>\n",
       "      <th>comment</th>\n",
       "      <th>custom_aspects</th>\n",
       "      <th>custom_aspect_sentiments</th>\n",
       "    </tr>\n",
       "  </thead>\n",
       "  <tbody>\n",
       "    <tr>\n",
       "      <th>11</th>\n",
       "      <td>358661</td>\n",
       "      <td>Andromeda's Edge</td>\n",
       "      <td>pledged waiting delivery</td>\n",
       "      <td>[downtime]</td>\n",
       "      <td>{'downtime': 'NEGATIVE'}</td>\n",
       "    </tr>\n",
       "    <tr>\n",
       "      <th>12</th>\n",
       "      <td>358661</td>\n",
       "      <td>Andromeda's Edge</td>\n",
       "      <td>like doe game worker placement game core actio...</td>\n",
       "      <td>[downtime, read rule book]</td>\n",
       "      <td>{'downtime': 'POSITIVE', 'read rule book': 'PO...</td>\n",
       "    </tr>\n",
       "    <tr>\n",
       "      <th>24</th>\n",
       "      <td>358661</td>\n",
       "      <td>Andromeda's Edge</td>\n",
       "      <td>game relatively easy teach play great componen...</td>\n",
       "      <td>[luck]</td>\n",
       "      <td>{'luck': 'POSITIVE'}</td>\n",
       "    </tr>\n",
       "    <tr>\n",
       "      <th>28</th>\n",
       "      <td>358661</td>\n",
       "      <td>Andromeda's Edge</td>\n",
       "      <td>best worker placement game ive yet played over...</td>\n",
       "      <td>[luck, complexity, read rule book]</td>\n",
       "      <td>{'luck': 'POSITIVE', 'complexity': 'POSITIVE',...</td>\n",
       "    </tr>\n",
       "    <tr>\n",
       "      <th>33</th>\n",
       "      <td>358661</td>\n",
       "      <td>Andromeda's Edge</td>\n",
       "      <td>enjoy whatever strategy plan destroyed bad rol...</td>\n",
       "      <td>[luck, complexity]</td>\n",
       "      <td>{'luck': 'NEGATIVE', 'complexity': 'NEGATIVE'}</td>\n",
       "    </tr>\n",
       "    <tr>\n",
       "      <th>...</th>\n",
       "      <td>...</td>\n",
       "      <td>...</td>\n",
       "      <td>...</td>\n",
       "      <td>...</td>\n",
       "      <td>...</td>\n",
       "    </tr>\n",
       "    <tr>\n",
       "      <th>962</th>\n",
       "      <td>12</td>\n",
       "      <td>Ra</td>\n",
       "      <td>close perfect game depth system elegant compon...</td>\n",
       "      <td>[complexity]</td>\n",
       "      <td>{'complexity': 'POSITIVE'}</td>\n",
       "    </tr>\n",
       "    <tr>\n",
       "      <th>967</th>\n",
       "      <td>12</td>\n",
       "      <td>Ra</td>\n",
       "      <td>happy play every play often enough request gam...</td>\n",
       "      <td>[luck]</td>\n",
       "      <td>{'luck': 'POSITIVE'}</td>\n",
       "    </tr>\n",
       "    <tr>\n",
       "      <th>977</th>\n",
       "      <td>420385</td>\n",
       "      <td>The Yellow House</td>\n",
       "      <td>interesting hand shedder dont want necessarily...</td>\n",
       "      <td>[downtime]</td>\n",
       "      <td>{'downtime': 'NEGATIVE'}</td>\n",
       "    </tr>\n",
       "    <tr>\n",
       "      <th>984</th>\n",
       "      <td>420385</td>\n",
       "      <td>The Yellow House</td>\n",
       "      <td>designer geonil playing time min weight publis...</td>\n",
       "      <td>[luck, downtime, interaction, complication, co...</td>\n",
       "      <td>{'luck': 'NEGATIVE', 'downtime': 'NEGATIVE', '...</td>\n",
       "    </tr>\n",
       "    <tr>\n",
       "      <th>989</th>\n",
       "      <td>421006</td>\n",
       "      <td>The Lord of the Rings: Duel for Middle-earth</td>\n",
       "      <td>early days looking good indeed artwork excelle...</td>\n",
       "      <td>[interaction]</td>\n",
       "      <td>{'interaction': 'POSITIVE'}</td>\n",
       "    </tr>\n",
       "  </tbody>\n",
       "</table>\n",
       "<p>189 rows × 5 columns</p>\n",
       "</div>"
      ],
      "text/plain": [
       "     Game ID                                     Game Name  \\\n",
       "11    358661                              Andromeda's Edge   \n",
       "12    358661                              Andromeda's Edge   \n",
       "24    358661                              Andromeda's Edge   \n",
       "28    358661                              Andromeda's Edge   \n",
       "33    358661                              Andromeda's Edge   \n",
       "..       ...                                           ...   \n",
       "962       12                                            Ra   \n",
       "967       12                                            Ra   \n",
       "977   420385                              The Yellow House   \n",
       "984   420385                              The Yellow House   \n",
       "989   421006  The Lord of the Rings: Duel for Middle-earth   \n",
       "\n",
       "                                               comment  \\\n",
       "11                            pledged waiting delivery   \n",
       "12   like doe game worker placement game core actio...   \n",
       "24   game relatively easy teach play great componen...   \n",
       "28   best worker placement game ive yet played over...   \n",
       "33   enjoy whatever strategy plan destroyed bad rol...   \n",
       "..                                                 ...   \n",
       "962  close perfect game depth system elegant compon...   \n",
       "967  happy play every play often enough request gam...   \n",
       "977  interesting hand shedder dont want necessarily...   \n",
       "984  designer geonil playing time min weight publis...   \n",
       "989  early days looking good indeed artwork excelle...   \n",
       "\n",
       "                                        custom_aspects  \\\n",
       "11                                          [downtime]   \n",
       "12                          [downtime, read rule book]   \n",
       "24                                              [luck]   \n",
       "28                  [luck, complexity, read rule book]   \n",
       "33                                  [luck, complexity]   \n",
       "..                                                 ...   \n",
       "962                                       [complexity]   \n",
       "967                                             [luck]   \n",
       "977                                         [downtime]   \n",
       "984  [luck, downtime, interaction, complication, co...   \n",
       "989                                      [interaction]   \n",
       "\n",
       "                              custom_aspect_sentiments  \n",
       "11                            {'downtime': 'NEGATIVE'}  \n",
       "12   {'downtime': 'POSITIVE', 'read rule book': 'PO...  \n",
       "24                                {'luck': 'POSITIVE'}  \n",
       "28   {'luck': 'POSITIVE', 'complexity': 'POSITIVE',...  \n",
       "33      {'luck': 'NEGATIVE', 'complexity': 'NEGATIVE'}  \n",
       "..                                                 ...  \n",
       "962                         {'complexity': 'POSITIVE'}  \n",
       "967                               {'luck': 'POSITIVE'}  \n",
       "977                           {'downtime': 'NEGATIVE'}  \n",
       "984  {'luck': 'NEGATIVE', 'downtime': 'NEGATIVE', '...  \n",
       "989                        {'interaction': 'POSITIVE'}  \n",
       "\n",
       "[189 rows x 5 columns]"
      ]
     },
     "execution_count": 65,
     "metadata": {},
     "output_type": "execute_result"
    }
   ],
   "source": [
    "# Filter the DataFrame to keep only rows where 'custom_aspects' is not an empty list\n",
    "df_comments_filtered = df_comments[df_comments['custom_aspects'].apply(lambda x: len(x) > 0)]\n",
    "\n",
    "# Display the filtered DataFrame\n",
    "df_comments_filtered"
   ]
  },
  {
   "cell_type": "code",
   "execution_count": 68,
   "id": "bfffe46d-5b63-4542-9f7e-57315db8dea2",
   "metadata": {},
   "outputs": [
    {
     "name": "stdout",
     "output_type": "stream",
     "text": [
      "Original Comment:\n",
      "game relatively easy teach play great components deluxe combat luck based mitigation increasing number dice number ships combat occasional effects immensely fun surprise lot races chose asymmetric tactical cards meaningful fun play raiders fun combat rarely menace game session might run longer side despite basic actions commerce track might difference winning lose found occupies enormous table space\n",
      "\n",
      "Aspect Sentiments:\n"
     ]
    },
    {
     "ename": "TypeError",
     "evalue": "string indices must be integers, not 'str'",
     "output_type": "error",
     "traceback": [
      "\u001b[1;31m---------------------------------------------------------------------------\u001b[0m",
      "\u001b[1;31mTypeError\u001b[0m                                 Traceback (most recent call last)",
      "Cell \u001b[1;32mIn[68], line 11\u001b[0m\n\u001b[0;32m      9\u001b[0m \u001b[38;5;28mprint\u001b[39m(\u001b[38;5;124m\"\u001b[39m\u001b[38;5;130;01m\\n\u001b[39;00m\u001b[38;5;124mAspect Sentiments:\u001b[39m\u001b[38;5;124m\"\u001b[39m)\n\u001b[0;32m     10\u001b[0m \u001b[38;5;28;01mfor\u001b[39;00m aspect, sentiment \u001b[38;5;129;01min\u001b[39;00m sample_comment[\u001b[38;5;124m'\u001b[39m\u001b[38;5;124mcustom_aspect_sentiments\u001b[39m\u001b[38;5;124m'\u001b[39m]\u001b[38;5;241m.\u001b[39mitems():\n\u001b[1;32m---> 11\u001b[0m     \u001b[38;5;28mprint\u001b[39m(\u001b[38;5;124mf\u001b[39m\u001b[38;5;124m\"\u001b[39m\u001b[38;5;124mAspect: \u001b[39m\u001b[38;5;132;01m{\u001b[39;00maspect\u001b[38;5;132;01m}\u001b[39;00m\u001b[38;5;124m, Sentiment: \u001b[39m\u001b[38;5;132;01m{\u001b[39;00m\u001b[43msentiment\u001b[49m\u001b[43m[\u001b[49m\u001b[38;5;124;43m'\u001b[39;49m\u001b[38;5;124;43mlabel\u001b[39;49m\u001b[38;5;124;43m'\u001b[39;49m\u001b[43m]\u001b[49m\u001b[38;5;132;01m}\u001b[39;00m\u001b[38;5;124m, Score: \u001b[39m\u001b[38;5;132;01m{\u001b[39;00msentiment[\u001b[38;5;124m'\u001b[39m\u001b[38;5;124mscore\u001b[39m\u001b[38;5;124m'\u001b[39m]\u001b[38;5;132;01m:\u001b[39;00m\u001b[38;5;124m.2f\u001b[39m\u001b[38;5;132;01m}\u001b[39;00m\u001b[38;5;124m\"\u001b[39m)\n",
      "\u001b[1;31mTypeError\u001b[0m: string indices must be integers, not 'str'"
     ]
    }
   ],
   "source": [
    "#df_comments_filtered['comment'][967]\n",
    "\n",
    "# analyze output results\n",
    "sample_index = 2  # Change this to see different comments\n",
    "sample_comment = df_comments_filtered.iloc[sample_index]\n",
    "\n",
    "print(\"Original Comment:\")\n",
    "print(sample_comment['comment'])\n",
    "print(\"\\nAspect Sentiments:\")\n",
    "for aspect, sentiment in sample_comment['custom_aspect_sentiments'].items():\n",
    "    print(f\"Aspect: {aspect}, Sentiment: {sentiment['label']}, Score: {sentiment['score']:.2f}\")\n"
   ]
  },
  {
   "cell_type": "code",
   "execution_count": 27,
   "id": "e31413bc-900c-4c83-ad60-8d2b69657017",
   "metadata": {},
   "outputs": [
    {
     "data": {
      "text/html": [
       "<div>\n",
       "<style scoped>\n",
       "    .dataframe tbody tr th:only-of-type {\n",
       "        vertical-align: middle;\n",
       "    }\n",
       "\n",
       "    .dataframe tbody tr th {\n",
       "        vertical-align: top;\n",
       "    }\n",
       "\n",
       "    .dataframe thead th {\n",
       "        text-align: right;\n",
       "    }\n",
       "</style>\n",
       "<table border=\"1\" class=\"dataframe\">\n",
       "  <thead>\n",
       "    <tr style=\"text-align: right;\">\n",
       "      <th></th>\n",
       "      <th>Game Name</th>\n",
       "      <th>Aspect</th>\n",
       "      <th>Sentiment</th>\n",
       "    </tr>\n",
       "  </thead>\n",
       "  <tbody>\n",
       "    <tr>\n",
       "      <th>0</th>\n",
       "      <td>Andromeda's Edge</td>\n",
       "      <td>downtime</td>\n",
       "      <td>NEGATIVE</td>\n",
       "    </tr>\n",
       "    <tr>\n",
       "      <th>1</th>\n",
       "      <td>Andromeda's Edge</td>\n",
       "      <td>downtime</td>\n",
       "      <td>POSITIVE</td>\n",
       "    </tr>\n",
       "    <tr>\n",
       "      <th>2</th>\n",
       "      <td>Andromeda's Edge</td>\n",
       "      <td>read rule book</td>\n",
       "      <td>POSITIVE</td>\n",
       "    </tr>\n",
       "    <tr>\n",
       "      <th>3</th>\n",
       "      <td>Andromeda's Edge</td>\n",
       "      <td>luck</td>\n",
       "      <td>POSITIVE</td>\n",
       "    </tr>\n",
       "    <tr>\n",
       "      <th>4</th>\n",
       "      <td>Andromeda's Edge</td>\n",
       "      <td>luck</td>\n",
       "      <td>NEGATIVE</td>\n",
       "    </tr>\n",
       "    <tr>\n",
       "      <th>...</th>\n",
       "      <td>...</td>\n",
       "      <td>...</td>\n",
       "      <td>...</td>\n",
       "    </tr>\n",
       "    <tr>\n",
       "      <th>275</th>\n",
       "      <td>The Yellow House</td>\n",
       "      <td>interaction</td>\n",
       "      <td>NEGATIVE</td>\n",
       "    </tr>\n",
       "    <tr>\n",
       "      <th>276</th>\n",
       "      <td>The Yellow House</td>\n",
       "      <td>complication</td>\n",
       "      <td>NEGATIVE</td>\n",
       "    </tr>\n",
       "    <tr>\n",
       "      <th>277</th>\n",
       "      <td>The Yellow House</td>\n",
       "      <td>complexity</td>\n",
       "      <td>POSITIVE</td>\n",
       "    </tr>\n",
       "    <tr>\n",
       "      <th>278</th>\n",
       "      <td>The Yellow House</td>\n",
       "      <td>read rule book</td>\n",
       "      <td>POSITIVE</td>\n",
       "    </tr>\n",
       "    <tr>\n",
       "      <th>279</th>\n",
       "      <td>The Lord of the Rings: Duel for Middle-earth</td>\n",
       "      <td>interaction</td>\n",
       "      <td>POSITIVE</td>\n",
       "    </tr>\n",
       "  </tbody>\n",
       "</table>\n",
       "<p>280 rows × 3 columns</p>\n",
       "</div>"
      ],
      "text/plain": [
       "                                        Game Name          Aspect Sentiment\n",
       "0                                Andromeda's Edge        downtime  NEGATIVE\n",
       "1                                Andromeda's Edge        downtime  POSITIVE\n",
       "2                                Andromeda's Edge  read rule book  POSITIVE\n",
       "3                                Andromeda's Edge            luck  POSITIVE\n",
       "4                                Andromeda's Edge            luck  NEGATIVE\n",
       "..                                            ...             ...       ...\n",
       "275                              The Yellow House     interaction  NEGATIVE\n",
       "276                              The Yellow House    complication  NEGATIVE\n",
       "277                              The Yellow House      complexity  POSITIVE\n",
       "278                              The Yellow House  read rule book  POSITIVE\n",
       "279  The Lord of the Rings: Duel for Middle-earth     interaction  POSITIVE\n",
       "\n",
       "[280 rows x 3 columns]"
      ]
     },
     "execution_count": 27,
     "metadata": {},
     "output_type": "execute_result"
    }
   ],
   "source": [
    "# Convert 'custom_aspect_sentiments' into a list of (aspect, sentiment) pairs for easy analysis\n",
    "aspect_sentiment_pairs = []\n",
    "\n",
    "for index, row in df_comments.iterrows():\n",
    "    aspect_sentiments = row['custom_aspect_sentiments']\n",
    "    game_name = row['Game Name']\n",
    "    for aspect, sentiment in aspect_sentiments.items():\n",
    "        aspect_sentiment_pairs.append((game_name,aspect, sentiment))\n",
    "\n",
    "# Create a DataFrame for aspect-sentiment pairs\n",
    "df_aspect_sentiments = pd.DataFrame(aspect_sentiment_pairs, columns=['Game Name','Aspect', 'Sentiment'])\n",
    "df_aspect_sentiments"
   ]
  },
  {
   "cell_type": "code",
   "execution_count": null,
   "id": "9a4bc32e-1515-405f-9ebb-fa27a990c74a",
   "metadata": {},
   "outputs": [],
   "source": [
    "def aspect_based_sentiment_analysis(text):\n",
    "    results = {}\n",
    "    sentences = nltk.sent_tokenize(text)\n",
    "    for aspect in aspects:\n",
    "        aspect_sentences = [sentence for sentence in sentences if aspect in sentence.lower()]\n",
    "        if aspect_sentences:\n",
    "            aspect_text = ' '.join(aspect_sentences)\n",
    "            sentiment = sentiment_pipeline(aspect_text)\n",
    "            results[aspect] = sentiment[0]\n",
    "    return results\n",
    "\n",
    "df_comments['aspect_sentiments'] = df_comments['comment'].apply(aspect_based_sentiment_analysis)\n"
   ]
  },
  {
   "cell_type": "code",
   "execution_count": 90,
   "id": "c4bc6920-8644-4358-b183-2bf607a09ef4",
   "metadata": {},
   "outputs": [
    {
     "name": "stderr",
     "output_type": "stream",
     "text": [
      "Some weights of the model checkpoint at dbmdz/bert-large-cased-finetuned-conll03-english were not used when initializing BertForTokenClassification: ['bert.pooler.dense.bias', 'bert.pooler.dense.weight']\n",
      "- This IS expected if you are initializing BertForTokenClassification from the checkpoint of a model trained on another task or with another architecture (e.g. initializing a BertForSequenceClassification model from a BertForPreTraining model).\n",
      "- This IS NOT expected if you are initializing BertForTokenClassification from the checkpoint of a model that you expect to be exactly identical (initializing a BertForSequenceClassification model from a BertForSequenceClassification model).\n",
      "C:\\Users\\ZStravij\\AppData\\Local\\Programs\\Python\\Python311\\Lib\\site-packages\\transformers\\pipelines\\token_classification.py:170: UserWarning: `grouped_entities` is deprecated and will be removed in version v5.0.0, defaulted to `aggregation_strategy=\"AggregationStrategy.SIMPLE\"` instead.\n",
      "  warnings.warn(\n",
      "No model was supplied, defaulted to distilbert/distilbert-base-uncased-finetuned-sst-2-english and revision 714eb0f (https://huggingface.co/distilbert/distilbert-base-uncased-finetuned-sst-2-english).\n",
      "Using a pipeline without specifying a model name and revision in production is not recommended.\n"
     ]
    }
   ],
   "source": [
    "# Step 1: Load models\n",
    "from transformers import AutoTokenizer, AutoModelForTokenClassification, pipeline\n",
    "from transformers import pipeline as sentiment_pipeline\n",
    "import nltk\n",
    "\n",
    "# Initialize NER and Sentiment Analysis pipelines\n",
    "tokenizer = AutoTokenizer.from_pretrained(\"dbmdz/bert-large-cased-finetuned-conll03-english\")\n",
    "model = AutoModelForTokenClassification.from_pretrained(\"dbmdz/bert-large-cased-finetuned-conll03-english\")\n",
    "ner_pipeline = pipeline(\"ner\", model=model, tokenizer=tokenizer, grouped_entities=True)\n",
    "sentiment_pipeline = pipeline('sentiment-analysis')\n",
    "\n",
    "# Step 2: Aspect extraction function\n",
    "def extract_aspects(text):\n",
    "    ner_results = ner_pipeline(text)\n",
    "    aspects = [entity['word'] for entity in ner_results if entity['entity_group'] in ['ORG', 'MISC', 'PER', 'LOC']]\n",
    "    return aspects\n",
    "\n",
    "# Step 3: Sentiment Analysis function\n",
    "def aspect_sentiment_analysis(text, aspects):\n",
    "    sentences = nltk.sent_tokenize(text)\n",
    "    aspect_sentiments = {}\n",
    "    for aspect in aspects:\n",
    "        aspect_sentences = [sentence for sentence in sentences if aspect in sentence]\n",
    "        if aspect_sentences:\n",
    "            aspect_text = ' '.join(aspect_sentences)\n",
    "            sentiment = sentiment_pipeline(aspect_text)\n",
    "            aspect_sentiments[aspect] = sentiment[0]['label']\n",
    "    return aspect_sentiments"
   ]
  },
  {
   "cell_type": "code",
   "execution_count": null,
   "id": "be18ac3c-61f4-442a-80ba-d31c63400996",
   "metadata": {},
   "outputs": [],
   "source": [
    "df_comments['aspects'] = df_comments['comment'].apply(extract_aspects)\n",
    "df_comments['aspect_sentiments'] = df_comments.apply(\n",
    "    lambda row: aspect_sentiment_analysis(row['comment'], row['aspects']), axis=1)\n",
    "\n",
    "print(df_comments[['comment', 'aspects', 'aspect_sentiments']].head())"
   ]
  },
  {
   "cell_type": "code",
   "execution_count": 92,
   "id": "8972dfe5-3d8e-436a-bfec-a8b92f8e74b1",
   "metadata": {},
   "outputs": [
    {
     "name": "stdout",
     "output_type": "stream",
     "text": [
      "(0, '0.024*\":\" + 0.018*\".\" + 0.017*\"the\" + 0.011*\"and\" + 0.011*\"]\"')\n",
      "(1, '0.063*\".\" + 0.024*\"the\" + 0.023*\"game\" + 0.021*\"is\" + 0.018*\",\"')\n",
      "(2, '0.045*\".\" + 0.043*\"the\" + 0.037*\",\" + 0.026*\"to\" + 0.026*\"and\"')\n",
      "(3, '0.041*\"the\" + 0.038*\",\" + 0.026*\".\" + 0.022*\"to\" + 0.016*\"a\"')\n",
      "(4, '0.046*\".\" + 0.043*\"the\" + 0.036*\",\" + 0.022*\"to\" + 0.022*\"a\"')\n",
      "(5, '0.093*\":\" + 0.028*\":star\" + 0.027*\")\" + 0.025*\"(\" + 0.018*\"the\"')\n"
     ]
    }
   ],
   "source": [
    "from gensim import corpora, models\n",
    "\n",
    "# Tokenize the text and prepare the data for LDA\n",
    "tokenized_comments = [nltk.word_tokenize(comment.lower()) for comment in df_comments['comment']]\n",
    "dictionary = corpora.Dictionary(tokenized_comments)\n",
    "corpus = [dictionary.doc2bow(text) for text in tokenized_comments]\n",
    "\n",
    "# Train the LDA model\n",
    "lda_model = models.LdaModel(corpus, num_topics=6, id2word=dictionary, passes=15)\n",
    "\n",
    "# Print topics and their top words\n",
    "topics = lda_model.print_topics(num_words=5)\n",
    "for topic in topics:\n",
    "    print(topic)\n"
   ]
  },
  {
   "cell_type": "code",
   "execution_count": null,
   "id": "f1453320-4f81-4d57-92e0-87b6a88431dc",
   "metadata": {},
   "outputs": [],
   "source": [
    "tokenized_comments[0:5]"
   ]
  },
  {
   "cell_type": "code",
   "execution_count": null,
   "id": "4223891f-c248-4dd6-81a7-98b3cd524bc2",
   "metadata": {},
   "outputs": [],
   "source": [
    "#pip install aspect_based_sentiment_analysis"
   ]
  },
  {
   "cell_type": "code",
   "execution_count": null,
   "id": "b9b73622-d567-485f-9d9c-6d80c1ca2cfc",
   "metadata": {},
   "outputs": [],
   "source": [
    "#pip install tf-keras"
   ]
  },
  {
   "cell_type": "code",
   "execution_count": null,
   "id": "244d48c5-e5e4-4ca0-a6a0-e2450e4cfe78",
   "metadata": {},
   "outputs": [],
   "source": [
    "# below it is not working due --> RecursionError: maximum recursion depth exceeded"
   ]
  },
  {
   "cell_type": "raw",
   "id": "67a8cf49-dbed-422c-bfb1-40589d538939",
   "metadata": {},
   "source": [
    "import aspect_based_sentiment_analysis as absa\n",
    "\n",
    "nlp = absa.load()\n",
    "text = (\"We are great fans of Slack, but we wish the subscriptions \"\n",
    "        \"were more accessible to small startups.\")\n",
    "\n",
    "slack, price = nlp(text, aspects=['slack', 'price'])\n",
    "assert price.sentiment == absa.Sentiment.negative\n",
    "assert slack.sentiment == absa.Sentiment.positive"
   ]
  }
 ],
 "metadata": {
  "kernelspec": {
   "display_name": "Python 3 (ipykernel)",
   "language": "python",
   "name": "python3"
  },
  "language_info": {
   "codemirror_mode": {
    "name": "ipython",
    "version": 3
   },
   "file_extension": ".py",
   "mimetype": "text/x-python",
   "name": "python",
   "nbconvert_exporter": "python",
   "pygments_lexer": "ipython3",
   "version": "3.11.5"
  }
 },
 "nbformat": 4,
 "nbformat_minor": 5
}
